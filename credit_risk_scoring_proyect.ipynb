{
 "cells": [
  {
   "cell_type": "markdown",
   "id": "8588e4a6",
   "metadata": {},
   "source": [
    "# - Credict risk scoring - Proyect"
   ]
  },
  {
   "cell_type": "code",
   "execution_count": 1,
   "id": "ad5b70ff",
   "metadata": {},
   "outputs": [],
   "source": [
    "__author__ = \"Jorge Aliaga Luque\"\n",
    "__website__ = \"https://jorgealiaga36.github.io/jorge-aliaga-luque/\""
   ]
  },
  {
   "cell_type": "markdown",
   "id": "f352e426",
   "metadata": {},
   "source": [
    "The main goal of this proyect is to apply machine learning to predict whether a customer will fail to pay back a loan (default prediction).\n",
    "\n",
    "Imagine that we work at a bank. When we receive a loan application, we need to make sure that if we give the money, the customer will be able to pay it back. Every application carries a risk of default — the failure to return the money. We’d like to minimize this risk: before agreeing to give a loan, we want to score the customer and assess the chances of default. If it’s too high, we reject the application. This process is called “credit risk scoring.\n",
    "\n",
    "We will study different models and we will select the best one for our proyect."
   ]
  },
  {
   "cell_type": "markdown",
   "id": "61be2431",
   "metadata": {},
   "source": [
    "## Table of Contents\n",
    "\n",
    "- [**1. Reading and preparing data**](#ap1)\n",
    "\n",
    "\n",
    "- [**2. Exploratory data analysis**](#ap2)\n",
    "\n",
    "    - 2.1. [Missing values](#ap2_1)\n",
    "    - 2.2. [Target variable](#ap2_2)\n",
    "    \n",
    "    \n",
    " \n",
    "- [**3. Data preprocessing and feature engineering**](#ap3)\n",
    "\n",
    "    - 3.1. [Feature scaling](#ap3_1)\n",
    "    - 3.2. [One-hot encoding](#ap3_2)\n",
    "    \n",
    "        \n",
    "    \n",
    "- [**4. Model fitting and selection**](#ap4)\n",
    "\n",
    "    - 4.1. [Logistic Regression](#ap4_1)\n",
    "    - 4.2. [Decision Trees](#ap4_2)\n",
    "    - 4.3. [Random Forest](#ap4_3)\n",
    "    - 4.4. [SVM](#ap4_4)\n",
    "    - 4.5. [XGBoost](#ap4_5)\n",
    "    \n",
    "        \n",
    "\n",
    "- [**5. Comparison between models**](#ap5)"
   ]
  },
  {
   "cell_type": "markdown",
   "id": "741613c7",
   "metadata": {},
   "source": [
    "### Import libraries"
   ]
  },
  {
   "cell_type": "code",
   "execution_count": 36,
   "id": "38a99f35",
   "metadata": {},
   "outputs": [],
   "source": [
    "import pandas as pd\n",
    "import numpy as np\n",
    "import seaborn as sns\n",
    "\n",
    "from matplotlib import pyplot as plt\n",
    "%matplotlib inline\n",
    "\n",
    "from sklearn.preprocessing import StandardScaler\n",
    "from sklearn.linear_model import LogisticRegression\n",
    "from sklearn.tree import DecisionTreeClassifier\n",
    "from sklearn.ensemble import RandomForestClassifier\n",
    "from sklearn.svm import SVC\n",
    "from sklearn.model_selection import train_test_split, GridSearchCV\n",
    "from sklearn.metrics import roc_auc_score, roc_curve, accuracy_score\n",
    "\n",
    "from xgboost import XGBClassifier\n",
    "\n",
    "import warnings\n",
    "warnings.simplefilter(action='ignore', category=(FutureWarning, UserWarning))\n",
    "\n",
    "sns.set_style('darkgrid')"
   ]
  },
  {
   "cell_type": "markdown",
   "id": "d4ac5952",
   "metadata": {},
   "source": [
    "<a name=\"ap1\"></a>\n",
    "# 1. Reading and preparing data"
   ]
  },
  {
   "cell_type": "markdown",
   "id": "38b918ed",
   "metadata": {},
   "source": [
    "### Load data"
   ]
  },
  {
   "cell_type": "code",
   "execution_count": 5,
   "id": "f32b2e3f",
   "metadata": {},
   "outputs": [
    {
     "name": "stdout",
     "output_type": "stream",
     "text": [
      "Number of examples: 4455\n"
     ]
    },
    {
     "data": {
      "text/html": [
       "<div>\n",
       "<style scoped>\n",
       "    .dataframe tbody tr th:only-of-type {\n",
       "        vertical-align: middle;\n",
       "    }\n",
       "\n",
       "    .dataframe tbody tr th {\n",
       "        vertical-align: top;\n",
       "    }\n",
       "\n",
       "    .dataframe thead th {\n",
       "        text-align: right;\n",
       "    }\n",
       "</style>\n",
       "<table border=\"1\" class=\"dataframe\">\n",
       "  <thead>\n",
       "    <tr style=\"text-align: right;\">\n",
       "      <th></th>\n",
       "      <th>Status</th>\n",
       "      <th>Seniority</th>\n",
       "      <th>Home</th>\n",
       "      <th>Time</th>\n",
       "      <th>Age</th>\n",
       "      <th>Marital</th>\n",
       "      <th>Records</th>\n",
       "      <th>Job</th>\n",
       "      <th>Expenses</th>\n",
       "      <th>Income</th>\n",
       "      <th>Assets</th>\n",
       "      <th>Debt</th>\n",
       "      <th>Amount</th>\n",
       "      <th>Price</th>\n",
       "    </tr>\n",
       "  </thead>\n",
       "  <tbody>\n",
       "    <tr>\n",
       "      <th>0</th>\n",
       "      <td>1</td>\n",
       "      <td>9</td>\n",
       "      <td>1</td>\n",
       "      <td>60</td>\n",
       "      <td>30</td>\n",
       "      <td>2</td>\n",
       "      <td>1</td>\n",
       "      <td>3</td>\n",
       "      <td>73</td>\n",
       "      <td>129</td>\n",
       "      <td>0</td>\n",
       "      <td>0</td>\n",
       "      <td>800</td>\n",
       "      <td>846</td>\n",
       "    </tr>\n",
       "    <tr>\n",
       "      <th>1</th>\n",
       "      <td>1</td>\n",
       "      <td>17</td>\n",
       "      <td>1</td>\n",
       "      <td>60</td>\n",
       "      <td>58</td>\n",
       "      <td>3</td>\n",
       "      <td>1</td>\n",
       "      <td>1</td>\n",
       "      <td>48</td>\n",
       "      <td>131</td>\n",
       "      <td>0</td>\n",
       "      <td>0</td>\n",
       "      <td>1000</td>\n",
       "      <td>1658</td>\n",
       "    </tr>\n",
       "    <tr>\n",
       "      <th>2</th>\n",
       "      <td>2</td>\n",
       "      <td>10</td>\n",
       "      <td>2</td>\n",
       "      <td>36</td>\n",
       "      <td>46</td>\n",
       "      <td>2</td>\n",
       "      <td>2</td>\n",
       "      <td>3</td>\n",
       "      <td>90</td>\n",
       "      <td>200</td>\n",
       "      <td>3000</td>\n",
       "      <td>0</td>\n",
       "      <td>2000</td>\n",
       "      <td>2985</td>\n",
       "    </tr>\n",
       "    <tr>\n",
       "      <th>3</th>\n",
       "      <td>1</td>\n",
       "      <td>0</td>\n",
       "      <td>1</td>\n",
       "      <td>60</td>\n",
       "      <td>24</td>\n",
       "      <td>1</td>\n",
       "      <td>1</td>\n",
       "      <td>1</td>\n",
       "      <td>63</td>\n",
       "      <td>182</td>\n",
       "      <td>2500</td>\n",
       "      <td>0</td>\n",
       "      <td>900</td>\n",
       "      <td>1325</td>\n",
       "    </tr>\n",
       "    <tr>\n",
       "      <th>4</th>\n",
       "      <td>1</td>\n",
       "      <td>0</td>\n",
       "      <td>1</td>\n",
       "      <td>36</td>\n",
       "      <td>26</td>\n",
       "      <td>1</td>\n",
       "      <td>1</td>\n",
       "      <td>1</td>\n",
       "      <td>46</td>\n",
       "      <td>107</td>\n",
       "      <td>0</td>\n",
       "      <td>0</td>\n",
       "      <td>310</td>\n",
       "      <td>910</td>\n",
       "    </tr>\n",
       "  </tbody>\n",
       "</table>\n",
       "</div>"
      ],
      "text/plain": [
       "   Status  Seniority  Home  Time  Age  Marital  Records  Job  Expenses  \\\n",
       "0       1          9     1    60   30        2        1    3        73   \n",
       "1       1         17     1    60   58        3        1    1        48   \n",
       "2       2         10     2    36   46        2        2    3        90   \n",
       "3       1          0     1    60   24        1        1    1        63   \n",
       "4       1          0     1    36   26        1        1    1        46   \n",
       "\n",
       "   Income  Assets  Debt  Amount  Price  \n",
       "0     129       0     0     800    846  \n",
       "1     131       0     0    1000   1658  \n",
       "2     200    3000     0    2000   2985  \n",
       "3     182    2500     0     900   1325  \n",
       "4     107       0     0     310    910  "
      ]
     },
     "execution_count": 5,
     "metadata": {},
     "output_type": "execute_result"
    }
   ],
   "source": [
    "df = pd.read_csv(\"datasets/CreditScoring.csv\")\n",
    "\n",
    "print(\"Number of examples: {}\".format(len(df)))\n",
    "df.head()"
   ]
  },
  {
   "cell_type": "markdown",
   "id": "143de35e",
   "metadata": {},
   "source": [
    "### Data preparation"
   ]
  },
  {
   "cell_type": "code",
   "execution_count": 6,
   "id": "db74fc99",
   "metadata": {},
   "outputs": [
    {
     "name": "stdout",
     "output_type": "stream",
     "text": [
      "<class 'pandas.core.frame.DataFrame'>\n",
      "RangeIndex: 4455 entries, 0 to 4454\n",
      "Data columns (total 14 columns):\n",
      " #   Column     Non-Null Count  Dtype\n",
      "---  ------     --------------  -----\n",
      " 0   Status     4455 non-null   int64\n",
      " 1   Seniority  4455 non-null   int64\n",
      " 2   Home       4455 non-null   int64\n",
      " 3   Time       4455 non-null   int64\n",
      " 4   Age        4455 non-null   int64\n",
      " 5   Marital    4455 non-null   int64\n",
      " 6   Records    4455 non-null   int64\n",
      " 7   Job        4455 non-null   int64\n",
      " 8   Expenses   4455 non-null   int64\n",
      " 9   Income     4455 non-null   int64\n",
      " 10  Assets     4455 non-null   int64\n",
      " 11  Debt       4455 non-null   int64\n",
      " 12  Amount     4455 non-null   int64\n",
      " 13  Price      4455 non-null   int64\n",
      "dtypes: int64(14)\n",
      "memory usage: 487.4 KB\n"
     ]
    }
   ],
   "source": [
    "df.info()"
   ]
  },
  {
   "cell_type": "markdown",
   "id": "184e6c6d",
   "metadata": {},
   "source": [
    "First, we can write columns indexes into lower case:"
   ]
  },
  {
   "cell_type": "code",
   "execution_count": 7,
   "id": "90ebccee",
   "metadata": {
    "scrolled": true
   },
   "outputs": [
    {
     "data": {
      "text/html": [
       "<div>\n",
       "<style scoped>\n",
       "    .dataframe tbody tr th:only-of-type {\n",
       "        vertical-align: middle;\n",
       "    }\n",
       "\n",
       "    .dataframe tbody tr th {\n",
       "        vertical-align: top;\n",
       "    }\n",
       "\n",
       "    .dataframe thead th {\n",
       "        text-align: right;\n",
       "    }\n",
       "</style>\n",
       "<table border=\"1\" class=\"dataframe\">\n",
       "  <thead>\n",
       "    <tr style=\"text-align: right;\">\n",
       "      <th></th>\n",
       "      <th>status</th>\n",
       "      <th>seniority</th>\n",
       "      <th>home</th>\n",
       "      <th>time</th>\n",
       "      <th>age</th>\n",
       "      <th>marital</th>\n",
       "      <th>records</th>\n",
       "      <th>job</th>\n",
       "      <th>expenses</th>\n",
       "      <th>income</th>\n",
       "      <th>assets</th>\n",
       "      <th>debt</th>\n",
       "      <th>amount</th>\n",
       "      <th>price</th>\n",
       "    </tr>\n",
       "  </thead>\n",
       "  <tbody>\n",
       "    <tr>\n",
       "      <th>0</th>\n",
       "      <td>1</td>\n",
       "      <td>9</td>\n",
       "      <td>1</td>\n",
       "      <td>60</td>\n",
       "      <td>30</td>\n",
       "      <td>2</td>\n",
       "      <td>1</td>\n",
       "      <td>3</td>\n",
       "      <td>73</td>\n",
       "      <td>129</td>\n",
       "      <td>0</td>\n",
       "      <td>0</td>\n",
       "      <td>800</td>\n",
       "      <td>846</td>\n",
       "    </tr>\n",
       "    <tr>\n",
       "      <th>1</th>\n",
       "      <td>1</td>\n",
       "      <td>17</td>\n",
       "      <td>1</td>\n",
       "      <td>60</td>\n",
       "      <td>58</td>\n",
       "      <td>3</td>\n",
       "      <td>1</td>\n",
       "      <td>1</td>\n",
       "      <td>48</td>\n",
       "      <td>131</td>\n",
       "      <td>0</td>\n",
       "      <td>0</td>\n",
       "      <td>1000</td>\n",
       "      <td>1658</td>\n",
       "    </tr>\n",
       "    <tr>\n",
       "      <th>2</th>\n",
       "      <td>2</td>\n",
       "      <td>10</td>\n",
       "      <td>2</td>\n",
       "      <td>36</td>\n",
       "      <td>46</td>\n",
       "      <td>2</td>\n",
       "      <td>2</td>\n",
       "      <td>3</td>\n",
       "      <td>90</td>\n",
       "      <td>200</td>\n",
       "      <td>3000</td>\n",
       "      <td>0</td>\n",
       "      <td>2000</td>\n",
       "      <td>2985</td>\n",
       "    </tr>\n",
       "    <tr>\n",
       "      <th>3</th>\n",
       "      <td>1</td>\n",
       "      <td>0</td>\n",
       "      <td>1</td>\n",
       "      <td>60</td>\n",
       "      <td>24</td>\n",
       "      <td>1</td>\n",
       "      <td>1</td>\n",
       "      <td>1</td>\n",
       "      <td>63</td>\n",
       "      <td>182</td>\n",
       "      <td>2500</td>\n",
       "      <td>0</td>\n",
       "      <td>900</td>\n",
       "      <td>1325</td>\n",
       "    </tr>\n",
       "    <tr>\n",
       "      <th>4</th>\n",
       "      <td>1</td>\n",
       "      <td>0</td>\n",
       "      <td>1</td>\n",
       "      <td>36</td>\n",
       "      <td>26</td>\n",
       "      <td>1</td>\n",
       "      <td>1</td>\n",
       "      <td>1</td>\n",
       "      <td>46</td>\n",
       "      <td>107</td>\n",
       "      <td>0</td>\n",
       "      <td>0</td>\n",
       "      <td>310</td>\n",
       "      <td>910</td>\n",
       "    </tr>\n",
       "  </tbody>\n",
       "</table>\n",
       "</div>"
      ],
      "text/plain": [
       "   status  seniority  home  time  age  marital  records  job  expenses  \\\n",
       "0       1          9     1    60   30        2        1    3        73   \n",
       "1       1         17     1    60   58        3        1    1        48   \n",
       "2       2         10     2    36   46        2        2    3        90   \n",
       "3       1          0     1    60   24        1        1    1        63   \n",
       "4       1          0     1    36   26        1        1    1        46   \n",
       "\n",
       "   income  assets  debt  amount  price  \n",
       "0     129       0     0     800    846  \n",
       "1     131       0     0    1000   1658  \n",
       "2     200    3000     0    2000   2985  \n",
       "3     182    2500     0     900   1325  \n",
       "4     107       0     0     310    910  "
      ]
     },
     "execution_count": 7,
     "metadata": {},
     "output_type": "execute_result"
    }
   ],
   "source": [
    "df.columns = df.columns.str.lower()\n",
    "df.head()"
   ]
  },
  {
   "cell_type": "markdown",
   "id": "8495ec4c",
   "metadata": {},
   "source": [
    "Although most of the columns are numerical, some are categorical: status, home, marital [status], records, and job. The values we see in the DataFrame, however, are numbers, not strings. This means that we need to translate them to their actual names."
   ]
  },
  {
   "cell_type": "code",
   "execution_count": 8,
   "id": "9cd91bc2",
   "metadata": {},
   "outputs": [],
   "source": [
    "status_values = {\n",
    "     1: 'ok',\n",
    "     2: 'default',\n",
    "     0: 'unk'\n",
    " }\n",
    "\n",
    "home_values = {\n",
    "    1: 'rent',\n",
    "    2: 'owner',\n",
    "    3: 'private',\n",
    "    4: 'ignore',\n",
    "    5: 'parents',\n",
    "    6: 'other',\n",
    "    0: 'unk'\n",
    "}\n",
    "\n",
    "marital_values = {\n",
    "    1: 'single',\n",
    "    2: 'married',\n",
    "    3: 'widow',\n",
    "    4: 'separated',\n",
    "    5: 'divorced',\n",
    "    0: 'unk'\n",
    "}\n",
    "\n",
    "records_values = {\n",
    "    1: 'no',\n",
    "    2: 'yes',\n",
    "    0: 'unk'\n",
    "}\n",
    "\n",
    "job_values = {\n",
    "    1: 'fixed',\n",
    "    2: 'partime',\n",
    "    3: 'freelance',\n",
    "    4: 'others',\n",
    "    0: 'unk'\n",
    "}\n",
    "\n",
    "\n",
    "df.status = df.status.map(status_values)\n",
    "df.home = df.home.map(home_values)\n",
    "df.marital = df.marital.map(marital_values)\n",
    "df.records = df.records.map(records_values)\n",
    "df.job = df.job.map(job_values)"
   ]
  },
  {
   "cell_type": "code",
   "execution_count": 9,
   "id": "44b60d79",
   "metadata": {},
   "outputs": [
    {
     "data": {
      "text/html": [
       "<div>\n",
       "<style scoped>\n",
       "    .dataframe tbody tr th:only-of-type {\n",
       "        vertical-align: middle;\n",
       "    }\n",
       "\n",
       "    .dataframe tbody tr th {\n",
       "        vertical-align: top;\n",
       "    }\n",
       "\n",
       "    .dataframe thead th {\n",
       "        text-align: right;\n",
       "    }\n",
       "</style>\n",
       "<table border=\"1\" class=\"dataframe\">\n",
       "  <thead>\n",
       "    <tr style=\"text-align: right;\">\n",
       "      <th></th>\n",
       "      <th>status</th>\n",
       "      <th>seniority</th>\n",
       "      <th>home</th>\n",
       "      <th>time</th>\n",
       "      <th>age</th>\n",
       "      <th>marital</th>\n",
       "      <th>records</th>\n",
       "      <th>job</th>\n",
       "      <th>expenses</th>\n",
       "      <th>income</th>\n",
       "      <th>assets</th>\n",
       "      <th>debt</th>\n",
       "      <th>amount</th>\n",
       "      <th>price</th>\n",
       "    </tr>\n",
       "  </thead>\n",
       "  <tbody>\n",
       "    <tr>\n",
       "      <th>0</th>\n",
       "      <td>ok</td>\n",
       "      <td>9</td>\n",
       "      <td>rent</td>\n",
       "      <td>60</td>\n",
       "      <td>30</td>\n",
       "      <td>married</td>\n",
       "      <td>no</td>\n",
       "      <td>freelance</td>\n",
       "      <td>73</td>\n",
       "      <td>129</td>\n",
       "      <td>0</td>\n",
       "      <td>0</td>\n",
       "      <td>800</td>\n",
       "      <td>846</td>\n",
       "    </tr>\n",
       "    <tr>\n",
       "      <th>1</th>\n",
       "      <td>ok</td>\n",
       "      <td>17</td>\n",
       "      <td>rent</td>\n",
       "      <td>60</td>\n",
       "      <td>58</td>\n",
       "      <td>widow</td>\n",
       "      <td>no</td>\n",
       "      <td>fixed</td>\n",
       "      <td>48</td>\n",
       "      <td>131</td>\n",
       "      <td>0</td>\n",
       "      <td>0</td>\n",
       "      <td>1000</td>\n",
       "      <td>1658</td>\n",
       "    </tr>\n",
       "    <tr>\n",
       "      <th>2</th>\n",
       "      <td>default</td>\n",
       "      <td>10</td>\n",
       "      <td>owner</td>\n",
       "      <td>36</td>\n",
       "      <td>46</td>\n",
       "      <td>married</td>\n",
       "      <td>yes</td>\n",
       "      <td>freelance</td>\n",
       "      <td>90</td>\n",
       "      <td>200</td>\n",
       "      <td>3000</td>\n",
       "      <td>0</td>\n",
       "      <td>2000</td>\n",
       "      <td>2985</td>\n",
       "    </tr>\n",
       "    <tr>\n",
       "      <th>3</th>\n",
       "      <td>ok</td>\n",
       "      <td>0</td>\n",
       "      <td>rent</td>\n",
       "      <td>60</td>\n",
       "      <td>24</td>\n",
       "      <td>single</td>\n",
       "      <td>no</td>\n",
       "      <td>fixed</td>\n",
       "      <td>63</td>\n",
       "      <td>182</td>\n",
       "      <td>2500</td>\n",
       "      <td>0</td>\n",
       "      <td>900</td>\n",
       "      <td>1325</td>\n",
       "    </tr>\n",
       "    <tr>\n",
       "      <th>4</th>\n",
       "      <td>ok</td>\n",
       "      <td>0</td>\n",
       "      <td>rent</td>\n",
       "      <td>36</td>\n",
       "      <td>26</td>\n",
       "      <td>single</td>\n",
       "      <td>no</td>\n",
       "      <td>fixed</td>\n",
       "      <td>46</td>\n",
       "      <td>107</td>\n",
       "      <td>0</td>\n",
       "      <td>0</td>\n",
       "      <td>310</td>\n",
       "      <td>910</td>\n",
       "    </tr>\n",
       "  </tbody>\n",
       "</table>\n",
       "</div>"
      ],
      "text/plain": [
       "    status  seniority   home  time  age  marital records        job  expenses  \\\n",
       "0       ok          9   rent    60   30  married      no  freelance        73   \n",
       "1       ok         17   rent    60   58    widow      no      fixed        48   \n",
       "2  default         10  owner    36   46  married     yes  freelance        90   \n",
       "3       ok          0   rent    60   24   single      no      fixed        63   \n",
       "4       ok          0   rent    36   26   single      no      fixed        46   \n",
       "\n",
       "   income  assets  debt  amount  price  \n",
       "0     129       0     0     800    846  \n",
       "1     131       0     0    1000   1658  \n",
       "2     200    3000     0    2000   2985  \n",
       "3     182    2500     0     900   1325  \n",
       "4     107       0     0     310    910  "
      ]
     },
     "execution_count": 9,
     "metadata": {},
     "output_type": "execute_result"
    }
   ],
   "source": [
    "df.head()"
   ]
  },
  {
   "cell_type": "markdown",
   "id": "9e92656e",
   "metadata": {},
   "source": [
    "We must remove these 'unk' values to avoid an issue while training our model."
   ]
  },
  {
   "cell_type": "code",
   "execution_count": 10,
   "id": "34f181e1",
   "metadata": {},
   "outputs": [],
   "source": [
    "for var in df.select_dtypes(include='object'):\n",
    "    df = df[df[var] != 'unk']"
   ]
  },
  {
   "cell_type": "markdown",
   "id": "966706e6",
   "metadata": {},
   "source": [
    "For our target variable it is better to have a binary output:"
   ]
  },
  {
   "cell_type": "code",
   "execution_count": 11,
   "id": "16336e3b",
   "metadata": {},
   "outputs": [],
   "source": [
    "df['status'] = df['status'].map({'default': 1, 'ok': 0})"
   ]
  },
  {
   "cell_type": "markdown",
   "id": "cce67425",
   "metadata": {},
   "source": [
    "One thing we notice immediately is that the max value is 99999999 in some cases. As it turns out, it’s an artificial value. This is how missing values\n",
    "are encoded in this dataset."
   ]
  },
  {
   "cell_type": "code",
   "execution_count": 12,
   "id": "2ee2376a",
   "metadata": {},
   "outputs": [
    {
     "data": {
      "text/html": [
       "<div>\n",
       "<style scoped>\n",
       "    .dataframe tbody tr th:only-of-type {\n",
       "        vertical-align: middle;\n",
       "    }\n",
       "\n",
       "    .dataframe tbody tr th {\n",
       "        vertical-align: top;\n",
       "    }\n",
       "\n",
       "    .dataframe thead th {\n",
       "        text-align: right;\n",
       "    }\n",
       "</style>\n",
       "<table border=\"1\" class=\"dataframe\">\n",
       "  <thead>\n",
       "    <tr style=\"text-align: right;\">\n",
       "      <th></th>\n",
       "      <th>status</th>\n",
       "      <th>seniority</th>\n",
       "      <th>time</th>\n",
       "      <th>age</th>\n",
       "      <th>expenses</th>\n",
       "      <th>income</th>\n",
       "      <th>assets</th>\n",
       "      <th>debt</th>\n",
       "      <th>amount</th>\n",
       "      <th>price</th>\n",
       "    </tr>\n",
       "  </thead>\n",
       "  <tbody>\n",
       "    <tr>\n",
       "      <th>count</th>\n",
       "      <td>4446.0</td>\n",
       "      <td>4446.0</td>\n",
       "      <td>4446.0</td>\n",
       "      <td>4446.0</td>\n",
       "      <td>4446.0</td>\n",
       "      <td>4446.0</td>\n",
       "      <td>4446.0</td>\n",
       "      <td>4446.0</td>\n",
       "      <td>4446.0</td>\n",
       "      <td>4446.0</td>\n",
       "    </tr>\n",
       "    <tr>\n",
       "      <th>mean</th>\n",
       "      <td>0.0</td>\n",
       "      <td>8.0</td>\n",
       "      <td>46.0</td>\n",
       "      <td>37.0</td>\n",
       "      <td>56.0</td>\n",
       "      <td>697386.0</td>\n",
       "      <td>927532.0</td>\n",
       "      <td>270248.0</td>\n",
       "      <td>1039.0</td>\n",
       "      <td>1462.0</td>\n",
       "    </tr>\n",
       "    <tr>\n",
       "      <th>std</th>\n",
       "      <td>0.0</td>\n",
       "      <td>8.0</td>\n",
       "      <td>15.0</td>\n",
       "      <td>11.0</td>\n",
       "      <td>20.0</td>\n",
       "      <td>8321948.0</td>\n",
       "      <td>9559190.0</td>\n",
       "      <td>5188793.0</td>\n",
       "      <td>475.0</td>\n",
       "      <td>629.0</td>\n",
       "    </tr>\n",
       "    <tr>\n",
       "      <th>min</th>\n",
       "      <td>0.0</td>\n",
       "      <td>0.0</td>\n",
       "      <td>6.0</td>\n",
       "      <td>18.0</td>\n",
       "      <td>35.0</td>\n",
       "      <td>0.0</td>\n",
       "      <td>0.0</td>\n",
       "      <td>0.0</td>\n",
       "      <td>100.0</td>\n",
       "      <td>105.0</td>\n",
       "    </tr>\n",
       "    <tr>\n",
       "      <th>25%</th>\n",
       "      <td>0.0</td>\n",
       "      <td>2.0</td>\n",
       "      <td>36.0</td>\n",
       "      <td>28.0</td>\n",
       "      <td>35.0</td>\n",
       "      <td>80.0</td>\n",
       "      <td>0.0</td>\n",
       "      <td>0.0</td>\n",
       "      <td>700.0</td>\n",
       "      <td>1116.0</td>\n",
       "    </tr>\n",
       "    <tr>\n",
       "      <th>50%</th>\n",
       "      <td>0.0</td>\n",
       "      <td>5.0</td>\n",
       "      <td>48.0</td>\n",
       "      <td>36.0</td>\n",
       "      <td>51.0</td>\n",
       "      <td>120.0</td>\n",
       "      <td>3500.0</td>\n",
       "      <td>0.0</td>\n",
       "      <td>1000.0</td>\n",
       "      <td>1400.0</td>\n",
       "    </tr>\n",
       "    <tr>\n",
       "      <th>75%</th>\n",
       "      <td>1.0</td>\n",
       "      <td>12.0</td>\n",
       "      <td>60.0</td>\n",
       "      <td>45.0</td>\n",
       "      <td>72.0</td>\n",
       "      <td>166.0</td>\n",
       "      <td>6000.0</td>\n",
       "      <td>0.0</td>\n",
       "      <td>1300.0</td>\n",
       "      <td>1692.0</td>\n",
       "    </tr>\n",
       "    <tr>\n",
       "      <th>max</th>\n",
       "      <td>1.0</td>\n",
       "      <td>48.0</td>\n",
       "      <td>72.0</td>\n",
       "      <td>68.0</td>\n",
       "      <td>180.0</td>\n",
       "      <td>99999999.0</td>\n",
       "      <td>99999999.0</td>\n",
       "      <td>99999999.0</td>\n",
       "      <td>5000.0</td>\n",
       "      <td>11140.0</td>\n",
       "    </tr>\n",
       "  </tbody>\n",
       "</table>\n",
       "</div>"
      ],
      "text/plain": [
       "       status  seniority    time     age  expenses      income      assets  \\\n",
       "count  4446.0     4446.0  4446.0  4446.0    4446.0      4446.0      4446.0   \n",
       "mean      0.0        8.0    46.0    37.0      56.0    697386.0    927532.0   \n",
       "std       0.0        8.0    15.0    11.0      20.0   8321948.0   9559190.0   \n",
       "min       0.0        0.0     6.0    18.0      35.0         0.0         0.0   \n",
       "25%       0.0        2.0    36.0    28.0      35.0        80.0         0.0   \n",
       "50%       0.0        5.0    48.0    36.0      51.0       120.0      3500.0   \n",
       "75%       1.0       12.0    60.0    45.0      72.0       166.0      6000.0   \n",
       "max       1.0       48.0    72.0    68.0     180.0  99999999.0  99999999.0   \n",
       "\n",
       "             debt  amount    price  \n",
       "count      4446.0  4446.0   4446.0  \n",
       "mean     270248.0  1039.0   1462.0  \n",
       "std     5188793.0   475.0    629.0  \n",
       "min           0.0   100.0    105.0  \n",
       "25%           0.0   700.0   1116.0  \n",
       "50%           0.0  1000.0   1400.0  \n",
       "75%           0.0  1300.0   1692.0  \n",
       "max    99999999.0  5000.0  11140.0  "
      ]
     },
     "execution_count": 12,
     "metadata": {},
     "output_type": "execute_result"
    }
   ],
   "source": [
    "df.describe().round()"
   ]
  },
  {
   "cell_type": "code",
   "execution_count": 13,
   "id": "b64fa721",
   "metadata": {},
   "outputs": [],
   "source": [
    "for column in ['income', 'assets', 'debt']:\n",
    "    df[column] = df[column].replace(to_replace=99999999.0, value=np.nan)"
   ]
  },
  {
   "cell_type": "code",
   "execution_count": 14,
   "id": "3fd17394",
   "metadata": {},
   "outputs": [
    {
     "data": {
      "text/html": [
       "<div>\n",
       "<style scoped>\n",
       "    .dataframe tbody tr th:only-of-type {\n",
       "        vertical-align: middle;\n",
       "    }\n",
       "\n",
       "    .dataframe tbody tr th {\n",
       "        vertical-align: top;\n",
       "    }\n",
       "\n",
       "    .dataframe thead th {\n",
       "        text-align: right;\n",
       "    }\n",
       "</style>\n",
       "<table border=\"1\" class=\"dataframe\">\n",
       "  <thead>\n",
       "    <tr style=\"text-align: right;\">\n",
       "      <th></th>\n",
       "      <th>status</th>\n",
       "      <th>seniority</th>\n",
       "      <th>time</th>\n",
       "      <th>age</th>\n",
       "      <th>expenses</th>\n",
       "      <th>income</th>\n",
       "      <th>assets</th>\n",
       "      <th>debt</th>\n",
       "      <th>amount</th>\n",
       "      <th>price</th>\n",
       "    </tr>\n",
       "  </thead>\n",
       "  <tbody>\n",
       "    <tr>\n",
       "      <th>count</th>\n",
       "      <td>4446.0</td>\n",
       "      <td>4446.0</td>\n",
       "      <td>4446.0</td>\n",
       "      <td>4446.0</td>\n",
       "      <td>4446.0</td>\n",
       "      <td>4415.0</td>\n",
       "      <td>4405.0</td>\n",
       "      <td>4434.0</td>\n",
       "      <td>4446.0</td>\n",
       "      <td>4446.0</td>\n",
       "    </tr>\n",
       "    <tr>\n",
       "      <th>mean</th>\n",
       "      <td>0.0</td>\n",
       "      <td>8.0</td>\n",
       "      <td>46.0</td>\n",
       "      <td>37.0</td>\n",
       "      <td>56.0</td>\n",
       "      <td>131.0</td>\n",
       "      <td>5404.0</td>\n",
       "      <td>343.0</td>\n",
       "      <td>1039.0</td>\n",
       "      <td>1462.0</td>\n",
       "    </tr>\n",
       "    <tr>\n",
       "      <th>std</th>\n",
       "      <td>0.0</td>\n",
       "      <td>8.0</td>\n",
       "      <td>15.0</td>\n",
       "      <td>11.0</td>\n",
       "      <td>20.0</td>\n",
       "      <td>86.0</td>\n",
       "      <td>11577.0</td>\n",
       "      <td>1246.0</td>\n",
       "      <td>475.0</td>\n",
       "      <td>629.0</td>\n",
       "    </tr>\n",
       "    <tr>\n",
       "      <th>min</th>\n",
       "      <td>0.0</td>\n",
       "      <td>0.0</td>\n",
       "      <td>6.0</td>\n",
       "      <td>18.0</td>\n",
       "      <td>35.0</td>\n",
       "      <td>0.0</td>\n",
       "      <td>0.0</td>\n",
       "      <td>0.0</td>\n",
       "      <td>100.0</td>\n",
       "      <td>105.0</td>\n",
       "    </tr>\n",
       "    <tr>\n",
       "      <th>25%</th>\n",
       "      <td>0.0</td>\n",
       "      <td>2.0</td>\n",
       "      <td>36.0</td>\n",
       "      <td>28.0</td>\n",
       "      <td>35.0</td>\n",
       "      <td>80.0</td>\n",
       "      <td>0.0</td>\n",
       "      <td>0.0</td>\n",
       "      <td>700.0</td>\n",
       "      <td>1116.0</td>\n",
       "    </tr>\n",
       "    <tr>\n",
       "      <th>50%</th>\n",
       "      <td>0.0</td>\n",
       "      <td>5.0</td>\n",
       "      <td>48.0</td>\n",
       "      <td>36.0</td>\n",
       "      <td>51.0</td>\n",
       "      <td>120.0</td>\n",
       "      <td>3000.0</td>\n",
       "      <td>0.0</td>\n",
       "      <td>1000.0</td>\n",
       "      <td>1400.0</td>\n",
       "    </tr>\n",
       "    <tr>\n",
       "      <th>75%</th>\n",
       "      <td>1.0</td>\n",
       "      <td>12.0</td>\n",
       "      <td>60.0</td>\n",
       "      <td>45.0</td>\n",
       "      <td>72.0</td>\n",
       "      <td>165.0</td>\n",
       "      <td>6000.0</td>\n",
       "      <td>0.0</td>\n",
       "      <td>1300.0</td>\n",
       "      <td>1692.0</td>\n",
       "    </tr>\n",
       "    <tr>\n",
       "      <th>max</th>\n",
       "      <td>1.0</td>\n",
       "      <td>48.0</td>\n",
       "      <td>72.0</td>\n",
       "      <td>68.0</td>\n",
       "      <td>180.0</td>\n",
       "      <td>959.0</td>\n",
       "      <td>300000.0</td>\n",
       "      <td>30000.0</td>\n",
       "      <td>5000.0</td>\n",
       "      <td>11140.0</td>\n",
       "    </tr>\n",
       "  </tbody>\n",
       "</table>\n",
       "</div>"
      ],
      "text/plain": [
       "       status  seniority    time     age  expenses  income    assets     debt  \\\n",
       "count  4446.0     4446.0  4446.0  4446.0    4446.0  4415.0    4405.0   4434.0   \n",
       "mean      0.0        8.0    46.0    37.0      56.0   131.0    5404.0    343.0   \n",
       "std       0.0        8.0    15.0    11.0      20.0    86.0   11577.0   1246.0   \n",
       "min       0.0        0.0     6.0    18.0      35.0     0.0       0.0      0.0   \n",
       "25%       0.0        2.0    36.0    28.0      35.0    80.0       0.0      0.0   \n",
       "50%       0.0        5.0    48.0    36.0      51.0   120.0    3000.0      0.0   \n",
       "75%       1.0       12.0    60.0    45.0      72.0   165.0    6000.0      0.0   \n",
       "max       1.0       48.0    72.0    68.0     180.0   959.0  300000.0  30000.0   \n",
       "\n",
       "       amount    price  \n",
       "count  4446.0   4446.0  \n",
       "mean   1039.0   1462.0  \n",
       "std     475.0    629.0  \n",
       "min     100.0    105.0  \n",
       "25%     700.0   1116.0  \n",
       "50%    1000.0   1400.0  \n",
       "75%    1300.0   1692.0  \n",
       "max    5000.0  11140.0  "
      ]
     },
     "execution_count": 14,
     "metadata": {},
     "output_type": "execute_result"
    }
   ],
   "source": [
    "df.describe().round()"
   ]
  },
  {
   "cell_type": "markdown",
   "id": "78873b60",
   "metadata": {},
   "source": [
    "### Describe data"
   ]
  },
  {
   "cell_type": "code",
   "execution_count": 15,
   "id": "69f53603",
   "metadata": {},
   "outputs": [
    {
     "name": "stdout",
     "output_type": "stream",
     "text": [
      "There are 4 categorical variables: \n",
      "['home', 'marital', 'records', 'job']\n"
     ]
    }
   ],
   "source": [
    "#We exclude the target variable.\n",
    "\n",
    "catCols = list(df.select_dtypes(include='object').columns)\n",
    "print('There are {} categorical variables: \\n{}'.format(len(catCols), catCols))"
   ]
  },
  {
   "cell_type": "code",
   "execution_count": 16,
   "id": "c63fbf3e",
   "metadata": {},
   "outputs": [
    {
     "name": "stdout",
     "output_type": "stream",
     "text": [
      "There are 9 numerical variables: \n",
      "['seniority', 'time', 'age', 'expenses', 'income', 'assets', 'debt', 'amount', 'price']\n"
     ]
    }
   ],
   "source": [
    "numCols = list(df.select_dtypes(exclude = 'object').columns[1:]) \n",
    "print('There are {} numerical variables: \\n{}'.format(len(numCols), numCols))"
   ]
  },
  {
   "cell_type": "markdown",
   "id": "3d9ede2d",
   "metadata": {},
   "source": [
    "<a name=\"ap2\"></a>\n",
    "# 2. Exploratory data analysis"
   ]
  },
  {
   "cell_type": "markdown",
   "id": "ba2dd307",
   "metadata": {},
   "source": [
    "<a name=\"ap2_1\"></a>\n",
    "## 2.1. Missing values"
   ]
  },
  {
   "cell_type": "markdown",
   "id": "4f9699eb",
   "metadata": {},
   "source": [
    "Now, let´s check for missing values:"
   ]
  },
  {
   "cell_type": "code",
   "execution_count": 17,
   "id": "ce6c61a3",
   "metadata": {},
   "outputs": [
    {
     "data": {
      "text/plain": [
       "status        0\n",
       "seniority     0\n",
       "home          0\n",
       "time          0\n",
       "age           0\n",
       "marital       0\n",
       "records       0\n",
       "job           0\n",
       "expenses      0\n",
       "income       31\n",
       "assets       41\n",
       "debt         12\n",
       "amount        0\n",
       "price         0\n",
       "dtype: int64"
      ]
     },
     "execution_count": 17,
     "metadata": {},
     "output_type": "execute_result"
    }
   ],
   "source": [
    "df.isnull().sum()"
   ]
  },
  {
   "cell_type": "markdown",
   "id": "b65cfe44",
   "metadata": {},
   "source": [
    "Now, we should check what is the proportion of misssing values in our dataset.\n",
    "+ As we can see the proportion is very small so it better to remove these observations from the dataset."
   ]
  },
  {
   "cell_type": "code",
   "execution_count": 18,
   "id": "e5e15852",
   "metadata": {},
   "outputs": [
    {
     "data": {
      "text/plain": [
       "status       0.00\n",
       "seniority    0.00\n",
       "home         0.00\n",
       "time         0.00\n",
       "age          0.00\n",
       "marital      0.00\n",
       "records      0.00\n",
       "job          0.00\n",
       "expenses     0.00\n",
       "income       0.70\n",
       "assets       0.92\n",
       "debt         0.27\n",
       "amount       0.00\n",
       "price        0.00\n",
       "dtype: float64"
      ]
     },
     "execution_count": 18,
     "metadata": {},
     "output_type": "execute_result"
    }
   ],
   "source": [
    "percent_df = round(df.isnull().sum()*100/len(df),2)\n",
    "percent_df"
   ]
  },
  {
   "cell_type": "code",
   "execution_count": 19,
   "id": "cd203593",
   "metadata": {},
   "outputs": [],
   "source": [
    "df = df.dropna()"
   ]
  },
  {
   "cell_type": "markdown",
   "id": "9183a3a6",
   "metadata": {},
   "source": [
    "<a name=\"ap2_2\"></a>\n",
    "## 2.2. Target variable"
   ]
  },
  {
   "cell_type": "markdown",
   "id": "c3931977",
   "metadata": {},
   "source": [
    "+ As we can see the mayority of the customers did not fail to pay back the money.\n",
    "+ We have an imbalanced dataset, there are three times as many people who did not fail to pay back the money as those who did."
   ]
  },
  {
   "cell_type": "code",
   "execution_count": 20,
   "id": "ee547e01",
   "metadata": {},
   "outputs": [
    {
     "name": "stdout",
     "output_type": "stream",
     "text": [
      "Default rate: 0.28\n"
     ]
    }
   ],
   "source": [
    "global_mean = round(df['status'].mean(), 2)\n",
    "print(\"Default rate: {}\".format(global_mean))"
   ]
  },
  {
   "cell_type": "code",
   "execution_count": 21,
   "id": "4c3f1311",
   "metadata": {},
   "outputs": [
    {
     "data": {
      "text/plain": [
       "0    3159\n",
       "1    1216\n",
       "Name: status, dtype: int64"
      ]
     },
     "execution_count": 21,
     "metadata": {},
     "output_type": "execute_result"
    },
    {
     "data": {
      "image/png": "[encoded data removed]",
      "text/plain": [
       "<Figure size 432x288 with 1 Axes>"
      ]
     },
     "metadata": {
      "needs_background": "light"
     },
     "output_type": "display_data"
    }
   ],
   "source": [
    "plt.figure(figsize=(6,4))\n",
    "\n",
    "sns.countplot(data = df, x='status', palette=['#B0C4DE','#DCDCDC'])\n",
    "plt.title('Target variable distribution plot')\n",
    "\n",
    "df.status.value_counts()"
   ]
  },
  {
   "cell_type": "markdown",
   "id": "efb8a3dc",
   "metadata": {},
   "source": [
    "<a name=\"ap3\"></a>\n",
    "# 3. Data Preprocessing and Feature engineering"
   ]
  },
  {
   "cell_type": "markdown",
   "id": "ef725739",
   "metadata": {},
   "source": [
    "First we split our dataframe into X and y variables to avoid using our target variable in the training process."
   ]
  },
  {
   "cell_type": "code",
   "execution_count": 22,
   "id": "dfb9b08b",
   "metadata": {},
   "outputs": [],
   "source": [
    "X = df.drop(columns=['status'], axis=1)\n",
    "y = df['status']"
   ]
  },
  {
   "cell_type": "markdown",
   "id": "c938a650",
   "metadata": {},
   "source": [
    "<a name=\"ap3_1\"></a>\n",
    "## 3.1. Feature Scaling"
   ]
  },
  {
   "cell_type": "markdown",
   "id": "df5ef000",
   "metadata": {},
   "source": [
    "It is highly recommended to scale the numerical features before training the model to achieve a better performance."
   ]
  },
  {
   "cell_type": "code",
   "execution_count": 23,
   "id": "18de2a5b",
   "metadata": {},
   "outputs": [],
   "source": [
    "scaler = StandardScaler()\n",
    "X[numCols] = scaler.fit_transform(X[numCols])"
   ]
  },
  {
   "cell_type": "markdown",
   "id": "0e623939",
   "metadata": {},
   "source": [
    "<a name=\"ap3_2\"></a>\n",
    "## 3.2. One-hot Encoding"
   ]
  },
  {
   "cell_type": "markdown",
   "id": "95c0a5ab",
   "metadata": {},
   "source": [
    "Now we encode our categorical variables converting them into dummy features:"
   ]
  },
  {
   "cell_type": "code",
   "execution_count": 24,
   "id": "06e82a97",
   "metadata": {},
   "outputs": [
    {
     "name": "stdout",
     "output_type": "stream",
     "text": [
      "X shape: (4375, 26)\n",
      "\n"
     ]
    }
   ],
   "source": [
    "X = pd.get_dummies(X)\n",
    "\n",
    "print(\"X shape: {}\\n\".format(X.shape))"
   ]
  },
  {
   "cell_type": "code",
   "execution_count": 25,
   "id": "f4aeaad1",
   "metadata": {},
   "outputs": [
    {
     "data": {
      "text/html": [
       "<div>\n",
       "<style scoped>\n",
       "    .dataframe tbody tr th:only-of-type {\n",
       "        vertical-align: middle;\n",
       "    }\n",
       "\n",
       "    .dataframe tbody tr th {\n",
       "        vertical-align: top;\n",
       "    }\n",
       "\n",
       "    .dataframe thead th {\n",
       "        text-align: right;\n",
       "    }\n",
       "</style>\n",
       "<table border=\"1\" class=\"dataframe\">\n",
       "  <thead>\n",
       "    <tr style=\"text-align: right;\">\n",
       "      <th></th>\n",
       "      <th>0</th>\n",
       "      <th>1</th>\n",
       "      <th>2</th>\n",
       "      <th>3</th>\n",
       "      <th>4</th>\n",
       "    </tr>\n",
       "  </thead>\n",
       "  <tbody>\n",
       "    <tr>\n",
       "      <th>seniority</th>\n",
       "      <td>0.124172</td>\n",
       "      <td>1.103006</td>\n",
       "      <td>0.246526</td>\n",
       "      <td>-0.977016</td>\n",
       "      <td>-0.977016</td>\n",
       "    </tr>\n",
       "    <tr>\n",
       "      <th>time</th>\n",
       "      <td>0.922253</td>\n",
       "      <td>0.922253</td>\n",
       "      <td>-0.719602</td>\n",
       "      <td>0.922253</td>\n",
       "      <td>-0.719602</td>\n",
       "    </tr>\n",
       "    <tr>\n",
       "      <th>age</th>\n",
       "      <td>-0.639971</td>\n",
       "      <td>1.911996</td>\n",
       "      <td>0.818296</td>\n",
       "      <td>-1.186821</td>\n",
       "      <td>-1.004537</td>\n",
       "    </tr>\n",
       "    <tr>\n",
       "      <th>expenses</th>\n",
       "      <td>0.894878</td>\n",
       "      <td>-0.390512</td>\n",
       "      <td>1.768944</td>\n",
       "      <td>0.380722</td>\n",
       "      <td>-0.493343</td>\n",
       "    </tr>\n",
       "    <tr>\n",
       "      <th>income</th>\n",
       "      <td>-0.021452</td>\n",
       "      <td>0.001753</td>\n",
       "      <td>0.802313</td>\n",
       "      <td>0.593471</td>\n",
       "      <td>-0.276703</td>\n",
       "    </tr>\n",
       "    <tr>\n",
       "      <th>assets</th>\n",
       "      <td>-0.500742</td>\n",
       "      <td>-0.500742</td>\n",
       "      <td>-0.217219</td>\n",
       "      <td>-0.264473</td>\n",
       "      <td>-0.500742</td>\n",
       "    </tr>\n",
       "    <tr>\n",
       "      <th>debt</th>\n",
       "      <td>-0.281360</td>\n",
       "      <td>-0.281360</td>\n",
       "      <td>-0.281360</td>\n",
       "      <td>-0.281360</td>\n",
       "      <td>-0.281360</td>\n",
       "    </tr>\n",
       "    <tr>\n",
       "      <th>amount</th>\n",
       "      <td>-0.505565</td>\n",
       "      <td>-0.079761</td>\n",
       "      <td>2.049258</td>\n",
       "      <td>-0.292663</td>\n",
       "      <td>-1.548784</td>\n",
       "    </tr>\n",
       "    <tr>\n",
       "      <th>price</th>\n",
       "      <td>-0.987176</td>\n",
       "      <td>0.318910</td>\n",
       "      <td>2.453363</td>\n",
       "      <td>-0.216714</td>\n",
       "      <td>-0.884234</td>\n",
       "    </tr>\n",
       "    <tr>\n",
       "      <th>home_ignore</th>\n",
       "      <td>0.000000</td>\n",
       "      <td>0.000000</td>\n",
       "      <td>0.000000</td>\n",
       "      <td>0.000000</td>\n",
       "      <td>0.000000</td>\n",
       "    </tr>\n",
       "    <tr>\n",
       "      <th>home_other</th>\n",
       "      <td>0.000000</td>\n",
       "      <td>0.000000</td>\n",
       "      <td>0.000000</td>\n",
       "      <td>0.000000</td>\n",
       "      <td>0.000000</td>\n",
       "    </tr>\n",
       "    <tr>\n",
       "      <th>home_owner</th>\n",
       "      <td>0.000000</td>\n",
       "      <td>0.000000</td>\n",
       "      <td>1.000000</td>\n",
       "      <td>0.000000</td>\n",
       "      <td>0.000000</td>\n",
       "    </tr>\n",
       "    <tr>\n",
       "      <th>home_parents</th>\n",
       "      <td>0.000000</td>\n",
       "      <td>0.000000</td>\n",
       "      <td>0.000000</td>\n",
       "      <td>0.000000</td>\n",
       "      <td>0.000000</td>\n",
       "    </tr>\n",
       "    <tr>\n",
       "      <th>home_private</th>\n",
       "      <td>0.000000</td>\n",
       "      <td>0.000000</td>\n",
       "      <td>0.000000</td>\n",
       "      <td>0.000000</td>\n",
       "      <td>0.000000</td>\n",
       "    </tr>\n",
       "    <tr>\n",
       "      <th>home_rent</th>\n",
       "      <td>1.000000</td>\n",
       "      <td>1.000000</td>\n",
       "      <td>0.000000</td>\n",
       "      <td>1.000000</td>\n",
       "      <td>1.000000</td>\n",
       "    </tr>\n",
       "    <tr>\n",
       "      <th>marital_divorced</th>\n",
       "      <td>0.000000</td>\n",
       "      <td>0.000000</td>\n",
       "      <td>0.000000</td>\n",
       "      <td>0.000000</td>\n",
       "      <td>0.000000</td>\n",
       "    </tr>\n",
       "    <tr>\n",
       "      <th>marital_married</th>\n",
       "      <td>1.000000</td>\n",
       "      <td>0.000000</td>\n",
       "      <td>1.000000</td>\n",
       "      <td>0.000000</td>\n",
       "      <td>0.000000</td>\n",
       "    </tr>\n",
       "    <tr>\n",
       "      <th>marital_separated</th>\n",
       "      <td>0.000000</td>\n",
       "      <td>0.000000</td>\n",
       "      <td>0.000000</td>\n",
       "      <td>0.000000</td>\n",
       "      <td>0.000000</td>\n",
       "    </tr>\n",
       "    <tr>\n",
       "      <th>marital_single</th>\n",
       "      <td>0.000000</td>\n",
       "      <td>0.000000</td>\n",
       "      <td>0.000000</td>\n",
       "      <td>1.000000</td>\n",
       "      <td>1.000000</td>\n",
       "    </tr>\n",
       "    <tr>\n",
       "      <th>marital_widow</th>\n",
       "      <td>0.000000</td>\n",
       "      <td>1.000000</td>\n",
       "      <td>0.000000</td>\n",
       "      <td>0.000000</td>\n",
       "      <td>0.000000</td>\n",
       "    </tr>\n",
       "    <tr>\n",
       "      <th>records_no</th>\n",
       "      <td>1.000000</td>\n",
       "      <td>1.000000</td>\n",
       "      <td>0.000000</td>\n",
       "      <td>1.000000</td>\n",
       "      <td>1.000000</td>\n",
       "    </tr>\n",
       "    <tr>\n",
       "      <th>records_yes</th>\n",
       "      <td>0.000000</td>\n",
       "      <td>0.000000</td>\n",
       "      <td>1.000000</td>\n",
       "      <td>0.000000</td>\n",
       "      <td>0.000000</td>\n",
       "    </tr>\n",
       "    <tr>\n",
       "      <th>job_fixed</th>\n",
       "      <td>0.000000</td>\n",
       "      <td>1.000000</td>\n",
       "      <td>0.000000</td>\n",
       "      <td>1.000000</td>\n",
       "      <td>1.000000</td>\n",
       "    </tr>\n",
       "    <tr>\n",
       "      <th>job_freelance</th>\n",
       "      <td>1.000000</td>\n",
       "      <td>0.000000</td>\n",
       "      <td>1.000000</td>\n",
       "      <td>0.000000</td>\n",
       "      <td>0.000000</td>\n",
       "    </tr>\n",
       "    <tr>\n",
       "      <th>job_others</th>\n",
       "      <td>0.000000</td>\n",
       "      <td>0.000000</td>\n",
       "      <td>0.000000</td>\n",
       "      <td>0.000000</td>\n",
       "      <td>0.000000</td>\n",
       "    </tr>\n",
       "    <tr>\n",
       "      <th>job_partime</th>\n",
       "      <td>0.000000</td>\n",
       "      <td>0.000000</td>\n",
       "      <td>0.000000</td>\n",
       "      <td>0.000000</td>\n",
       "      <td>0.000000</td>\n",
       "    </tr>\n",
       "  </tbody>\n",
       "</table>\n",
       "</div>"
      ],
      "text/plain": [
       "                          0         1         2         3         4\n",
       "seniority          0.124172  1.103006  0.246526 -0.977016 -0.977016\n",
       "time               0.922253  0.922253 -0.719602  0.922253 -0.719602\n",
       "age               -0.639971  1.911996  0.818296 -1.186821 -1.004537\n",
       "expenses           0.894878 -0.390512  1.768944  0.380722 -0.493343\n",
       "income            -0.021452  0.001753  0.802313  0.593471 -0.276703\n",
       "assets            -0.500742 -0.500742 -0.217219 -0.264473 -0.500742\n",
       "debt              -0.281360 -0.281360 -0.281360 -0.281360 -0.281360\n",
       "amount            -0.505565 -0.079761  2.049258 -0.292663 -1.548784\n",
       "price             -0.987176  0.318910  2.453363 -0.216714 -0.884234\n",
       "home_ignore        0.000000  0.000000  0.000000  0.000000  0.000000\n",
       "home_other         0.000000  0.000000  0.000000  0.000000  0.000000\n",
       "home_owner         0.000000  0.000000  1.000000  0.000000  0.000000\n",
       "home_parents       0.000000  0.000000  0.000000  0.000000  0.000000\n",
       "home_private       0.000000  0.000000  0.000000  0.000000  0.000000\n",
       "home_rent          1.000000  1.000000  0.000000  1.000000  1.000000\n",
       "marital_divorced   0.000000  0.000000  0.000000  0.000000  0.000000\n",
       "marital_married    1.000000  0.000000  1.000000  0.000000  0.000000\n",
       "marital_separated  0.000000  0.000000  0.000000  0.000000  0.000000\n",
       "marital_single     0.000000  0.000000  0.000000  1.000000  1.000000\n",
       "marital_widow      0.000000  1.000000  0.000000  0.000000  0.000000\n",
       "records_no         1.000000  1.000000  0.000000  1.000000  1.000000\n",
       "records_yes        0.000000  0.000000  1.000000  0.000000  0.000000\n",
       "job_fixed          0.000000  1.000000  0.000000  1.000000  1.000000\n",
       "job_freelance      1.000000  0.000000  1.000000  0.000000  0.000000\n",
       "job_others         0.000000  0.000000  0.000000  0.000000  0.000000\n",
       "job_partime        0.000000  0.000000  0.000000  0.000000  0.000000"
      ]
     },
     "execution_count": 25,
     "metadata": {},
     "output_type": "execute_result"
    }
   ],
   "source": [
    "X.head().T"
   ]
  },
  {
   "cell_type": "markdown",
   "id": "6e9b40fb",
   "metadata": {},
   "source": [
    "We have all the data prepared. Therefore let's build our models."
   ]
  },
  {
   "cell_type": "markdown",
   "id": "6213a2d7",
   "metadata": {},
   "source": [
    "<a name=\"ap4\"></a>\n",
    "# 4. Model fitting and selection"
   ]
  },
  {
   "cell_type": "markdown",
   "id": "cb83687e",
   "metadata": {},
   "source": [
    "We split our dataset into two parts: train and test sets."
   ]
  },
  {
   "cell_type": "code",
   "execution_count": 26,
   "id": "ac3d14e8",
   "metadata": {},
   "outputs": [],
   "source": [
    "X_train, X_test, y_train, y_test = train_test_split(X, y, test_size=0.2, random_state=1)"
   ]
  },
  {
   "cell_type": "markdown",
   "id": "3fcd824b",
   "metadata": {},
   "source": [
    "### Functions required "
   ]
  },
  {
   "cell_type": "code",
   "execution_count": 27,
   "id": "dae15a69",
   "metadata": {},
   "outputs": [],
   "source": [
    "def tunning_model(model, params):\n",
    "    \n",
    "    model_cv = GridSearchCV(model, param_grid=params, scoring='roc_auc', cv=5)\n",
    "    model_cv.fit(X_train, y_train)\n",
    "    cv_results = pd.DataFrame(model_cv.cv_results_)[['params', 'mean_test_score']] \n",
    "    \n",
    "    print(cv_results)\n",
    "    print('\\nBest params: {} | Best Roc: {}'.format(model_cv.best_params_,model_cv.best_score_))"
   ]
  },
  {
   "cell_type": "code",
   "execution_count": 28,
   "id": "70fc6be4",
   "metadata": {},
   "outputs": [],
   "source": [
    "def evaluate_model(model, threshold = 0.5):\n",
    "    \n",
    "    model.fit(X_train, y_train)\n",
    "    y_pred = model.predict_proba(X_test)[:,1]\n",
    "    \n",
    "    #ROC and Accuracy scores.\n",
    "    \n",
    "    roc_auc = roc_auc_score(y_test, y_pred)\n",
    "    accuracy = accuracy_score(y_test, y_pred>=threshold)\n",
    "    print('ROC: {}'.format(round(roc_auc,4)))\n",
    "    print('Accuracy: {}'.format(round(accuracy,4)))\n",
    "    \n",
    "    #Plot ROC AUC.\n",
    "    \n",
    "    fpr, tpr, threshold = roc_curve(y_test, y_pred)\n",
    "\n",
    "    plt.figure(figsize = (6, 5))\n",
    "\n",
    "    plt.plot(fpr, tpr, color='blue', label='AUC = %0.2f' %roc_auc)\n",
    "    plt.plot([0, 1], [0, 1], color='black', linestyle='dashed')\n",
    "\n",
    "    plt.title('Receiver Operating Characteristic (ROC)')\n",
    "    plt.xlabel('False Positive Rate')\n",
    "    plt.ylabel('True Positive Rate')\n",
    "    plt.legend(loc='lower right')\n",
    "\n",
    "    plt.show() \n",
    "    \n",
    "    return fpr, tpr, roc_auc"
   ]
  },
  {
   "cell_type": "markdown",
   "id": "62959a84",
   "metadata": {},
   "source": [
    "<a name=\"ap4_1\"></a>\n",
    "## 4.1. Logistic Regression"
   ]
  },
  {
   "cell_type": "code",
   "execution_count": 100,
   "id": "a3f41e54",
   "metadata": {},
   "outputs": [
    {
     "name": "stdout",
     "output_type": "stream",
     "text": [
      "                               params  mean_test_score\n",
      "0  {'C': 0.01, 'solver': 'liblinear'}         0.835221\n",
      "1   {'C': 0.1, 'solver': 'liblinear'}         0.839256\n",
      "2   {'C': 0.5, 'solver': 'liblinear'}         0.839065\n",
      "3     {'C': 1, 'solver': 'liblinear'}         0.838829\n",
      "4    {'C': 10, 'solver': 'liblinear'}         0.838557\n",
      "5    {'C': 50, 'solver': 'liblinear'}         0.838518\n",
      "6   {'C': 100, 'solver': 'liblinear'}         0.838520\n",
      "\n",
      "Best params: {'C': 0.1, 'solver': 'liblinear'} | Best Roc: 0.8392559379856201\n"
     ]
    }
   ],
   "source": [
    "params = {'C':[0.01, 0.1, 0.5, 1, 10, 50, 100], 'solver':['liblinear']}\n",
    "\n",
    "lg = LogisticRegression()\n",
    "tunning_model(lg, params)"
   ]
  },
  {
   "cell_type": "markdown",
   "id": "5f5fcd1e",
   "metadata": {},
   "source": [
    "### Model selected"
   ]
  },
  {
   "cell_type": "code",
   "execution_count": 29,
   "id": "9dc8db25",
   "metadata": {},
   "outputs": [
    {
     "name": "stdout",
     "output_type": "stream",
     "text": [
      "ROC: 0.8367\n",
      "Accuracy: 0.7977\n"
     ]
    },
    {
     "data": {
      "image/png": "[encoded data removed]",
      "text/plain": [
       "<Figure size 432x360 with 1 Axes>"
      ]
     },
     "metadata": {
      "needs_background": "light"
     },
     "output_type": "display_data"
    }
   ],
   "source": [
    "lg = LogisticRegression(C=0.5, solver='liblinear')\n",
    "fpr_lg, tpr_lg, roc_lg = evaluate_model(lg, threshold=0.5)"
   ]
  },
  {
   "cell_type": "markdown",
   "id": "be5d14a8",
   "metadata": {},
   "source": [
    "<a name=\"ap4_2\"></a>\n",
    "## 4.2. Decision Trees"
   ]
  },
  {
   "cell_type": "code",
   "execution_count": 114,
   "id": "44a3be0a",
   "metadata": {},
   "outputs": [
    {
     "name": "stdout",
     "output_type": "stream",
     "text": [
      "                                        params  mean_test_score\n",
      "0     {'max_depth': 5, 'min_samples_leaf': 20}         0.777702\n",
      "1     {'max_depth': 5, 'min_samples_leaf': 50}         0.777987\n",
      "2    {'max_depth': 5, 'min_samples_leaf': 100}         0.770473\n",
      "3    {'max_depth': 5, 'min_samples_leaf': 150}         0.770906\n",
      "4    {'max_depth': 5, 'min_samples_leaf': 200}         0.764147\n",
      "5    {'max_depth': 10, 'min_samples_leaf': 20}         0.780774\n",
      "6    {'max_depth': 10, 'min_samples_leaf': 50}         0.795111\n",
      "7   {'max_depth': 10, 'min_samples_leaf': 100}         0.783188\n",
      "8   {'max_depth': 10, 'min_samples_leaf': 150}         0.779684\n",
      "9   {'max_depth': 10, 'min_samples_leaf': 200}         0.768332\n",
      "10   {'max_depth': 15, 'min_samples_leaf': 20}         0.780212\n",
      "11   {'max_depth': 15, 'min_samples_leaf': 50}         0.794562\n",
      "12  {'max_depth': 15, 'min_samples_leaf': 100}         0.783129\n",
      "13  {'max_depth': 15, 'min_samples_leaf': 150}         0.779684\n",
      "14  {'max_depth': 15, 'min_samples_leaf': 200}         0.768332\n",
      "15   {'max_depth': 20, 'min_samples_leaf': 20}         0.779713\n",
      "16   {'max_depth': 20, 'min_samples_leaf': 50}         0.794538\n",
      "17  {'max_depth': 20, 'min_samples_leaf': 100}         0.783129\n",
      "18  {'max_depth': 20, 'min_samples_leaf': 150}         0.779684\n",
      "19  {'max_depth': 20, 'min_samples_leaf': 200}         0.768332\n",
      "\n",
      "Best params: {'max_depth': 10, 'min_samples_leaf': 50} | Best Roc: 0.7951108516154515\n"
     ]
    }
   ],
   "source": [
    "params = {'max_depth':[5, 10, 15, 20], \n",
    "          'min_samples_leaf': [20, 50, 100, 150, 200]}\n",
    "\n",
    "dt = DecisionTreeClassifier()\n",
    "tunning_model(dt, params)"
   ]
  },
  {
   "cell_type": "markdown",
   "id": "30ad6df6",
   "metadata": {},
   "source": [
    "### Model selected"
   ]
  },
  {
   "cell_type": "code",
   "execution_count": 30,
   "id": "cff7b122",
   "metadata": {},
   "outputs": [
    {
     "name": "stdout",
     "output_type": "stream",
     "text": [
      "ROC: 0.807\n",
      "Accuracy: 0.7703\n"
     ]
    },
    {
     "data": {
      "image/png": "[encoded data removed]",
      "text/plain": [
       "<Figure size 432x360 with 1 Axes>"
      ]
     },
     "metadata": {
      "needs_background": "light"
     },
     "output_type": "display_data"
    }
   ],
   "source": [
    "dt = DecisionTreeClassifier(max_depth=10, min_samples_leaf=50)\n",
    "fpr_dt, tpr_dt, roc_dt = evaluate_model(dt, threshold=0.5)"
   ]
  },
  {
   "cell_type": "markdown",
   "id": "ae343765",
   "metadata": {},
   "source": [
    "<a name=\"ap4_3\"></a>\n",
    "## 4.3. Random Forest"
   ]
  },
  {
   "cell_type": "code",
   "execution_count": 109,
   "id": "d64bfe37",
   "metadata": {},
   "outputs": [
    {
     "name": "stdout",
     "output_type": "stream",
     "text": [
      "                                               params  mean_test_score\n",
      "0   {'max_depth': 5, 'min_samples_leaf': 3, 'n_est...         0.825538\n",
      "1   {'max_depth': 5, 'min_samples_leaf': 3, 'n_est...         0.828934\n",
      "2   {'max_depth': 5, 'min_samples_leaf': 3, 'n_est...         0.831463\n",
      "3   {'max_depth': 5, 'min_samples_leaf': 3, 'n_est...         0.829997\n",
      "4   {'max_depth': 5, 'min_samples_leaf': 5, 'n_est...         0.828641\n",
      "5   {'max_depth': 5, 'min_samples_leaf': 5, 'n_est...         0.828418\n",
      "6   {'max_depth': 5, 'min_samples_leaf': 5, 'n_est...         0.829228\n",
      "7   {'max_depth': 5, 'min_samples_leaf': 5, 'n_est...         0.829827\n",
      "8   {'max_depth': 5, 'min_samples_leaf': 10, 'n_es...         0.828801\n",
      "9   {'max_depth': 5, 'min_samples_leaf': 10, 'n_es...         0.829257\n",
      "10  {'max_depth': 5, 'min_samples_leaf': 10, 'n_es...         0.827966\n",
      "11  {'max_depth': 5, 'min_samples_leaf': 10, 'n_es...         0.829460\n",
      "12  {'max_depth': 10, 'min_samples_leaf': 3, 'n_es...         0.835532\n",
      "13  {'max_depth': 10, 'min_samples_leaf': 3, 'n_es...         0.835399\n",
      "14  {'max_depth': 10, 'min_samples_leaf': 3, 'n_es...         0.837664\n",
      "15  {'max_depth': 10, 'min_samples_leaf': 3, 'n_es...         0.837276\n",
      "16  {'max_depth': 10, 'min_samples_leaf': 5, 'n_es...         0.837102\n",
      "17  {'max_depth': 10, 'min_samples_leaf': 5, 'n_es...         0.835707\n",
      "18  {'max_depth': 10, 'min_samples_leaf': 5, 'n_es...         0.838163\n",
      "19  {'max_depth': 10, 'min_samples_leaf': 5, 'n_es...         0.840290\n",
      "20  {'max_depth': 10, 'min_samples_leaf': 10, 'n_e...         0.836042\n",
      "21  {'max_depth': 10, 'min_samples_leaf': 10, 'n_e...         0.834654\n",
      "22  {'max_depth': 10, 'min_samples_leaf': 10, 'n_e...         0.835339\n",
      "23  {'max_depth': 10, 'min_samples_leaf': 10, 'n_e...         0.837194\n",
      "24  {'max_depth': 15, 'min_samples_leaf': 3, 'n_es...         0.831829\n",
      "25  {'max_depth': 15, 'min_samples_leaf': 3, 'n_es...         0.835003\n",
      "26  {'max_depth': 15, 'min_samples_leaf': 3, 'n_es...         0.836262\n",
      "27  {'max_depth': 15, 'min_samples_leaf': 3, 'n_es...         0.836177\n",
      "28  {'max_depth': 15, 'min_samples_leaf': 5, 'n_es...         0.833554\n",
      "29  {'max_depth': 15, 'min_samples_leaf': 5, 'n_es...         0.836689\n",
      "30  {'max_depth': 15, 'min_samples_leaf': 5, 'n_es...         0.837353\n",
      "31  {'max_depth': 15, 'min_samples_leaf': 5, 'n_es...         0.837794\n",
      "32  {'max_depth': 15, 'min_samples_leaf': 10, 'n_e...         0.832831\n",
      "33  {'max_depth': 15, 'min_samples_leaf': 10, 'n_e...         0.835956\n",
      "34  {'max_depth': 15, 'min_samples_leaf': 10, 'n_e...         0.836396\n",
      "35  {'max_depth': 15, 'min_samples_leaf': 10, 'n_e...         0.837571\n",
      "36  {'max_depth': 20, 'min_samples_leaf': 3, 'n_es...         0.835506\n",
      "37  {'max_depth': 20, 'min_samples_leaf': 3, 'n_es...         0.837878\n",
      "38  {'max_depth': 20, 'min_samples_leaf': 3, 'n_es...         0.838157\n",
      "39  {'max_depth': 20, 'min_samples_leaf': 3, 'n_es...         0.835351\n",
      "40  {'max_depth': 20, 'min_samples_leaf': 5, 'n_es...         0.831991\n",
      "41  {'max_depth': 20, 'min_samples_leaf': 5, 'n_es...         0.837788\n",
      "42  {'max_depth': 20, 'min_samples_leaf': 5, 'n_es...         0.837948\n",
      "43  {'max_depth': 20, 'min_samples_leaf': 5, 'n_es...         0.836943\n",
      "44  {'max_depth': 20, 'min_samples_leaf': 10, 'n_e...         0.834975\n",
      "45  {'max_depth': 20, 'min_samples_leaf': 10, 'n_e...         0.834210\n",
      "46  {'max_depth': 20, 'min_samples_leaf': 10, 'n_e...         0.837121\n",
      "47  {'max_depth': 20, 'min_samples_leaf': 10, 'n_e...         0.835738\n",
      "\n",
      "Best params: {'max_depth': 10, 'min_samples_leaf': 5, 'n_estimators': 200} | Best Roc: 0.8402898439414676\n"
     ]
    }
   ],
   "source": [
    "params = {'max_depth':[5, 10, 15, 20], \n",
    "          'min_samples_leaf': [3, 5, 10],\n",
    "          'n_estimators': [50, 100, 150, 200]}\n",
    "\n",
    "rf = RandomForestClassifier()\n",
    "tunning_model(rf, params)"
   ]
  },
  {
   "cell_type": "markdown",
   "id": "cb9b026c",
   "metadata": {},
   "source": [
    "### Model selected"
   ]
  },
  {
   "cell_type": "code",
   "execution_count": 31,
   "id": "4f62f0e8",
   "metadata": {},
   "outputs": [
    {
     "name": "stdout",
     "output_type": "stream",
     "text": [
      "ROC: 0.8357\n",
      "Accuracy: 0.792\n"
     ]
    },
    {
     "data": {
      "image/png": "[encoded data removed]",
      "text/plain": [
       "<Figure size 432x360 with 1 Axes>"
      ]
     },
     "metadata": {
      "needs_background": "light"
     },
     "output_type": "display_data"
    }
   ],
   "source": [
    "rf = RandomForestClassifier(max_depth=10, min_samples_leaf=5, n_estimators=200, random_state=2)\n",
    "fpr_rf, tpr_rf, roc_rf = evaluate_model(rf, threshold=0.5)"
   ]
  },
  {
   "cell_type": "markdown",
   "id": "d03dedd6",
   "metadata": {},
   "source": [
    "<a name=\"ap4_4\"></a>\n",
    "## 4.4. SVM"
   ]
  },
  {
   "cell_type": "code",
   "execution_count": 37,
   "id": "b0da35d6",
   "metadata": {},
   "outputs": [
    {
     "name": "stdout",
     "output_type": "stream",
     "text": [
      "                        params  mean_test_score\n",
      "0       {'C': 0.1, 'gamma': 1}         0.754079\n",
      "1     {'C': 0.1, 'gamma': 0.1}         0.839645\n",
      "2    {'C': 0.1, 'gamma': 0.01}         0.840356\n",
      "3   {'C': 0.1, 'gamma': 0.001}         0.835325\n",
      "4         {'C': 1, 'gamma': 1}         0.751253\n",
      "5       {'C': 1, 'gamma': 0.1}         0.839450\n",
      "6      {'C': 1, 'gamma': 0.01}         0.845908\n",
      "7     {'C': 1, 'gamma': 0.001}         0.835474\n",
      "8        {'C': 10, 'gamma': 1}         0.730577\n",
      "9      {'C': 10, 'gamma': 0.1}         0.817338\n",
      "10    {'C': 10, 'gamma': 0.01}         0.849618\n",
      "11   {'C': 10, 'gamma': 0.001}         0.840163\n",
      "12      {'C': 100, 'gamma': 1}         0.730858\n",
      "13    {'C': 100, 'gamma': 0.1}         0.767997\n",
      "14   {'C': 100, 'gamma': 0.01}         0.838964\n",
      "15  {'C': 100, 'gamma': 0.001}         0.843331\n",
      "\n",
      "Best params: {'C': 10, 'gamma': 0.01} | Best Roc: 0.8496182318849061\n"
     ]
    }
   ],
   "source": [
    "params = {'C': [0.1, 1, 10, 100],\n",
    "          'gamma': [1, 0.1, 0.01, 0.001]}\n",
    "\n",
    "svc = SVC()\n",
    "tunning_model(svc, params)"
   ]
  },
  {
   "cell_type": "markdown",
   "id": "c2b01680",
   "metadata": {},
   "source": [
    "### Model selected"
   ]
  },
  {
   "cell_type": "code",
   "execution_count": 32,
   "id": "724589f3",
   "metadata": {},
   "outputs": [
    {
     "name": "stdout",
     "output_type": "stream",
     "text": [
      "ROC: 0.8294\n",
      "Accuracy: 0.7909\n"
     ]
    },
    {
     "data": {
      "image/png": "[encoded data removed]",
      "text/plain": [
       "<Figure size 432x360 with 1 Axes>"
      ]
     },
     "metadata": {
      "needs_background": "light"
     },
     "output_type": "display_data"
    }
   ],
   "source": [
    "svc = SVC(C=10, gamma=0.01, probability=True, random_state=2)\n",
    "fpr_svc, tpr_svc, roc_svc = evaluate_model(svc, threshold=0.5)"
   ]
  },
  {
   "cell_type": "markdown",
   "id": "9024fc4a",
   "metadata": {},
   "source": [
    "<a name=\"ap4_5\"></a>\n",
    "## 4.5. XGBoost"
   ]
  },
  {
   "cell_type": "code",
   "execution_count": 58,
   "id": "ac94d94b",
   "metadata": {},
   "outputs": [
    {
     "name": "stdout",
     "output_type": "stream",
     "text": [
      "                                               params  mean_test_score\n",
      "0   {'eta': 0.01, 'eval_metric': 'auc', 'max_depth...         0.808375\n",
      "1   {'eta': 0.01, 'eval_metric': 'auc', 'max_depth...         0.808768\n",
      "2   {'eta': 0.01, 'eval_metric': 'auc', 'max_depth...         0.806497\n",
      "3   {'eta': 0.01, 'eval_metric': 'auc', 'max_depth...         0.819599\n",
      "4   {'eta': 0.01, 'eval_metric': 'auc', 'max_depth...         0.819704\n",
      "5   {'eta': 0.01, 'eval_metric': 'auc', 'max_depth...         0.811246\n",
      "6   {'eta': 0.01, 'eval_metric': 'auc', 'max_depth...         0.819916\n",
      "7   {'eta': 0.01, 'eval_metric': 'auc', 'max_depth...         0.821662\n",
      "8   {'eta': 0.01, 'eval_metric': 'auc', 'max_depth...         0.812883\n",
      "9   {'eta': 0.01, 'eval_metric': 'auc', 'max_depth...         0.812233\n",
      "10  {'eta': 0.01, 'eval_metric': 'auc', 'max_depth...         0.823229\n",
      "11  {'eta': 0.01, 'eval_metric': 'auc', 'max_depth...         0.813173\n",
      "12  {'eta': 0.03, 'eval_metric': 'auc', 'max_depth...         0.835638\n",
      "13  {'eta': 0.03, 'eval_metric': 'auc', 'max_depth...         0.835162\n",
      "14  {'eta': 0.03, 'eval_metric': 'auc', 'max_depth...         0.832248\n",
      "15  {'eta': 0.03, 'eval_metric': 'auc', 'max_depth...         0.839478\n",
      "16  {'eta': 0.03, 'eval_metric': 'auc', 'max_depth...         0.840454\n",
      "17  {'eta': 0.03, 'eval_metric': 'auc', 'max_depth...         0.834496\n",
      "18  {'eta': 0.03, 'eval_metric': 'auc', 'max_depth...         0.838132\n",
      "19  {'eta': 0.03, 'eval_metric': 'auc', 'max_depth...         0.840399\n",
      "20  {'eta': 0.03, 'eval_metric': 'auc', 'max_depth...         0.836077\n",
      "21  {'eta': 0.03, 'eval_metric': 'auc', 'max_depth...         0.822320\n",
      "22  {'eta': 0.03, 'eval_metric': 'auc', 'max_depth...         0.839131\n",
      "23  {'eta': 0.03, 'eval_metric': 'auc', 'max_depth...         0.836456\n",
      "24  {'eta': 0.05, 'eval_metric': 'auc', 'max_depth...         0.842619\n",
      "25  {'eta': 0.05, 'eval_metric': 'auc', 'max_depth...         0.843275\n",
      "26  {'eta': 0.05, 'eval_metric': 'auc', 'max_depth...         0.839738\n",
      "27  {'eta': 0.05, 'eval_metric': 'auc', 'max_depth...         0.842504\n",
      "28  {'eta': 0.05, 'eval_metric': 'auc', 'max_depth...         0.845347\n",
      "29  {'eta': 0.05, 'eval_metric': 'auc', 'max_depth...         0.841682\n",
      "30  {'eta': 0.05, 'eval_metric': 'auc', 'max_depth...         0.839811\n",
      "31  {'eta': 0.05, 'eval_metric': 'auc', 'max_depth...         0.845328\n",
      "32  {'eta': 0.05, 'eval_metric': 'auc', 'max_depth...         0.842232\n",
      "33  {'eta': 0.05, 'eval_metric': 'auc', 'max_depth...         0.826050\n",
      "34  {'eta': 0.05, 'eval_metric': 'auc', 'max_depth...         0.843169\n",
      "35  {'eta': 0.05, 'eval_metric': 'auc', 'max_depth...         0.841378\n",
      "36  {'eta': 0.1, 'eval_metric': 'auc', 'max_depth'...         0.847675\n",
      "37  {'eta': 0.1, 'eval_metric': 'auc', 'max_depth'...         0.848696\n",
      "38  {'eta': 0.1, 'eval_metric': 'auc', 'max_depth'...         0.846308\n",
      "39  {'eta': 0.1, 'eval_metric': 'auc', 'max_depth'...         0.838773\n",
      "40  {'eta': 0.1, 'eval_metric': 'auc', 'max_depth'...         0.844830\n",
      "41  {'eta': 0.1, 'eval_metric': 'auc', 'max_depth'...         0.844486\n",
      "42  {'eta': 0.1, 'eval_metric': 'auc', 'max_depth'...         0.836809\n",
      "43  {'eta': 0.1, 'eval_metric': 'auc', 'max_depth'...         0.842303\n",
      "44  {'eta': 0.1, 'eval_metric': 'auc', 'max_depth'...         0.844388\n",
      "45  {'eta': 0.1, 'eval_metric': 'auc', 'max_depth'...         0.823932\n",
      "46  {'eta': 0.1, 'eval_metric': 'auc', 'max_depth'...         0.836748\n",
      "47  {'eta': 0.1, 'eval_metric': 'auc', 'max_depth'...         0.843816\n",
      "\n",
      "Best params: {'eta': 0.1, 'eval_metric': 'auc', 'max_depth': 3, 'min_child_weight': 10, 'objective': 'binary:logistic'} | Best Roc: 0.8486960481932412\n"
     ]
    }
   ],
   "source": [
    "params = {'eta': [0.01, 0.03, 0.05, 0.1],\n",
    "          'max_depth': [3, 5, 6, 10],\n",
    "          'objective':['binary:logistic'],\n",
    "          'min_child_weight': [1, 10, 30],\n",
    "          'eval_metric': ['auc']}\n",
    "\n",
    "xgb = XGBClassifier()\n",
    "tunning_model(xgb, params)"
   ]
  },
  {
   "cell_type": "markdown",
   "id": "45d8e41d",
   "metadata": {},
   "source": [
    "### Model selected"
   ]
  },
  {
   "cell_type": "code",
   "execution_count": 33,
   "id": "57b1bb26",
   "metadata": {},
   "outputs": [
    {
     "name": "stdout",
     "output_type": "stream",
     "text": [
      "ROC: 0.8437\n",
      "Accuracy: 0.8046\n"
     ]
    },
    {
     "data": {
      "image/png": "[encoded data removed]",
      "text/plain": [
       "<Figure size 432x360 with 1 Axes>"
      ]
     },
     "metadata": {
      "needs_background": "light"
     },
     "output_type": "display_data"
    }
   ],
   "source": [
    "xgb = XGBClassifier(eta=0.1, \n",
    "                    max_depth=3,\n",
    "                    objective='binary:logistic', \n",
    "                    min_child_weight=10, \n",
    "                    eval_metric='auc')\n",
    "\n",
    "fpr_xgb, tpr_xgb, roc_xgb = evaluate_model(xgb, threshold=0.5)"
   ]
  },
  {
   "cell_type": "markdown",
   "id": "57513453",
   "metadata": {},
   "source": [
    "<a name=\"ap5\"></a>\n",
    "# 5. Comparison between models"
   ]
  },
  {
   "cell_type": "code",
   "execution_count": 34,
   "id": "6ca2cae9",
   "metadata": {},
   "outputs": [
    {
     "name": "stdout",
     "output_type": "stream",
     "text": [
      "ROC Logistic Regression: 0.8367192790540188\n",
      "\n",
      "ROC Decision Trees: 0.8069587695994166\n",
      "\n",
      "ROC Random Forest: 0.8357425639422827\n",
      "\n",
      "ROC SVM: 0.8294134500182321\n",
      "\n",
      "ROC XGB: 0.8436539563473461\n"
     ]
    }
   ],
   "source": [
    "print('ROC Logistic Regression: {}\\n'.format(roc_lg))\n",
    "print('ROC Decision Trees: {}\\n'.format(roc_dt))\n",
    "print('ROC Random Forest: {}\\n'.format(roc_rf))\n",
    "print('ROC SVM: {}\\n'.format(roc_svc))\n",
    "print('ROC XGB: {}'.format(roc_xgb))"
   ]
  },
  {
   "cell_type": "markdown",
   "id": "091eea01",
   "metadata": {},
   "source": [
    "The results for aour different models are very similiar. Between them we can highlight the Logistic Regression, Random Forest and XGBoost models with a ROC score around 0.83-0.84."
   ]
  },
  {
   "cell_type": "code",
   "execution_count": 37,
   "id": "979422fa",
   "metadata": {},
   "outputs": [
    {
     "data": {
      "image/png": "[encoded data removed]",
      "text/plain": [
       "<Figure size 720x504 with 1 Axes>"
      ]
     },
     "metadata": {},
     "output_type": "display_data"
    }
   ],
   "source": [
    "plt.figure(figsize = (10, 7))\n",
    "\n",
    "plt.plot(fpr_lg, tpr_lg, color='red', linestyle='solid', label='Logistic Regression ROC')\n",
    "plt.plot(fpr_dt, tpr_dt, color='orange', linestyle='solid', label='Decision Trees ROC')\n",
    "plt.plot(fpr_rf, tpr_rf, color='grey', linestyle='solid', label='Random Forest ROC')\n",
    "plt.plot(fpr_svc, tpr_svc, color='black', linestyle='solid', label='SVM ROC')\n",
    "plt.plot(fpr_xgb, tpr_xgb, color='blue', linestyle='solid', label='XGB ROC')\n",
    "\n",
    "plt.plot([0, 1], [0, 1], color='black', linewidth=0.7, linestyle='dashed', alpha=0.5)\n",
    "\n",
    "plt.title('Receiver Operating Characteristic (ROC)')\n",
    "plt.xlabel('False Positive Rate')\n",
    "plt.ylabel('True Positive Rate')\n",
    "plt.legend(loc='lower right')\n",
    "\n",
    "plt.show()"
   ]
  },
  {
   "cell_type": "markdown",
   "id": "9cfceeb2",
   "metadata": {},
   "source": [
    "Therefore we can conclude our best model is the `XGBoost` one with a ROC score ~ 0.84."
   ]
  }
 ],
 "metadata": {
  "kernelspec": {
   "display_name": "Python 3 (ipykernel)",
   "language": "python",
   "name": "python3"
  },
  "language_info": {
   "codemirror_mode": {
    "name": "ipython",
    "version": 3
   },
   "file_extension": ".py",
   "mimetype": "text/x-python",
   "name": "python",
   "nbconvert_exporter": "python",
   "pygments_lexer": "ipython3",
   "version": "3.9.12"
  }
 },
 "nbformat": 4,
 "nbformat_minor": 5
}
