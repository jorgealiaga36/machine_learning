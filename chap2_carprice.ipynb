{
 "cells": [
  {
   "cell_type": "markdown",
   "id": "493679ee",
   "metadata": {},
   "source": [
    "# Chapter 2: Price prediction: Linear Regression"
   ]
  },
  {
   "cell_type": "markdown",
   "id": "fed7091b",
   "metadata": {},
   "source": [
    "Main goal: \n",
    "\n",
    "+ Implement a car price recommendation given some characteristics of them (feautures). The output will be the suggested car price (target variable).\n",
    "+ Numerical variable: linear regression."
   ]
  },
  {
   "cell_type": "code",
   "execution_count": 1,
   "id": "bbd59ac4",
   "metadata": {},
   "outputs": [],
   "source": [
    "import pandas as pd\n",
    "import numpy as np\n",
    "import seaborn as sns\n",
    "\n",
    "from matplotlib import pyplot as plt\n",
    "%matplotlib inline\n",
    "\n",
    "from sklearn.model_selection import train_test_split\n",
    "from sklearn.linear_model import LinearRegression, Ridge\n",
    "from sklearn.metrics import mean_squared_error\n",
    "\n",
    "sns.set_style('darkgrid')"
   ]
  },
  {
   "cell_type": "markdown",
   "id": "b67d66f6",
   "metadata": {},
   "source": [
    "## 1. Reading and preparing data."
   ]
  },
  {
   "cell_type": "code",
   "execution_count": 3,
   "id": "c2dc53ea",
   "metadata": {},
   "outputs": [
    {
     "data": {
      "text/html": [
       "<div>\n",
       "<style scoped>\n",
       "    .dataframe tbody tr th:only-of-type {\n",
       "        vertical-align: middle;\n",
       "    }\n",
       "\n",
       "    .dataframe tbody tr th {\n",
       "        vertical-align: top;\n",
       "    }\n",
       "\n",
       "    .dataframe thead th {\n",
       "        text-align: right;\n",
       "    }\n",
       "</style>\n",
       "<table border=\"1\" class=\"dataframe\">\n",
       "  <thead>\n",
       "    <tr style=\"text-align: right;\">\n",
       "      <th></th>\n",
       "      <th>Make</th>\n",
       "      <th>Model</th>\n",
       "      <th>Year</th>\n",
       "      <th>Engine Fuel Type</th>\n",
       "      <th>Engine HP</th>\n",
       "      <th>Engine Cylinders</th>\n",
       "      <th>Transmission Type</th>\n",
       "      <th>Driven_Wheels</th>\n",
       "      <th>Number of Doors</th>\n",
       "      <th>Market Category</th>\n",
       "      <th>Vehicle Size</th>\n",
       "      <th>Vehicle Style</th>\n",
       "      <th>highway MPG</th>\n",
       "      <th>city mpg</th>\n",
       "      <th>Popularity</th>\n",
       "      <th>MSRP</th>\n",
       "    </tr>\n",
       "  </thead>\n",
       "  <tbody>\n",
       "    <tr>\n",
       "      <th>0</th>\n",
       "      <td>BMW</td>\n",
       "      <td>1 Series M</td>\n",
       "      <td>2011</td>\n",
       "      <td>premium unleaded (required)</td>\n",
       "      <td>335.0</td>\n",
       "      <td>6.0</td>\n",
       "      <td>MANUAL</td>\n",
       "      <td>rear wheel drive</td>\n",
       "      <td>2.0</td>\n",
       "      <td>Factory Tuner,Luxury,High-Performance</td>\n",
       "      <td>Compact</td>\n",
       "      <td>Coupe</td>\n",
       "      <td>26</td>\n",
       "      <td>19</td>\n",
       "      <td>3916</td>\n",
       "      <td>46135</td>\n",
       "    </tr>\n",
       "    <tr>\n",
       "      <th>1</th>\n",
       "      <td>BMW</td>\n",
       "      <td>1 Series</td>\n",
       "      <td>2011</td>\n",
       "      <td>premium unleaded (required)</td>\n",
       "      <td>300.0</td>\n",
       "      <td>6.0</td>\n",
       "      <td>MANUAL</td>\n",
       "      <td>rear wheel drive</td>\n",
       "      <td>2.0</td>\n",
       "      <td>Luxury,Performance</td>\n",
       "      <td>Compact</td>\n",
       "      <td>Convertible</td>\n",
       "      <td>28</td>\n",
       "      <td>19</td>\n",
       "      <td>3916</td>\n",
       "      <td>40650</td>\n",
       "    </tr>\n",
       "    <tr>\n",
       "      <th>2</th>\n",
       "      <td>BMW</td>\n",
       "      <td>1 Series</td>\n",
       "      <td>2011</td>\n",
       "      <td>premium unleaded (required)</td>\n",
       "      <td>300.0</td>\n",
       "      <td>6.0</td>\n",
       "      <td>MANUAL</td>\n",
       "      <td>rear wheel drive</td>\n",
       "      <td>2.0</td>\n",
       "      <td>Luxury,High-Performance</td>\n",
       "      <td>Compact</td>\n",
       "      <td>Coupe</td>\n",
       "      <td>28</td>\n",
       "      <td>20</td>\n",
       "      <td>3916</td>\n",
       "      <td>36350</td>\n",
       "    </tr>\n",
       "    <tr>\n",
       "      <th>3</th>\n",
       "      <td>BMW</td>\n",
       "      <td>1 Series</td>\n",
       "      <td>2011</td>\n",
       "      <td>premium unleaded (required)</td>\n",
       "      <td>230.0</td>\n",
       "      <td>6.0</td>\n",
       "      <td>MANUAL</td>\n",
       "      <td>rear wheel drive</td>\n",
       "      <td>2.0</td>\n",
       "      <td>Luxury,Performance</td>\n",
       "      <td>Compact</td>\n",
       "      <td>Coupe</td>\n",
       "      <td>28</td>\n",
       "      <td>18</td>\n",
       "      <td>3916</td>\n",
       "      <td>29450</td>\n",
       "    </tr>\n",
       "    <tr>\n",
       "      <th>4</th>\n",
       "      <td>BMW</td>\n",
       "      <td>1 Series</td>\n",
       "      <td>2011</td>\n",
       "      <td>premium unleaded (required)</td>\n",
       "      <td>230.0</td>\n",
       "      <td>6.0</td>\n",
       "      <td>MANUAL</td>\n",
       "      <td>rear wheel drive</td>\n",
       "      <td>2.0</td>\n",
       "      <td>Luxury</td>\n",
       "      <td>Compact</td>\n",
       "      <td>Convertible</td>\n",
       "      <td>28</td>\n",
       "      <td>18</td>\n",
       "      <td>3916</td>\n",
       "      <td>34500</td>\n",
       "    </tr>\n",
       "  </tbody>\n",
       "</table>\n",
       "</div>"
      ],
      "text/plain": [
       "  Make       Model  Year             Engine Fuel Type  Engine HP  \\\n",
       "0  BMW  1 Series M  2011  premium unleaded (required)      335.0   \n",
       "1  BMW    1 Series  2011  premium unleaded (required)      300.0   \n",
       "2  BMW    1 Series  2011  premium unleaded (required)      300.0   \n",
       "3  BMW    1 Series  2011  premium unleaded (required)      230.0   \n",
       "4  BMW    1 Series  2011  premium unleaded (required)      230.0   \n",
       "\n",
       "   Engine Cylinders Transmission Type     Driven_Wheels  Number of Doors  \\\n",
       "0               6.0            MANUAL  rear wheel drive              2.0   \n",
       "1               6.0            MANUAL  rear wheel drive              2.0   \n",
       "2               6.0            MANUAL  rear wheel drive              2.0   \n",
       "3               6.0            MANUAL  rear wheel drive              2.0   \n",
       "4               6.0            MANUAL  rear wheel drive              2.0   \n",
       "\n",
       "                         Market Category Vehicle Size Vehicle Style  \\\n",
       "0  Factory Tuner,Luxury,High-Performance      Compact         Coupe   \n",
       "1                     Luxury,Performance      Compact   Convertible   \n",
       "2                Luxury,High-Performance      Compact         Coupe   \n",
       "3                     Luxury,Performance      Compact         Coupe   \n",
       "4                                 Luxury      Compact   Convertible   \n",
       "\n",
       "   highway MPG  city mpg  Popularity   MSRP  \n",
       "0           26        19        3916  46135  \n",
       "1           28        19        3916  40650  \n",
       "2           28        20        3916  36350  \n",
       "3           28        18        3916  29450  \n",
       "4           28        18        3916  34500  "
      ]
     },
     "execution_count": 3,
     "metadata": {},
     "output_type": "execute_result"
    }
   ],
   "source": [
    "df = pd.read_csv(\"data.csv\")\n",
    "df.head()"
   ]
  },
  {
   "cell_type": "markdown",
   "id": "34bcc171",
   "metadata": {},
   "source": [
    "We see some white spaces and there are data in lower/upper case. Let's fix it:"
   ]
  },
  {
   "cell_type": "code",
   "execution_count": 4,
   "id": "6a979cd5",
   "metadata": {},
   "outputs": [
    {
     "data": {
      "text/html": [
       "<div>\n",
       "<style scoped>\n",
       "    .dataframe tbody tr th:only-of-type {\n",
       "        vertical-align: middle;\n",
       "    }\n",
       "\n",
       "    .dataframe tbody tr th {\n",
       "        vertical-align: top;\n",
       "    }\n",
       "\n",
       "    .dataframe thead th {\n",
       "        text-align: right;\n",
       "    }\n",
       "</style>\n",
       "<table border=\"1\" class=\"dataframe\">\n",
       "  <thead>\n",
       "    <tr style=\"text-align: right;\">\n",
       "      <th></th>\n",
       "      <th>make</th>\n",
       "      <th>model</th>\n",
       "      <th>year</th>\n",
       "      <th>engine_fuel_type</th>\n",
       "      <th>engine_hp</th>\n",
       "      <th>engine_cylinders</th>\n",
       "      <th>transmission_type</th>\n",
       "      <th>driven_wheels</th>\n",
       "      <th>number_of_doors</th>\n",
       "      <th>market_category</th>\n",
       "      <th>vehicle_size</th>\n",
       "      <th>vehicle_style</th>\n",
       "      <th>highway_mpg</th>\n",
       "      <th>city_mpg</th>\n",
       "      <th>popularity</th>\n",
       "      <th>msrp</th>\n",
       "    </tr>\n",
       "  </thead>\n",
       "  <tbody>\n",
       "    <tr>\n",
       "      <th>0</th>\n",
       "      <td>bmw</td>\n",
       "      <td>1_series_m</td>\n",
       "      <td>2011</td>\n",
       "      <td>premium_unleaded_(required)</td>\n",
       "      <td>335.0</td>\n",
       "      <td>6.0</td>\n",
       "      <td>manual</td>\n",
       "      <td>rear_wheel_drive</td>\n",
       "      <td>2.0</td>\n",
       "      <td>factory_tuner,luxury,high-performance</td>\n",
       "      <td>compact</td>\n",
       "      <td>coupe</td>\n",
       "      <td>26</td>\n",
       "      <td>19</td>\n",
       "      <td>3916</td>\n",
       "      <td>46135</td>\n",
       "    </tr>\n",
       "    <tr>\n",
       "      <th>1</th>\n",
       "      <td>bmw</td>\n",
       "      <td>1_series</td>\n",
       "      <td>2011</td>\n",
       "      <td>premium_unleaded_(required)</td>\n",
       "      <td>300.0</td>\n",
       "      <td>6.0</td>\n",
       "      <td>manual</td>\n",
       "      <td>rear_wheel_drive</td>\n",
       "      <td>2.0</td>\n",
       "      <td>luxury,performance</td>\n",
       "      <td>compact</td>\n",
       "      <td>convertible</td>\n",
       "      <td>28</td>\n",
       "      <td>19</td>\n",
       "      <td>3916</td>\n",
       "      <td>40650</td>\n",
       "    </tr>\n",
       "    <tr>\n",
       "      <th>2</th>\n",
       "      <td>bmw</td>\n",
       "      <td>1_series</td>\n",
       "      <td>2011</td>\n",
       "      <td>premium_unleaded_(required)</td>\n",
       "      <td>300.0</td>\n",
       "      <td>6.0</td>\n",
       "      <td>manual</td>\n",
       "      <td>rear_wheel_drive</td>\n",
       "      <td>2.0</td>\n",
       "      <td>luxury,high-performance</td>\n",
       "      <td>compact</td>\n",
       "      <td>coupe</td>\n",
       "      <td>28</td>\n",
       "      <td>20</td>\n",
       "      <td>3916</td>\n",
       "      <td>36350</td>\n",
       "    </tr>\n",
       "    <tr>\n",
       "      <th>3</th>\n",
       "      <td>bmw</td>\n",
       "      <td>1_series</td>\n",
       "      <td>2011</td>\n",
       "      <td>premium_unleaded_(required)</td>\n",
       "      <td>230.0</td>\n",
       "      <td>6.0</td>\n",
       "      <td>manual</td>\n",
       "      <td>rear_wheel_drive</td>\n",
       "      <td>2.0</td>\n",
       "      <td>luxury,performance</td>\n",
       "      <td>compact</td>\n",
       "      <td>coupe</td>\n",
       "      <td>28</td>\n",
       "      <td>18</td>\n",
       "      <td>3916</td>\n",
       "      <td>29450</td>\n",
       "    </tr>\n",
       "    <tr>\n",
       "      <th>4</th>\n",
       "      <td>bmw</td>\n",
       "      <td>1_series</td>\n",
       "      <td>2011</td>\n",
       "      <td>premium_unleaded_(required)</td>\n",
       "      <td>230.0</td>\n",
       "      <td>6.0</td>\n",
       "      <td>manual</td>\n",
       "      <td>rear_wheel_drive</td>\n",
       "      <td>2.0</td>\n",
       "      <td>luxury</td>\n",
       "      <td>compact</td>\n",
       "      <td>convertible</td>\n",
       "      <td>28</td>\n",
       "      <td>18</td>\n",
       "      <td>3916</td>\n",
       "      <td>34500</td>\n",
       "    </tr>\n",
       "  </tbody>\n",
       "</table>\n",
       "</div>"
      ],
      "text/plain": [
       "  make       model  year             engine_fuel_type  engine_hp  \\\n",
       "0  bmw  1_series_m  2011  premium_unleaded_(required)      335.0   \n",
       "1  bmw    1_series  2011  premium_unleaded_(required)      300.0   \n",
       "2  bmw    1_series  2011  premium_unleaded_(required)      300.0   \n",
       "3  bmw    1_series  2011  premium_unleaded_(required)      230.0   \n",
       "4  bmw    1_series  2011  premium_unleaded_(required)      230.0   \n",
       "\n",
       "   engine_cylinders transmission_type     driven_wheels  number_of_doors  \\\n",
       "0               6.0            manual  rear_wheel_drive              2.0   \n",
       "1               6.0            manual  rear_wheel_drive              2.0   \n",
       "2               6.0            manual  rear_wheel_drive              2.0   \n",
       "3               6.0            manual  rear_wheel_drive              2.0   \n",
       "4               6.0            manual  rear_wheel_drive              2.0   \n",
       "\n",
       "                         market_category vehicle_size vehicle_style  \\\n",
       "0  factory_tuner,luxury,high-performance      compact         coupe   \n",
       "1                     luxury,performance      compact   convertible   \n",
       "2                luxury,high-performance      compact         coupe   \n",
       "3                     luxury,performance      compact         coupe   \n",
       "4                                 luxury      compact   convertible   \n",
       "\n",
       "   highway_mpg  city_mpg  popularity   msrp  \n",
       "0           26        19        3916  46135  \n",
       "1           28        19        3916  40650  \n",
       "2           28        20        3916  36350  \n",
       "3           28        18        3916  29450  \n",
       "4           28        18        3916  34500  "
      ]
     },
     "execution_count": 4,
     "metadata": {},
     "output_type": "execute_result"
    }
   ],
   "source": [
    "df.columns = df.columns.str.lower().str.replace(\" \", \"_\")\n",
    "\n",
    "string_columns = list(df.dtypes[df.dtypes == \"object\"].index)\n",
    "\n",
    "for col in string_columns:\n",
    "    df[col] = df[col].str.lower().str.replace(\" \", \"_\")\n",
    "    \n",
    "df.head()"
   ]
  },
  {
   "cell_type": "markdown",
   "id": "09664298",
   "metadata": {},
   "source": [
    "## 2. Exploratory data analysis"
   ]
  },
  {
   "cell_type": "markdown",
   "id": "338a0913",
   "metadata": {},
   "source": [
    "We need to know what kind of data we have. It is necessary to learn:\n",
    "\n",
    "  1. The distribution of the target variable.\n",
    "  2. The features of the dataset.\n",
    "  3. The distribution of values in these features.\n",
    "  4. The quality of the data.\n",
    "  5. The number of missing values."
   ]
  },
  {
   "cell_type": "markdown",
   "id": "f98a43fe",
   "metadata": {},
   "source": [
    "### 2.1. Target variable"
   ]
  },
  {
   "cell_type": "code",
   "execution_count": 7,
   "id": "a814ff38",
   "metadata": {},
   "outputs": [
    {
     "data": {
      "image/png": "[encoded data removed]",
      "text/plain": [
       "<Figure size 432x288 with 1 Axes>"
      ]
     },
     "metadata": {},
     "output_type": "display_data"
    }
   ],
   "source": [
    "plt.figure(figsize = (6,4))\n",
    "\n",
    "sns.histplot(df.msrp, bins = 40, alpha = 1)\n",
    "plt.title(\"Distribution of prices\")\n",
    "plt.xlabel(\"Price\")\n",
    "plt.ylabel(\"Frecuency\")\n",
    "\n",
    "plt.show()"
   ]
  },
  {
   "cell_type": "code",
   "execution_count": 15,
   "id": "75c1b7be",
   "metadata": {
    "scrolled": true
   },
   "outputs": [
    {
     "data": {
      "image/png": "[encoded data removed]",
      "text/plain": [
       "<Figure size 432x288 with 1 Axes>"
      ]
     },
     "metadata": {},
     "output_type": "display_data"
    }
   ],
   "source": [
    "plt.figure(figsize = (6,4))\n",
    "\n",
    "sns.histplot(df.msrp[df.msrp < 100000], bins = 30, alpha = 1)\n",
    "plt.xlabel(\"Price\")\n",
    "plt.ylabel(\"Frecuency\")\n",
    "plt.title(\"Distribution of prices (<100000)\")\n",
    "\n",
    "plt.show()"
   ]
  },
  {
   "cell_type": "markdown",
   "id": "86bfb346",
   "metadata": {},
   "source": [
    "+ As we can see, there is a long tail in the data. It means there are many cars with low price and few with high price.\n",
    "\n",
    "+ Such distribution will confuse the model, so it won't learn well enough. One way to solve this problem is applying a log transformation.\n",
    "\n",
    "+ Generally, it is good when the target variable looks like the normal distribution.\n",
    "\n",
    "+ Log(x+1) avoids an issue with a zero. Also we will make sure all prices are not below zero."
   ]
  },
  {
   "cell_type": "code",
   "execution_count": 16,
   "id": "01a4f071",
   "metadata": {},
   "outputs": [
    {
     "data": {
      "image/png": "[encoded data removed]",
      "text/plain": [
       "<Figure size 432x288 with 1 Axes>"
      ]
     },
     "metadata": {},
     "output_type": "display_data"
    }
   ],
   "source": [
    "log_price = np.log1p(df.msrp)\n",
    "\n",
    "plt.figure(figsize = (6,4))\n",
    "\n",
    "sns.histplot(log_price, bins = 30, alpha = 1)\n",
    "plt.xlabel(\"Log(Price+1)\")\n",
    "plt.ylabel(\"Frecuency\")\n",
    "plt.title(\"Logaricmic distribution of prices\")\n",
    "\n",
    "plt.show()"
   ]
  },
  {
   "cell_type": "markdown",
   "id": "d14c562d",
   "metadata": {},
   "source": [
    "### 2.2. Checking for missing values"
   ]
  },
  {
   "cell_type": "markdown",
   "id": "9763da1e",
   "metadata": {},
   "source": [
    "+ Machine learning algorithms cannot deal with missing values.\n",
    "+ A good result is that there is not mising values for our target variable.\n",
    "+ There are some features with many missing values. We will deal with it later when we train the model so we should keep this problem in mind."
   ]
  },
  {
   "cell_type": "code",
   "execution_count": 7,
   "id": "a495ca70",
   "metadata": {},
   "outputs": [
    {
     "data": {
      "text/plain": [
       "make                    0\n",
       "model                   0\n",
       "year                    0\n",
       "engine_fuel_type        3\n",
       "engine_hp              69\n",
       "engine_cylinders       30\n",
       "transmission_type       0\n",
       "driven_wheels           0\n",
       "number_of_doors         6\n",
       "market_category      3742\n",
       "vehicle_size            0\n",
       "vehicle_style           0\n",
       "highway_mpg             0\n",
       "city_mpg                0\n",
       "popularity              0\n",
       "msrp                    0\n",
       "dtype: int64"
      ]
     },
     "execution_count": 7,
     "metadata": {},
     "output_type": "execute_result"
    }
   ],
   "source": [
    "df.isnull().sum()"
   ]
  },
  {
   "cell_type": "markdown",
   "id": "2d327a86",
   "metadata": {},
   "source": [
    "## 3. Validation framework"
   ]
  },
  {
   "cell_type": "markdown",
   "id": "9d8f28d0",
   "metadata": {},
   "source": [
    "We need to split the dataset into three parts: train, validation and test sets:"
   ]
  },
  {
   "cell_type": "code",
   "execution_count": 6,
   "id": "b9c652ce",
   "metadata": {},
   "outputs": [],
   "source": [
    "df_train_full, df_test = train_test_split(df, test_size = 0.2, random_state = 11)\n",
    "\n",
    "df_train, df_val = train_test_split(df_train_full, test_size = 0.33, random_state  = 2)"
   ]
  },
  {
   "cell_type": "code",
   "execution_count": 7,
   "id": "343718bd",
   "metadata": {},
   "outputs": [],
   "source": [
    "Y_train_orig = df_train.msrp.values\n",
    "Y_val_orig = df_val.msrp.values\n",
    "Y_test_orig = df_test.msrp.values\n",
    "\n",
    "Y_train = np.log1p(df_train.msrp.values)\n",
    "Y_val = np.log1p(df_val.msrp.values)\n",
    "Y_test = np.log1p(df_test.msrp.values)"
   ]
  },
  {
   "cell_type": "markdown",
   "id": "21250be7",
   "metadata": {},
   "source": [
    "Removing the target variable is an optional step. But it is helful to make sure that we don't use it when training a model."
   ]
  },
  {
   "cell_type": "code",
   "execution_count": 8,
   "id": "467274ab",
   "metadata": {},
   "outputs": [],
   "source": [
    "del df_train[\"msrp\"]\n",
    "del df_val[\"msrp\"]\n",
    "del df_test[\"msrp\"]"
   ]
  },
  {
   "cell_type": "markdown",
   "id": "6b003f5c",
   "metadata": {},
   "source": [
    "## 4. Baseline solution (Test I)"
   ]
  },
  {
   "cell_type": "markdown",
   "id": "e949290e",
   "metadata": {},
   "source": [
    "Let's select some features and prepare our corresponding matrixes for feedding our model. These features are numerical."
   ]
  },
  {
   "cell_type": "code",
   "execution_count": 11,
   "id": "9bbab0be",
   "metadata": {},
   "outputs": [
    {
     "data": {
      "text/plain": [
       "make                  object\n",
       "model                 object\n",
       "year                   int64\n",
       "engine_fuel_type      object\n",
       "engine_hp            float64\n",
       "engine_cylinders     float64\n",
       "transmission_type     object\n",
       "driven_wheels         object\n",
       "number_of_doors      float64\n",
       "market_category       object\n",
       "vehicle_size          object\n",
       "vehicle_style         object\n",
       "highway_mpg            int64\n",
       "city_mpg               int64\n",
       "popularity             int64\n",
       "msrp                   int64\n",
       "dtype: object"
      ]
     },
     "execution_count": 11,
     "metadata": {},
     "output_type": "execute_result"
    }
   ],
   "source": [
    "df.dtypes"
   ]
  },
  {
   "cell_type": "code",
   "execution_count": 9,
   "id": "96784ffa",
   "metadata": {},
   "outputs": [],
   "source": [
    "base = ['engine_hp', 'engine_cylinders', 'highway_mpg', 'city_mpg', 'popularity']"
   ]
  },
  {
   "cell_type": "code",
   "execution_count": 10,
   "id": "bb44b2d4",
   "metadata": {},
   "outputs": [],
   "source": [
    "def prepare_X(df_received):\n",
    "    df_base = df_received[base]\n",
    "    X = df_base.fillna(0).values\n",
    "    return X"
   ]
  },
  {
   "cell_type": "code",
   "execution_count": 11,
   "id": "db0dcd18",
   "metadata": {},
   "outputs": [],
   "source": [
    "X_train = prepare_X(df_train)\n",
    "X_val = prepare_X(df_val)"
   ]
  },
  {
   "cell_type": "markdown",
   "id": "413cbfab",
   "metadata": {},
   "source": [
    "### 4.1. Linear Regression "
   ]
  },
  {
   "cell_type": "code",
   "execution_count": 12,
   "id": "b9d7f309",
   "metadata": {},
   "outputs": [],
   "source": [
    "model = LinearRegression()\n",
    "model.fit(X_train, Y_train)\n",
    "\n",
    "Y_pred = model.predict(X_val)"
   ]
  },
  {
   "cell_type": "code",
   "execution_count": 13,
   "id": "8473fdad",
   "metadata": {},
   "outputs": [
    {
     "name": "stdout",
     "output_type": "stream",
     "text": [
      "RMSE: 0.7631807894739401\n"
     ]
    }
   ],
   "source": [
    "RMSE = mean_squared_error(Y_val, Y_pred, squared = False)\n",
    "print(\"RMSE: {}\".format(RMSE))"
   ]
  },
  {
   "cell_type": "markdown",
   "id": "78f26bd9",
   "metadata": {},
   "source": [
    "The goal is to minimize the MSE as much as possible (mean squared error): mwtric that quantifies the quality of the model."
   ]
  },
  {
   "cell_type": "code",
   "execution_count": 17,
   "id": "c10cff27",
   "metadata": {},
   "outputs": [
    {
     "data": {
      "image/png": "[encoded data removed]",
      "text/plain": [
       "<Figure size 432x288 with 1 Axes>"
      ]
     },
     "metadata": {
      "needs_background": "light"
     },
     "output_type": "display_data"
    }
   ],
   "source": [
    "plt.figure(figsize = (6,4))\n",
    "\n",
    "sns.histplot(Y_val, bins = 40, alpha = 0.6, color = \"#222222\", label = \"Target\" )\n",
    "sns.histplot(Y_pred, bins = 40, alpha = 0.8, color = \"#aaaaaa\", label = \"Prediction\" )\n",
    "\n",
    "plt.xlabel(\"Log(Price+1)\")\n",
    "plt.ylabel(\"Frecuency\")\n",
    "plt.title(\"Predictions vs actual distribution\")\n",
    "plt.legend(loc = \"best\")\n",
    "\n",
    "plt.show()"
   ]
  },
  {
   "cell_type": "markdown",
   "id": "42609d27",
   "metadata": {},
   "source": [
    "## 5. Simple feature engineering (Test II)"
   ]
  },
  {
   "cell_type": "markdown",
   "id": "17639dae",
   "metadata": {},
   "source": [
    "The feature engineering consists of adding/creating new features for improving the model performance."
   ]
  },
  {
   "cell_type": "markdown",
   "id": "5ad01117",
   "metadata": {},
   "source": [
    "### 5.1. Adding a numerical variable"
   ]
  },
  {
   "cell_type": "code",
   "execution_count": 14,
   "id": "c8e867e5",
   "metadata": {},
   "outputs": [],
   "source": [
    "def prepare_X(df_received):\n",
    "    df = df_received.copy()\n",
    "    features = base.copy()\n",
    "    \n",
    "    df[\"age\"] = df.year.max() - df.year\n",
    "    features.append(\"age\")\n",
    "    \n",
    "    df_features = df[features]\n",
    "    X = df_features.fillna(0).values\n",
    "    \n",
    "    return X    "
   ]
  },
  {
   "cell_type": "code",
   "execution_count": 15,
   "id": "cbe4b9d0",
   "metadata": {},
   "outputs": [],
   "source": [
    "X_train = prepare_X(df_train)\n",
    "X_val = prepare_X(df_val)"
   ]
  },
  {
   "cell_type": "code",
   "execution_count": 16,
   "id": "e177a33f",
   "metadata": {},
   "outputs": [],
   "source": [
    "model = LinearRegression()\n",
    "model.fit(X_train, Y_train)\n",
    "\n",
    "Y_pred = model.predict(X_val)"
   ]
  },
  {
   "cell_type": "code",
   "execution_count": 17,
   "id": "b55663b9",
   "metadata": {},
   "outputs": [
    {
     "name": "stdout",
     "output_type": "stream",
     "text": [
      "RMSE: 0.5132590129759806\n"
     ]
    }
   ],
   "source": [
    "RMSE = mean_squared_error(Y_val, Y_pred, squared = False)\n",
    "print(\"RMSE: {}\".format(RMSE))"
   ]
  },
  {
   "cell_type": "markdown",
   "id": "5f370e9e",
   "metadata": {},
   "source": [
    "Adding the feature age we can conclude the model performance has improved."
   ]
  },
  {
   "cell_type": "code",
   "execution_count": 22,
   "id": "fb6fa490",
   "metadata": {},
   "outputs": [
    {
     "data": {
      "image/png": "[encoded data removed]",
      "text/plain": [
       "<Figure size 432x288 with 1 Axes>"
      ]
     },
     "metadata": {
      "needs_background": "light"
     },
     "output_type": "display_data"
    }
   ],
   "source": [
    "plt.figure(figsize = (6,4))\n",
    "\n",
    "sns.histplot(Y_val, bins = 40, alpha = 0.6, color = \"#222222\", label = \"Target\" )\n",
    "sns.histplot(Y_pred, bins = 40, alpha = 0.8, color = \"#aaaaaa\", label = \"Prediction\" )\n",
    "\n",
    "plt.xlabel(\"Log(Price+1)\")\n",
    "plt.ylabel(\"Frecuency\")\n",
    "plt.title(\"Predictions vs actual distribution\")\n",
    "plt.legend(loc = \"best\")\n",
    "\n",
    "plt.show()"
   ]
  },
  {
   "cell_type": "markdown",
   "id": "13aa9e39",
   "metadata": {},
   "source": [
    "### 5.2. Adding categorical variables"
   ]
  },
  {
   "cell_type": "markdown",
   "id": "ae0e87dd",
   "metadata": {},
   "source": [
    "+ Apparently, the number os doors could be a numerical variable, but it can take only a few values: 2,3 and 4. Therefore, we conclude it is a categorical variable.\n",
    "\n",
    "+ The procedure is the following: apply \"one hot encoding for every categorical variable we want to add."
   ]
  },
  {
   "cell_type": "code",
   "execution_count": 23,
   "id": "06958888",
   "metadata": {},
   "outputs": [
    {
     "data": {
      "text/plain": [
       "4.0    8353\n",
       "2.0    3160\n",
       "3.0     395\n",
       "Name: number_of_doors, dtype: int64"
      ]
     },
     "execution_count": 23,
     "metadata": {},
     "output_type": "execute_result"
    }
   ],
   "source": [
    "df.number_of_doors.value_counts()"
   ]
  },
  {
   "cell_type": "code",
   "execution_count": 24,
   "id": "bdc5ce4f",
   "metadata": {},
   "outputs": [
    {
     "data": {
      "text/plain": [
       "chevrolet     1123\n",
       "ford           881\n",
       "volkswagen     809\n",
       "toyota         746\n",
       "dodge          626\n",
       "Name: make, dtype: int64"
      ]
     },
     "execution_count": 24,
     "metadata": {},
     "output_type": "execute_result"
    }
   ],
   "source": [
    "df[\"make\"].value_counts().head(5)"
   ]
  },
  {
   "cell_type": "code",
   "execution_count": 18,
   "id": "82bbec24",
   "metadata": {},
   "outputs": [],
   "source": [
    "def prepare_X(df_received):\n",
    "    df = df_received.copy()\n",
    "    features = base.copy()\n",
    "    \n",
    "    #Adding age feature\n",
    "    \n",
    "    df[\"age\"] = df.year.max() - df.year\n",
    "    features.append(\"age\")\n",
    "    \n",
    "    #Adding num_doors feature\n",
    "    \n",
    "    for var in [2, 3, 4]:\n",
    "        feature = \"num_doors_%s\" % var\n",
    "        df[feature] = (df[\"number_of_doors\"] == var).astype(int)\n",
    "        features.append(feature)\n",
    "    \n",
    "    #Adding make feature\n",
    "    \n",
    "    for var in [\"chevrolet\", \"ford\", \"volkswagen\", \"toyota\", \"dodge\"]:\n",
    "        feature = \"is_make_%s\" % var\n",
    "        df[feature] = (df[\"make\"] == var).astype(int)\n",
    "        features.append(feature)\n",
    "    \n",
    "    \n",
    "    df_features = df[features]\n",
    "    X = df_features.fillna(0).values\n",
    "    \n",
    "    return X"
   ]
  },
  {
   "cell_type": "code",
   "execution_count": 19,
   "id": "7c2151c2",
   "metadata": {},
   "outputs": [],
   "source": [
    "X_train = prepare_X(df_train)\n",
    "X_val = prepare_X(df_val)"
   ]
  },
  {
   "cell_type": "code",
   "execution_count": 20,
   "id": "6fb66abd",
   "metadata": {},
   "outputs": [],
   "source": [
    "model = LinearRegression()\n",
    "model.fit(X_train, Y_train)\n",
    "\n",
    "Y_pred = model.predict(X_val)"
   ]
  },
  {
   "cell_type": "code",
   "execution_count": 21,
   "id": "809951a3",
   "metadata": {},
   "outputs": [
    {
     "name": "stdout",
     "output_type": "stream",
     "text": [
      "RMSE: 0.5004552592515428\n"
     ]
    }
   ],
   "source": [
    "RMSE = mean_squared_error(Y_val, Y_pred, squared = False)\n",
    "print(\"RMSE: {}\".format(RMSE))"
   ]
  },
  {
   "cell_type": "code",
   "execution_count": 42,
   "id": "4d04b486",
   "metadata": {},
   "outputs": [
    {
     "data": {
      "text/plain": [
       "regular_unleaded                                7172\n",
       "premium_unleaded_(required)                     2009\n",
       "premium_unleaded_(recommended)                  1523\n",
       "flex-fuel_(unleaded/e85)                         899\n",
       "diesel                                           154\n",
       "electric                                          66\n",
       "flex-fuel_(premium_unleaded_required/e85)         54\n",
       "flex-fuel_(premium_unleaded_recommended/e85)      26\n",
       "flex-fuel_(unleaded/natural_gas)                   6\n",
       "natural_gas                                        2\n",
       "Name: engine_fuel_type, dtype: int64"
      ]
     },
     "execution_count": 42,
     "metadata": {},
     "output_type": "execute_result"
    }
   ],
   "source": [
    "df[\"engine_fuel_type\"].value_counts()"
   ]
  },
  {
   "cell_type": "code",
   "execution_count": 22,
   "id": "dad5b2d4",
   "metadata": {},
   "outputs": [],
   "source": [
    "def prepare_X(df_received):\n",
    "    df = df_received.copy()\n",
    "    features = base.copy()\n",
    "    \n",
    "    #Adding age feature\n",
    "    \n",
    "    df[\"age\"] = df.year.max() - df.year\n",
    "    features.append(\"age\")\n",
    "    \n",
    "    #Adding num_dors feature\n",
    "    \n",
    "    for var in [2, 3, 4]:\n",
    "        feature = \"num_doors_%s\" % var\n",
    "        df[feature] = (df[\"number_of_doors\"] == var).astype(int)\n",
    "        features.append(feature)\n",
    "        \n",
    "    #Adding make feature\n",
    "    \n",
    "    for v in [\"chevrolet\", \"ford\", \"volkswagen\", \"toyota\", \"dodge\"]:\n",
    "        feature = \"is_make_%s\" % v\n",
    "        df[feature] = (df[\"make\"] == v).astype(int)\n",
    "        features.append(feature)\n",
    "        \n",
    "    #Adding engine_fuel_type feature\n",
    "\n",
    "    for v in [\"regular_unleaded\", \"premium_unleaded_(required)\", \n",
    "              \"premium_unleaded_(recommended)\", \"flex-fuel_(unleaded/e85)\"]:\n",
    "        feature = \"is_type_%s\" % v\n",
    "        df[feature] = (df[\"engine_fuel_type\"] == v).astype(int)\n",
    "        features.append(feature)\n",
    "  \n",
    "\n",
    "    df_features = df[features]\n",
    "    X = df_features.fillna(0).values\n",
    "    \n",
    "    return X"
   ]
  },
  {
   "cell_type": "code",
   "execution_count": 23,
   "id": "64cf3fbc",
   "metadata": {},
   "outputs": [],
   "source": [
    "X_train = prepare_X(df_train)\n",
    "X_val = prepare_X(df_val)"
   ]
  },
  {
   "cell_type": "code",
   "execution_count": 24,
   "id": "d1c91871",
   "metadata": {},
   "outputs": [],
   "source": [
    "model = LinearRegression()\n",
    "model.fit(X_train, Y_train)\n",
    "\n",
    "Y_pred = model.predict(X_val)"
   ]
  },
  {
   "cell_type": "code",
   "execution_count": 25,
   "id": "4c4ee5b9",
   "metadata": {},
   "outputs": [
    {
     "name": "stdout",
     "output_type": "stream",
     "text": [
      "RMSE: 0.47007964255628654\n"
     ]
    }
   ],
   "source": [
    "RMSE = mean_squared_error(Y_val, Y_pred, squared = False)\n",
    "print(\"RMSE: {}\".format(RMSE))"
   ]
  },
  {
   "cell_type": "code",
   "execution_count": 34,
   "id": "c35a0994",
   "metadata": {},
   "outputs": [
    {
     "data": {
      "text/plain": [
       "front_wheel_drive    4787\n",
       "rear_wheel_drive     3371\n",
       "all_wheel_drive      2353\n",
       "four_wheel_drive     1403\n",
       "Name: driven_wheels, dtype: int64"
      ]
     },
     "execution_count": 34,
     "metadata": {},
     "output_type": "execute_result"
    }
   ],
   "source": [
    "df[\"driven_wheels\"].value_counts()"
   ]
  },
  {
   "cell_type": "code",
   "execution_count": 35,
   "id": "a2c1b771",
   "metadata": {},
   "outputs": [
    {
     "data": {
      "text/plain": [
       "crossover             1110\n",
       "flex_fuel              872\n",
       "luxury                 855\n",
       "luxury,performance     673\n",
       "hatchback              641\n",
       "Name: market_category, dtype: int64"
      ]
     },
     "execution_count": 35,
     "metadata": {},
     "output_type": "execute_result"
    }
   ],
   "source": [
    "df[\"market_category\"].value_counts().head(5)"
   ]
  },
  {
   "cell_type": "code",
   "execution_count": 36,
   "id": "26a86228",
   "metadata": {},
   "outputs": [
    {
     "data": {
      "text/plain": [
       "compact    4764\n",
       "midsize    4373\n",
       "large      2777\n",
       "Name: vehicle_size, dtype: int64"
      ]
     },
     "execution_count": 36,
     "metadata": {},
     "output_type": "execute_result"
    }
   ],
   "source": [
    "df[\"vehicle_size\"].value_counts().head(5)"
   ]
  },
  {
   "cell_type": "code",
   "execution_count": 37,
   "id": "01400c00",
   "metadata": {},
   "outputs": [
    {
     "data": {
      "text/plain": [
       "sedan            3048\n",
       "4dr_suv          2488\n",
       "coupe            1211\n",
       "convertible       793\n",
       "4dr_hatchback     702\n",
       "Name: vehicle_style, dtype: int64"
      ]
     },
     "execution_count": 37,
     "metadata": {},
     "output_type": "execute_result"
    }
   ],
   "source": [
    "df[\"vehicle_style\"].value_counts().head(5)"
   ]
  },
  {
   "cell_type": "code",
   "execution_count": 43,
   "id": "93e0c22b",
   "metadata": {},
   "outputs": [],
   "source": [
    "def prepare_X(df_received):\n",
    "    df = df_received.copy()\n",
    "    features = base.copy()\n",
    "    \n",
    "    #Adding age feature\n",
    "\n",
    "    df[\"age\"] = df.year.max() - df.year\n",
    "    features.append(\"age\")\n",
    "    \n",
    "    #Adding num_dors feature\n",
    "    \n",
    "    for var in [2, 3, 4]:\n",
    "        feature = \"num_doors_%s\" % var\n",
    "        df[feature] = (df[\"number_of_doors\"] == var).astype(int)\n",
    "        features.append(feature)\n",
    "        \n",
    "    #Adding make feature\n",
    "    \n",
    "    for var in [\"chevrolet\", \"ford\", \"volkswagen\", \"toyota\", \"dodge\"]:\n",
    "        feature = \"is_make_%s\" % var\n",
    "        df[feature] = (df[\"make\"] == var).astype(int)\n",
    "        features.append(feature)\n",
    "        \n",
    "    #Adding engine_fuel_type feature\n",
    "\n",
    "    for var in [\"regular_unleaded\", \"premium_unleaded_(required)\", \n",
    "              \"premium_unleaded_(recommended)\", \"flex-fuel_(unleaded/e85)\"]:\n",
    "        feature = \"is_type_%s\" % var\n",
    "        df[feature] = (df[\"engine_fuel_type\"] == var).astype(int)\n",
    "        features.append(feature)\n",
    "        \n",
    "    #Adding feature\n",
    "\n",
    "    for var in [\"automatic\", \"manual\", \"automated_manual\"]:\n",
    "        feature = \"is_transmission_%s\" % var\n",
    "        df[feature] = (df[\"transmission_type\"] == var).astype(int)\n",
    "        features.append(feature)\n",
    "        \n",
    "    #Adding driven_wheels feature\n",
    "\n",
    "    for var in [\"front_wheel_drive\", \"rear_wheel_drive\", \"all_wheel_drive\", \"four_wheel_drive\"]:\n",
    "        feature = \"is_driven_wheens_%s\" % var\n",
    "        df[feature] = (df[\"driven_wheels\"] == var).astype(int)\n",
    "        features.append(feature)\n",
    "        \n",
    "    #Adding market category feature\n",
    "\n",
    "    for var in [\"crossover\", \"flex_fuel\", \"luxury\", \"luxury,performance\", \"hatchback\"]:\n",
    "        feature = \"is_mc_%s\" % var\n",
    "        df[feature] = (df[\"market_category\"] == var).astype(int)\n",
    "        features.append(feature)\n",
    "        \n",
    "    #Adding vehicle_size feature\n",
    "\n",
    "    for var in [\"compact\", \"midsize\", \"large\"]:\n",
    "        feature = \"is_size_%s\" % var\n",
    "        df[feature] = (df[\"vehicle_size\"] == var).astype(int)\n",
    "        features.append(feature)\n",
    "    \n",
    "    #Adding vehicle_style feature\n",
    "\n",
    "    for var in [\"sedan\", \"4dr_suv\", \"coupe\", \"convertible\", \"4dr_hatchback\"]:\n",
    "        feature = \"is_style_%s\" % var\n",
    "        df[feature] = (df[\"vehicle_style\"] == var).astype(int)\n",
    "        features.append(feature)\n",
    "\n",
    "    df_features = df[features]\n",
    "    X = df_features.fillna(0).values\n",
    "    \n",
    "    return X"
   ]
  },
  {
   "cell_type": "code",
   "execution_count": 27,
   "id": "6052558e",
   "metadata": {},
   "outputs": [],
   "source": [
    "X_train = prepare_X(df_train)\n",
    "X_val = prepare_X(df_val)"
   ]
  },
  {
   "cell_type": "code",
   "execution_count": 28,
   "id": "3d74a705",
   "metadata": {},
   "outputs": [],
   "source": [
    "model = LinearRegression()\n",
    "model.fit(X_train, Y_train)\n",
    "\n",
    "Y_pred = model.predict(X_val)"
   ]
  },
  {
   "cell_type": "code",
   "execution_count": 29,
   "id": "e19f615c",
   "metadata": {},
   "outputs": [
    {
     "name": "stdout",
     "output_type": "stream",
     "text": [
      "RMSE: 0.46025728088151563\n"
     ]
    }
   ],
   "source": [
    "RMSE = mean_squared_error(Y_val, Y_pred, squared = False)\n",
    "print(\"RMSE: {}\".format(RMSE))"
   ]
  },
  {
   "cell_type": "markdown",
   "id": "e557ba57",
   "metadata": {},
   "source": [
    "Adding more and more features is not always the best choice. In our model the MSE is getting lower when we have added more features but sometimes it does not work."
   ]
  },
  {
   "cell_type": "markdown",
   "id": "40956db9",
   "metadata": {},
   "source": [
    "## 6. Regularization"
   ]
  },
  {
   "cell_type": "markdown",
   "id": "27f5f56a",
   "metadata": {},
   "source": [
    "Now, we are going to apply a linear regression with Ridge regularization to solve the numerical instability (maybe some series are a combination of others or the data is noisy). "
   ]
  },
  {
   "cell_type": "code",
   "execution_count": 32,
   "id": "4ee69f60",
   "metadata": {},
   "outputs": [],
   "source": [
    "X_train = prepare_X(df_train)\n",
    "X_val = prepare_X(df_val)"
   ]
  },
  {
   "cell_type": "code",
   "execution_count": 34,
   "id": "e2684282",
   "metadata": {},
   "outputs": [],
   "source": [
    "model = Ridge()\n",
    "model.fit(X_train, Y_train)\n",
    "\n",
    "Y_pred = model.predict(X_val)"
   ]
  },
  {
   "cell_type": "code",
   "execution_count": 35,
   "id": "7cfa442a",
   "metadata": {},
   "outputs": [
    {
     "name": "stdout",
     "output_type": "stream",
     "text": [
      "RMSE: 0.4597703006140645\n"
     ]
    }
   ],
   "source": [
    "RMSE = mean_squared_error(Y_val, Y_pred, squared = False)\n",
    "print(\"RMSE: {}\".format(RMSE))"
   ]
  },
  {
   "cell_type": "markdown",
   "id": "d7a00fc1",
   "metadata": {},
   "source": [
    "## 7. Using the model"
   ]
  },
  {
   "cell_type": "code",
   "execution_count": 37,
   "id": "d4c7cb21",
   "metadata": {},
   "outputs": [
    {
     "name": "stdout",
     "output_type": "stream",
     "text": [
      "NUMBER OF CARS IN THE DATASET: 11914\n"
     ]
    }
   ],
   "source": [
    "print(\"NUMBER OF CARS IN THE DATASET: {}\".format(len(df)))"
   ]
  },
  {
   "cell_type": "code",
   "execution_count": 55,
   "id": "3ce277c3",
   "metadata": {},
   "outputs": [
    {
     "data": {
      "text/plain": [
       "{'make': 'volkswagen',\n",
       " 'model': 'golf',\n",
       " 'year': 2015,\n",
       " 'engine_fuel_type': 'diesel',\n",
       " 'engine_hp': 150.0,\n",
       " 'engine_cylinders': 4.0,\n",
       " 'transmission_type': 'manual',\n",
       " 'driven_wheels': 'front_wheel_drive',\n",
       " 'number_of_doors': 4.0,\n",
       " 'market_category': 'hatchback,diesel',\n",
       " 'vehicle_size': 'compact',\n",
       " 'vehicle_style': '4dr_hatchback',\n",
       " 'highway_mpg': 45,\n",
       " 'city_mpg': 30,\n",
       " 'popularity': 873}"
      ]
     },
     "execution_count": 55,
     "metadata": {},
     "output_type": "execute_result"
    }
   ],
   "source": [
    "car_selected = 456\n",
    "\n",
    "car = df_test.iloc[car_selected].to_dict()\n",
    "car"
   ]
  },
  {
   "cell_type": "code",
   "execution_count": 56,
   "id": "f3ed1717",
   "metadata": {},
   "outputs": [
    {
     "name": "stdout",
     "output_type": "stream",
     "text": [
      "Suggested price: [35247.7270379]\n"
     ]
    }
   ],
   "source": [
    "df_car = pd.DataFrame([car])\n",
    "\n",
    "X = prepare_X(df_car)\n",
    "Y_pred = model.predict(X)\n",
    "\n",
    "suggestion = np.expm1(Y_pred)\n",
    "print(\"Suggested price: {}\".format(suggestion))"
   ]
  }
 ],
 "metadata": {
  "kernelspec": {
   "display_name": "Python 3 (ipykernel)",
   "language": "python",
   "name": "python3"
  },
  "language_info": {
   "codemirror_mode": {
    "name": "ipython",
    "version": 3
   },
   "file_extension": ".py",
   "mimetype": "text/x-python",
   "name": "python",
   "nbconvert_exporter": "python",
   "pygments_lexer": "ipython3",
   "version": "3.9.12"
  }
 },
 "nbformat": 4,
 "nbformat_minor": 5
}
