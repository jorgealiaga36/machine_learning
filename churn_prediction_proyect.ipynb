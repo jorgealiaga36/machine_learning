{
 "cells": [
  {
   "cell_type": "markdown",
   "id": "5a5abbc7",
   "metadata": {},
   "source": [
    "# - Churn prediction - Proyect"
   ]
  },
  {
   "cell_type": "code",
   "execution_count": 45,
   "id": "12a0c665",
   "metadata": {},
   "outputs": [],
   "source": [
    "__author__ = \"Jorge Aliaga Luque\"\n",
    "__website__ = \"https://jorgealiaga36.github.io/jorge-aliaga-luque/\""
   ]
  },
  {
   "cell_type": "markdown",
   "id": "b96a1f18",
   "metadata": {},
   "source": [
    "The main goal of this proyect is to apply machine learning to predict churn in a telecom company.\n",
    "\n",
    "Imagine that we are working at a telecom company that offers phone and internet services, and we have a problem: some of our customers are churning. They no longer are using our services and are going to a different provider. We would like to prevent\n",
    "that from happening, so we develop a system for identifying these customers and offer them an incentive to stay.\n",
    "\n",
    "For that, we will apply a Logistic Regression model and we will analalize its performance."
   ]
  },
  {
   "cell_type": "markdown",
   "id": "ecf8a95b",
   "metadata": {},
   "source": [
    "## Table of Contents\n",
    "\n",
    "- [**1. Dataset review and preparation**](#ap1)\n",
    "\n",
    "\n",
    "- [**2. Exploratory data analysis**](#ap2)\n",
    " \n",
    "    - 2.1. [Missing values](#ap2_1)\n",
    "    - 2.2. [Distribution of the target variable](#ap2_2)\n",
    "    - 2.3. [Numerical variables](#ap2_3)\n",
    "    - 2.4. [Categorical variables](#ap2_4)\n",
    "    - 2.5. [Correlations](#ap2_4)\n",
    "    \n",
    "\n",
    "- [**3. Data Preprocessing and Feature engineering**](#ap3)\n",
    "\n",
    "    - 3.1. [Feature Scaling](#ap3_1)\n",
    "    - 3.2. [One hot encoding](#ap3_2)\n",
    "    \n",
    "    \n",
    "- [**4. Model fitting and selection**](#ap4)\n",
    "\n",
    "    - 4.1. [Hyperparameters tunning](#ap4_1)\n",
    "    - 4.2. [Model selected](#ap4_2)\n",
    "    - 4.3. [Evaluate model](#ap4_3)\n",
    "    \n",
    "     \n",
    "- [**5. Model interpretation**](#ap5)"
   ]
  },
  {
   "cell_type": "markdown",
   "id": "472c65ae",
   "metadata": {},
   "source": [
    "### Import libraries"
   ]
  },
  {
   "cell_type": "code",
   "execution_count": 46,
   "id": "84b7f257",
   "metadata": {},
   "outputs": [],
   "source": [
    "import pandas as pd\n",
    "import numpy as np\n",
    "import seaborn as sns\n",
    "\n",
    "from matplotlib import pyplot as plt\n",
    "%matplotlib inline\n",
    "\n",
    "from sklearn.linear_model import LogisticRegression\n",
    "from sklearn.model_selection import train_test_split, GridSearchCV\n",
    "from sklearn.metrics import confusion_matrix, classification_report, roc_auc_score, roc_curve, accuracy_score\n",
    "from sklearn.preprocessing import StandardScaler\n",
    "\n",
    "import warnings\n",
    "warnings.simplefilter(action='ignore', category=FutureWarning)\n",
    "\n",
    "sns.set_style('darkgrid')"
   ]
  },
  {
   "cell_type": "markdown",
   "id": "b833260a",
   "metadata": {},
   "source": [
    "<a name=\"ap1\"></a>\n",
    "# 1. Dataset review  and preparation"
   ]
  },
  {
   "cell_type": "markdown",
   "id": "a4c619e2",
   "metadata": {},
   "source": [
    "### Load data"
   ]
  },
  {
   "cell_type": "code",
   "execution_count": 47,
   "id": "ec642e2b",
   "metadata": {
    "scrolled": true
   },
   "outputs": [
    {
     "name": "stdout",
     "output_type": "stream",
     "text": [
      "Number of examples: 7043\n"
     ]
    },
    {
     "data": {
      "text/html": [
       "<div>\n",
       "<style scoped>\n",
       "    .dataframe tbody tr th:only-of-type {\n",
       "        vertical-align: middle;\n",
       "    }\n",
       "\n",
       "    .dataframe tbody tr th {\n",
       "        vertical-align: top;\n",
       "    }\n",
       "\n",
       "    .dataframe thead th {\n",
       "        text-align: right;\n",
       "    }\n",
       "</style>\n",
       "<table border=\"1\" class=\"dataframe\">\n",
       "  <thead>\n",
       "    <tr style=\"text-align: right;\">\n",
       "      <th></th>\n",
       "      <th>0</th>\n",
       "      <th>1</th>\n",
       "      <th>2</th>\n",
       "      <th>3</th>\n",
       "      <th>4</th>\n",
       "    </tr>\n",
       "  </thead>\n",
       "  <tbody>\n",
       "    <tr>\n",
       "      <th>customerID</th>\n",
       "      <td>7590-VHVEG</td>\n",
       "      <td>5575-GNVDE</td>\n",
       "      <td>3668-QPYBK</td>\n",
       "      <td>7795-CFOCW</td>\n",
       "      <td>9237-HQITU</td>\n",
       "    </tr>\n",
       "    <tr>\n",
       "      <th>gender</th>\n",
       "      <td>Female</td>\n",
       "      <td>Male</td>\n",
       "      <td>Male</td>\n",
       "      <td>Male</td>\n",
       "      <td>Female</td>\n",
       "    </tr>\n",
       "    <tr>\n",
       "      <th>SeniorCitizen</th>\n",
       "      <td>0</td>\n",
       "      <td>0</td>\n",
       "      <td>0</td>\n",
       "      <td>0</td>\n",
       "      <td>0</td>\n",
       "    </tr>\n",
       "    <tr>\n",
       "      <th>Partner</th>\n",
       "      <td>Yes</td>\n",
       "      <td>No</td>\n",
       "      <td>No</td>\n",
       "      <td>No</td>\n",
       "      <td>No</td>\n",
       "    </tr>\n",
       "    <tr>\n",
       "      <th>Dependents</th>\n",
       "      <td>No</td>\n",
       "      <td>No</td>\n",
       "      <td>No</td>\n",
       "      <td>No</td>\n",
       "      <td>No</td>\n",
       "    </tr>\n",
       "    <tr>\n",
       "      <th>tenure</th>\n",
       "      <td>1</td>\n",
       "      <td>34</td>\n",
       "      <td>2</td>\n",
       "      <td>45</td>\n",
       "      <td>2</td>\n",
       "    </tr>\n",
       "    <tr>\n",
       "      <th>PhoneService</th>\n",
       "      <td>No</td>\n",
       "      <td>Yes</td>\n",
       "      <td>Yes</td>\n",
       "      <td>No</td>\n",
       "      <td>Yes</td>\n",
       "    </tr>\n",
       "    <tr>\n",
       "      <th>MultipleLines</th>\n",
       "      <td>No phone service</td>\n",
       "      <td>No</td>\n",
       "      <td>No</td>\n",
       "      <td>No phone service</td>\n",
       "      <td>No</td>\n",
       "    </tr>\n",
       "    <tr>\n",
       "      <th>InternetService</th>\n",
       "      <td>DSL</td>\n",
       "      <td>DSL</td>\n",
       "      <td>DSL</td>\n",
       "      <td>DSL</td>\n",
       "      <td>Fiber optic</td>\n",
       "    </tr>\n",
       "    <tr>\n",
       "      <th>OnlineSecurity</th>\n",
       "      <td>No</td>\n",
       "      <td>Yes</td>\n",
       "      <td>Yes</td>\n",
       "      <td>Yes</td>\n",
       "      <td>No</td>\n",
       "    </tr>\n",
       "    <tr>\n",
       "      <th>OnlineBackup</th>\n",
       "      <td>Yes</td>\n",
       "      <td>No</td>\n",
       "      <td>Yes</td>\n",
       "      <td>No</td>\n",
       "      <td>No</td>\n",
       "    </tr>\n",
       "    <tr>\n",
       "      <th>DeviceProtection</th>\n",
       "      <td>No</td>\n",
       "      <td>Yes</td>\n",
       "      <td>No</td>\n",
       "      <td>Yes</td>\n",
       "      <td>No</td>\n",
       "    </tr>\n",
       "    <tr>\n",
       "      <th>TechSupport</th>\n",
       "      <td>No</td>\n",
       "      <td>No</td>\n",
       "      <td>No</td>\n",
       "      <td>Yes</td>\n",
       "      <td>No</td>\n",
       "    </tr>\n",
       "    <tr>\n",
       "      <th>StreamingTV</th>\n",
       "      <td>No</td>\n",
       "      <td>No</td>\n",
       "      <td>No</td>\n",
       "      <td>No</td>\n",
       "      <td>No</td>\n",
       "    </tr>\n",
       "    <tr>\n",
       "      <th>StreamingMovies</th>\n",
       "      <td>No</td>\n",
       "      <td>No</td>\n",
       "      <td>No</td>\n",
       "      <td>No</td>\n",
       "      <td>No</td>\n",
       "    </tr>\n",
       "    <tr>\n",
       "      <th>Contract</th>\n",
       "      <td>Month-to-month</td>\n",
       "      <td>One year</td>\n",
       "      <td>Month-to-month</td>\n",
       "      <td>One year</td>\n",
       "      <td>Month-to-month</td>\n",
       "    </tr>\n",
       "    <tr>\n",
       "      <th>PaperlessBilling</th>\n",
       "      <td>Yes</td>\n",
       "      <td>No</td>\n",
       "      <td>Yes</td>\n",
       "      <td>No</td>\n",
       "      <td>Yes</td>\n",
       "    </tr>\n",
       "    <tr>\n",
       "      <th>PaymentMethod</th>\n",
       "      <td>Electronic check</td>\n",
       "      <td>Mailed check</td>\n",
       "      <td>Mailed check</td>\n",
       "      <td>Bank transfer (automatic)</td>\n",
       "      <td>Electronic check</td>\n",
       "    </tr>\n",
       "    <tr>\n",
       "      <th>MonthlyCharges</th>\n",
       "      <td>29.85</td>\n",
       "      <td>56.95</td>\n",
       "      <td>53.85</td>\n",
       "      <td>42.3</td>\n",
       "      <td>70.7</td>\n",
       "    </tr>\n",
       "    <tr>\n",
       "      <th>TotalCharges</th>\n",
       "      <td>29.85</td>\n",
       "      <td>1889.5</td>\n",
       "      <td>108.15</td>\n",
       "      <td>1840.75</td>\n",
       "      <td>151.65</td>\n",
       "    </tr>\n",
       "    <tr>\n",
       "      <th>Churn</th>\n",
       "      <td>No</td>\n",
       "      <td>No</td>\n",
       "      <td>Yes</td>\n",
       "      <td>No</td>\n",
       "      <td>Yes</td>\n",
       "    </tr>\n",
       "  </tbody>\n",
       "</table>\n",
       "</div>"
      ],
      "text/plain": [
       "                                 0             1               2  \\\n",
       "customerID              7590-VHVEG    5575-GNVDE      3668-QPYBK   \n",
       "gender                      Female          Male            Male   \n",
       "SeniorCitizen                    0             0               0   \n",
       "Partner                        Yes            No              No   \n",
       "Dependents                      No            No              No   \n",
       "tenure                           1            34               2   \n",
       "PhoneService                    No           Yes             Yes   \n",
       "MultipleLines     No phone service            No              No   \n",
       "InternetService                DSL           DSL             DSL   \n",
       "OnlineSecurity                  No           Yes             Yes   \n",
       "OnlineBackup                   Yes            No             Yes   \n",
       "DeviceProtection                No           Yes              No   \n",
       "TechSupport                     No            No              No   \n",
       "StreamingTV                     No            No              No   \n",
       "StreamingMovies                 No            No              No   \n",
       "Contract            Month-to-month      One year  Month-to-month   \n",
       "PaperlessBilling               Yes            No             Yes   \n",
       "PaymentMethod     Electronic check  Mailed check    Mailed check   \n",
       "MonthlyCharges               29.85         56.95           53.85   \n",
       "TotalCharges                 29.85        1889.5          108.15   \n",
       "Churn                           No            No             Yes   \n",
       "\n",
       "                                          3                 4  \n",
       "customerID                       7795-CFOCW        9237-HQITU  \n",
       "gender                                 Male            Female  \n",
       "SeniorCitizen                             0                 0  \n",
       "Partner                                  No                No  \n",
       "Dependents                               No                No  \n",
       "tenure                                   45                 2  \n",
       "PhoneService                             No               Yes  \n",
       "MultipleLines              No phone service                No  \n",
       "InternetService                         DSL       Fiber optic  \n",
       "OnlineSecurity                          Yes                No  \n",
       "OnlineBackup                             No                No  \n",
       "DeviceProtection                        Yes                No  \n",
       "TechSupport                             Yes                No  \n",
       "StreamingTV                              No                No  \n",
       "StreamingMovies                          No                No  \n",
       "Contract                           One year    Month-to-month  \n",
       "PaperlessBilling                         No               Yes  \n",
       "PaymentMethod     Bank transfer (automatic)  Electronic check  \n",
       "MonthlyCharges                         42.3              70.7  \n",
       "TotalCharges                        1840.75            151.65  \n",
       "Churn                                    No               Yes  "
      ]
     },
     "execution_count": 47,
     "metadata": {},
     "output_type": "execute_result"
    }
   ],
   "source": [
    "df = pd.read_csv('datasets/churn.csv')\n",
    "\n",
    "print('Number of examples: {}'.format(len(df)))\n",
    "df.head().T"
   ]
  },
  {
   "cell_type": "markdown",
   "id": "e1d99bb6",
   "metadata": {},
   "source": [
    "### Data preparation "
   ]
  },
  {
   "cell_type": "code",
   "execution_count": 48,
   "id": "62f5b7a0",
   "metadata": {
    "scrolled": true
   },
   "outputs": [
    {
     "name": "stdout",
     "output_type": "stream",
     "text": [
      "<class 'pandas.core.frame.DataFrame'>\n",
      "RangeIndex: 7043 entries, 0 to 7042\n",
      "Data columns (total 21 columns):\n",
      " #   Column            Non-Null Count  Dtype  \n",
      "---  ------            --------------  -----  \n",
      " 0   customerID        7043 non-null   object \n",
      " 1   gender            7043 non-null   object \n",
      " 2   SeniorCitizen     7043 non-null   int64  \n",
      " 3   Partner           7043 non-null   object \n",
      " 4   Dependents        7043 non-null   object \n",
      " 5   tenure            7043 non-null   int64  \n",
      " 6   PhoneService      7043 non-null   object \n",
      " 7   MultipleLines     7043 non-null   object \n",
      " 8   InternetService   7043 non-null   object \n",
      " 9   OnlineSecurity    7043 non-null   object \n",
      " 10  OnlineBackup      7043 non-null   object \n",
      " 11  DeviceProtection  7043 non-null   object \n",
      " 12  TechSupport       7043 non-null   object \n",
      " 13  StreamingTV       7043 non-null   object \n",
      " 14  StreamingMovies   7043 non-null   object \n",
      " 15  Contract          7043 non-null   object \n",
      " 16  PaperlessBilling  7043 non-null   object \n",
      " 17  PaymentMethod     7043 non-null   object \n",
      " 18  MonthlyCharges    7043 non-null   float64\n",
      " 19  TotalCharges      7043 non-null   object \n",
      " 20  Churn             7043 non-null   object \n",
      "dtypes: float64(1), int64(2), object(18)\n",
      "memory usage: 1.1+ MB\n"
     ]
    }
   ],
   "source": [
    "df.info()"
   ]
  },
  {
   "cell_type": "markdown",
   "id": "fcc99fd8",
   "metadata": {},
   "source": [
    "We can see incorrect data types:\n",
    "\n",
    "+ SeniorCitizen: Int64 type (1/0) where it should be object type (yes/no).\n",
    "+ TotalCharges: Object type where it should be an Int64 type.\n",
    "+ Churn: Object type (yes/no) where it should be an Int64 type (1/0)"
   ]
  },
  {
   "cell_type": "code",
   "execution_count": 49,
   "id": "c03ee130",
   "metadata": {},
   "outputs": [],
   "source": [
    "df['SeniorCitizen'] = df['SeniorCitizen'].map({1: 'yes', 0: 'No'})\n",
    "\n",
    "df.TotalCharges = pd.to_numeric(df.TotalCharges, errors='coerce')\n",
    "\n",
    "df['Churn'] = df['Churn'].map({'Yes': 1, 'No': 0})"
   ]
  },
  {
   "cell_type": "markdown",
   "id": "2004499b",
   "metadata": {},
   "source": [
    "Also we must remove customer IDs from the dataset."
   ]
  },
  {
   "cell_type": "code",
   "execution_count": 50,
   "id": "df149b64",
   "metadata": {},
   "outputs": [],
   "source": [
    "df = df.drop(columns = ['customerID'], axis=1)"
   ]
  },
  {
   "cell_type": "code",
   "execution_count": 51,
   "id": "6efcac1e",
   "metadata": {},
   "outputs": [
    {
     "data": {
      "text/html": [
       "<div>\n",
       "<style scoped>\n",
       "    .dataframe tbody tr th:only-of-type {\n",
       "        vertical-align: middle;\n",
       "    }\n",
       "\n",
       "    .dataframe tbody tr th {\n",
       "        vertical-align: top;\n",
       "    }\n",
       "\n",
       "    .dataframe thead th {\n",
       "        text-align: right;\n",
       "    }\n",
       "</style>\n",
       "<table border=\"1\" class=\"dataframe\">\n",
       "  <thead>\n",
       "    <tr style=\"text-align: right;\">\n",
       "      <th></th>\n",
       "      <th>0</th>\n",
       "      <th>1</th>\n",
       "      <th>2</th>\n",
       "      <th>3</th>\n",
       "      <th>4</th>\n",
       "    </tr>\n",
       "  </thead>\n",
       "  <tbody>\n",
       "    <tr>\n",
       "      <th>gender</th>\n",
       "      <td>Female</td>\n",
       "      <td>Male</td>\n",
       "      <td>Male</td>\n",
       "      <td>Male</td>\n",
       "      <td>Female</td>\n",
       "    </tr>\n",
       "    <tr>\n",
       "      <th>SeniorCitizen</th>\n",
       "      <td>No</td>\n",
       "      <td>No</td>\n",
       "      <td>No</td>\n",
       "      <td>No</td>\n",
       "      <td>No</td>\n",
       "    </tr>\n",
       "    <tr>\n",
       "      <th>Partner</th>\n",
       "      <td>Yes</td>\n",
       "      <td>No</td>\n",
       "      <td>No</td>\n",
       "      <td>No</td>\n",
       "      <td>No</td>\n",
       "    </tr>\n",
       "    <tr>\n",
       "      <th>Dependents</th>\n",
       "      <td>No</td>\n",
       "      <td>No</td>\n",
       "      <td>No</td>\n",
       "      <td>No</td>\n",
       "      <td>No</td>\n",
       "    </tr>\n",
       "    <tr>\n",
       "      <th>tenure</th>\n",
       "      <td>1</td>\n",
       "      <td>34</td>\n",
       "      <td>2</td>\n",
       "      <td>45</td>\n",
       "      <td>2</td>\n",
       "    </tr>\n",
       "    <tr>\n",
       "      <th>PhoneService</th>\n",
       "      <td>No</td>\n",
       "      <td>Yes</td>\n",
       "      <td>Yes</td>\n",
       "      <td>No</td>\n",
       "      <td>Yes</td>\n",
       "    </tr>\n",
       "    <tr>\n",
       "      <th>MultipleLines</th>\n",
       "      <td>No phone service</td>\n",
       "      <td>No</td>\n",
       "      <td>No</td>\n",
       "      <td>No phone service</td>\n",
       "      <td>No</td>\n",
       "    </tr>\n",
       "    <tr>\n",
       "      <th>InternetService</th>\n",
       "      <td>DSL</td>\n",
       "      <td>DSL</td>\n",
       "      <td>DSL</td>\n",
       "      <td>DSL</td>\n",
       "      <td>Fiber optic</td>\n",
       "    </tr>\n",
       "    <tr>\n",
       "      <th>OnlineSecurity</th>\n",
       "      <td>No</td>\n",
       "      <td>Yes</td>\n",
       "      <td>Yes</td>\n",
       "      <td>Yes</td>\n",
       "      <td>No</td>\n",
       "    </tr>\n",
       "    <tr>\n",
       "      <th>OnlineBackup</th>\n",
       "      <td>Yes</td>\n",
       "      <td>No</td>\n",
       "      <td>Yes</td>\n",
       "      <td>No</td>\n",
       "      <td>No</td>\n",
       "    </tr>\n",
       "    <tr>\n",
       "      <th>DeviceProtection</th>\n",
       "      <td>No</td>\n",
       "      <td>Yes</td>\n",
       "      <td>No</td>\n",
       "      <td>Yes</td>\n",
       "      <td>No</td>\n",
       "    </tr>\n",
       "    <tr>\n",
       "      <th>TechSupport</th>\n",
       "      <td>No</td>\n",
       "      <td>No</td>\n",
       "      <td>No</td>\n",
       "      <td>Yes</td>\n",
       "      <td>No</td>\n",
       "    </tr>\n",
       "    <tr>\n",
       "      <th>StreamingTV</th>\n",
       "      <td>No</td>\n",
       "      <td>No</td>\n",
       "      <td>No</td>\n",
       "      <td>No</td>\n",
       "      <td>No</td>\n",
       "    </tr>\n",
       "    <tr>\n",
       "      <th>StreamingMovies</th>\n",
       "      <td>No</td>\n",
       "      <td>No</td>\n",
       "      <td>No</td>\n",
       "      <td>No</td>\n",
       "      <td>No</td>\n",
       "    </tr>\n",
       "    <tr>\n",
       "      <th>Contract</th>\n",
       "      <td>Month-to-month</td>\n",
       "      <td>One year</td>\n",
       "      <td>Month-to-month</td>\n",
       "      <td>One year</td>\n",
       "      <td>Month-to-month</td>\n",
       "    </tr>\n",
       "    <tr>\n",
       "      <th>PaperlessBilling</th>\n",
       "      <td>Yes</td>\n",
       "      <td>No</td>\n",
       "      <td>Yes</td>\n",
       "      <td>No</td>\n",
       "      <td>Yes</td>\n",
       "    </tr>\n",
       "    <tr>\n",
       "      <th>PaymentMethod</th>\n",
       "      <td>Electronic check</td>\n",
       "      <td>Mailed check</td>\n",
       "      <td>Mailed check</td>\n",
       "      <td>Bank transfer (automatic)</td>\n",
       "      <td>Electronic check</td>\n",
       "    </tr>\n",
       "    <tr>\n",
       "      <th>MonthlyCharges</th>\n",
       "      <td>29.85</td>\n",
       "      <td>56.95</td>\n",
       "      <td>53.85</td>\n",
       "      <td>42.3</td>\n",
       "      <td>70.7</td>\n",
       "    </tr>\n",
       "    <tr>\n",
       "      <th>TotalCharges</th>\n",
       "      <td>29.85</td>\n",
       "      <td>1889.5</td>\n",
       "      <td>108.15</td>\n",
       "      <td>1840.75</td>\n",
       "      <td>151.65</td>\n",
       "    </tr>\n",
       "    <tr>\n",
       "      <th>Churn</th>\n",
       "      <td>0</td>\n",
       "      <td>0</td>\n",
       "      <td>1</td>\n",
       "      <td>0</td>\n",
       "      <td>1</td>\n",
       "    </tr>\n",
       "  </tbody>\n",
       "</table>\n",
       "</div>"
      ],
      "text/plain": [
       "                                 0             1               2  \\\n",
       "gender                      Female          Male            Male   \n",
       "SeniorCitizen                   No            No              No   \n",
       "Partner                        Yes            No              No   \n",
       "Dependents                      No            No              No   \n",
       "tenure                           1            34               2   \n",
       "PhoneService                    No           Yes             Yes   \n",
       "MultipleLines     No phone service            No              No   \n",
       "InternetService                DSL           DSL             DSL   \n",
       "OnlineSecurity                  No           Yes             Yes   \n",
       "OnlineBackup                   Yes            No             Yes   \n",
       "DeviceProtection                No           Yes              No   \n",
       "TechSupport                     No            No              No   \n",
       "StreamingTV                     No            No              No   \n",
       "StreamingMovies                 No            No              No   \n",
       "Contract            Month-to-month      One year  Month-to-month   \n",
       "PaperlessBilling               Yes            No             Yes   \n",
       "PaymentMethod     Electronic check  Mailed check    Mailed check   \n",
       "MonthlyCharges               29.85         56.95           53.85   \n",
       "TotalCharges                 29.85        1889.5          108.15   \n",
       "Churn                            0             0               1   \n",
       "\n",
       "                                          3                 4  \n",
       "gender                                 Male            Female  \n",
       "SeniorCitizen                            No                No  \n",
       "Partner                                  No                No  \n",
       "Dependents                               No                No  \n",
       "tenure                                   45                 2  \n",
       "PhoneService                             No               Yes  \n",
       "MultipleLines              No phone service                No  \n",
       "InternetService                         DSL       Fiber optic  \n",
       "OnlineSecurity                          Yes                No  \n",
       "OnlineBackup                             No                No  \n",
       "DeviceProtection                        Yes                No  \n",
       "TechSupport                             Yes                No  \n",
       "StreamingTV                              No                No  \n",
       "StreamingMovies                          No                No  \n",
       "Contract                           One year    Month-to-month  \n",
       "PaperlessBilling                         No               Yes  \n",
       "PaymentMethod     Bank transfer (automatic)  Electronic check  \n",
       "MonthlyCharges                         42.3              70.7  \n",
       "TotalCharges                        1840.75            151.65  \n",
       "Churn                                     0                 1  "
      ]
     },
     "execution_count": 51,
     "metadata": {},
     "output_type": "execute_result"
    }
   ],
   "source": [
    "df.head().T"
   ]
  },
  {
   "cell_type": "code",
   "execution_count": 52,
   "id": "f83bb4a1",
   "metadata": {},
   "outputs": [
    {
     "name": "stdout",
     "output_type": "stream",
     "text": [
      "<class 'pandas.core.frame.DataFrame'>\n",
      "RangeIndex: 7043 entries, 0 to 7042\n",
      "Data columns (total 20 columns):\n",
      " #   Column            Non-Null Count  Dtype  \n",
      "---  ------            --------------  -----  \n",
      " 0   gender            7043 non-null   object \n",
      " 1   SeniorCitizen     7043 non-null   object \n",
      " 2   Partner           7043 non-null   object \n",
      " 3   Dependents        7043 non-null   object \n",
      " 4   tenure            7043 non-null   int64  \n",
      " 5   PhoneService      7043 non-null   object \n",
      " 6   MultipleLines     7043 non-null   object \n",
      " 7   InternetService   7043 non-null   object \n",
      " 8   OnlineSecurity    7043 non-null   object \n",
      " 9   OnlineBackup      7043 non-null   object \n",
      " 10  DeviceProtection  7043 non-null   object \n",
      " 11  TechSupport       7043 non-null   object \n",
      " 12  StreamingTV       7043 non-null   object \n",
      " 13  StreamingMovies   7043 non-null   object \n",
      " 14  Contract          7043 non-null   object \n",
      " 15  PaperlessBilling  7043 non-null   object \n",
      " 16  PaymentMethod     7043 non-null   object \n",
      " 17  MonthlyCharges    7043 non-null   float64\n",
      " 18  TotalCharges      7032 non-null   float64\n",
      " 19  Churn             7043 non-null   int64  \n",
      "dtypes: float64(2), int64(2), object(16)\n",
      "memory usage: 1.1+ MB\n"
     ]
    }
   ],
   "source": [
    "df.info()"
   ]
  },
  {
   "cell_type": "markdown",
   "id": "ab81fdab",
   "metadata": {},
   "source": [
    "### Describe data"
   ]
  },
  {
   "cell_type": "code",
   "execution_count": 53,
   "id": "36a543bd",
   "metadata": {},
   "outputs": [
    {
     "name": "stdout",
     "output_type": "stream",
     "text": [
      "There are 16 categorical variables: \n",
      "['gender', 'SeniorCitizen', 'Partner', 'Dependents', 'PhoneService', 'MultipleLines', 'InternetService', 'OnlineSecurity', 'OnlineBackup', 'DeviceProtection', 'TechSupport', 'StreamingTV', 'StreamingMovies', 'Contract', 'PaperlessBilling', 'PaymentMethod']\n"
     ]
    }
   ],
   "source": [
    "catCols = list(df.select_dtypes(include='object').columns)\n",
    "print('There are {} categorical variables: \\n{}'.format(len(catCols), catCols))"
   ]
  },
  {
   "cell_type": "code",
   "execution_count": 54,
   "id": "e2cfd057",
   "metadata": {},
   "outputs": [
    {
     "name": "stdout",
     "output_type": "stream",
     "text": [
      "There are 3 numerical variables: \n",
      "['tenure', 'MonthlyCharges', 'TotalCharges']\n"
     ]
    }
   ],
   "source": [
    "#We exclude the target variable.\n",
    "\n",
    "numCols = list(df.select_dtypes(exclude = 'object').columns[:-1]) \n",
    "print('There are {} numerical variables: \\n{}'.format(len(numCols), numCols))"
   ]
  },
  {
   "cell_type": "markdown",
   "id": "f6ce442f",
   "metadata": {},
   "source": [
    "<a name=\"ap2\"></a>\n",
    "# 2. Exploratory data analysis "
   ]
  },
  {
   "cell_type": "markdown",
   "id": "a72e57f7",
   "metadata": {},
   "source": [
    "<a name=\"ap2_1\"></a>\n",
    "## 2.1. Missing values"
   ]
  },
  {
   "cell_type": "code",
   "execution_count": 55,
   "id": "5563af58",
   "metadata": {},
   "outputs": [
    {
     "data": {
      "text/plain": [
       "gender               0\n",
       "SeniorCitizen        0\n",
       "Partner              0\n",
       "Dependents           0\n",
       "tenure               0\n",
       "PhoneService         0\n",
       "MultipleLines        0\n",
       "InternetService      0\n",
       "OnlineSecurity       0\n",
       "OnlineBackup         0\n",
       "DeviceProtection     0\n",
       "TechSupport          0\n",
       "StreamingTV          0\n",
       "StreamingMovies      0\n",
       "Contract             0\n",
       "PaperlessBilling     0\n",
       "PaymentMethod        0\n",
       "MonthlyCharges       0\n",
       "TotalCharges        11\n",
       "Churn                0\n",
       "dtype: int64"
      ]
     },
     "execution_count": 55,
     "metadata": {},
     "output_type": "execute_result"
    }
   ],
   "source": [
    "df.isnull().sum()"
   ]
  },
  {
   "cell_type": "markdown",
   "id": "c68f578a",
   "metadata": {},
   "source": [
    "There are some missing values for total charges. . \n",
    "\n",
    "+ It represents ~ 0.2% of the total users so it is better to remove these observations from the dataset."
   ]
  },
  {
   "cell_type": "code",
   "execution_count": 56,
   "id": "45a2f176",
   "metadata": {},
   "outputs": [
    {
     "name": "stdout",
     "output_type": "stream",
     "text": [
      "Total charges missing values: 0.16 %\n"
     ]
    }
   ],
   "source": [
    "percent = round(df.TotalCharges.isnull().sum()*100/len(df),2)\n",
    "print('Total charges missing values: {} %'.format(percent))"
   ]
  },
  {
   "cell_type": "code",
   "execution_count": 57,
   "id": "5b49cea2",
   "metadata": {},
   "outputs": [
    {
     "data": {
      "text/plain": [
       "0"
      ]
     },
     "execution_count": 57,
     "metadata": {},
     "output_type": "execute_result"
    }
   ],
   "source": [
    "df = df.dropna()\n",
    "df.TotalCharges.isnull().sum()"
   ]
  },
  {
   "cell_type": "markdown",
   "id": "59a7bcea",
   "metadata": {},
   "source": [
    "There is no missing values!"
   ]
  },
  {
   "cell_type": "markdown",
   "id": "c0a9677b",
   "metadata": {},
   "source": [
    "<a name=\"ap2_2\"></a>\n",
    "## 2.2. Target variable"
   ]
  },
  {
   "cell_type": "markdown",
   "id": "c28cbd16",
   "metadata": {},
   "source": [
    "+ As we can see the mayority of the customers did not churn.\n",
    "+ We have an imbalanced dataset, there are three times as many people who did not churn as those who did churn."
   ]
  },
  {
   "cell_type": "code",
   "execution_count": 58,
   "id": "f7e73652",
   "metadata": {},
   "outputs": [
    {
     "name": "stdout",
     "output_type": "stream",
     "text": [
      "Churn rate: 0.27\n"
     ]
    }
   ],
   "source": [
    "global_mean = round(df['Churn'].mean(), 2)\n",
    "print(\"Churn rate: {}\".format(global_mean))"
   ]
  },
  {
   "cell_type": "code",
   "execution_count": 59,
   "id": "2c15b41f",
   "metadata": {},
   "outputs": [
    {
     "data": {
      "text/plain": [
       "0    5163\n",
       "1    1869\n",
       "Name: Churn, dtype: int64"
      ]
     },
     "execution_count": 59,
     "metadata": {},
     "output_type": "execute_result"
    },
    {
     "data": {
      "image/png": "[encoded data removed]",
      "text/plain": [
       "<Figure size 432x288 with 1 Axes>"
      ]
     },
     "metadata": {},
     "output_type": "display_data"
    }
   ],
   "source": [
    "plt.figure(figsize=(6,4))\n",
    "\n",
    "sns.countplot(data = df, x='Churn', palette=['#B0C4DE','#DCDCDC'])\n",
    "plt.title('Target variable distribution plot')\n",
    "\n",
    "df['Churn'].value_counts()"
   ]
  },
  {
   "cell_type": "markdown",
   "id": "c38fd02e",
   "metadata": {},
   "source": [
    "<a name=\"ap2_3\"></a>\n",
    "## 2.3. Numerical variables"
   ]
  },
  {
   "cell_type": "code",
   "execution_count": 60,
   "id": "59ff85cb",
   "metadata": {},
   "outputs": [
    {
     "name": "stdout",
     "output_type": "stream",
     "text": [
      "There are 3 numerical variables: \n",
      "['tenure', 'MonthlyCharges', 'TotalCharges']\n"
     ]
    }
   ],
   "source": [
    "print('There are {} numerical variables: \\n{}'.format(len(numCols), numCols))"
   ]
  },
  {
   "cell_type": "markdown",
   "id": "c1eaa830",
   "metadata": {},
   "source": [
    "### Correlation"
   ]
  },
  {
   "cell_type": "code",
   "execution_count": 61,
   "id": "94f3f96a",
   "metadata": {},
   "outputs": [
    {
     "name": "stdout",
     "output_type": "stream",
     "text": [
      "Churn             1.000000\n",
      "MonthlyCharges    0.192858\n",
      "TotalCharges     -0.199484\n",
      "tenure           -0.354049\n",
      "dtype: float64\n"
     ]
    }
   ],
   "source": [
    "corr = df.corrwith(df.Churn).sort_values(ascending=False)\n",
    "print(corr)"
   ]
  },
  {
   "cell_type": "markdown",
   "id": "2a672155",
   "metadata": {},
   "source": [
    "### Analysis"
   ]
  },
  {
   "cell_type": "code",
   "execution_count": 62,
   "id": "986bc28c",
   "metadata": {},
   "outputs": [
    {
     "data": {
      "image/png": "[encoded data removed]",
      "text/plain": [
       "<Figure size 1296x432 with 3 Axes>"
      ]
     },
     "metadata": {},
     "output_type": "display_data"
    }
   ],
   "source": [
    "n_cols = 3\n",
    "n_rows = 1\n",
    "n_num = 0\n",
    "\n",
    "fig, axarr = plt.subplots(n_rows, n_cols, figsize=(18, 6))\n",
    "\n",
    "for column in np.arange(n_cols):\n",
    "    sns.boxplot(y=numCols[n_num], x='Churn', data=df, ax=axarr[column], palette=['#B0C4DE','#DCDCDC'])\n",
    "    n_num+=1\n",
    "\n",
    "plt.show()"
   ]
  },
  {
   "cell_type": "markdown",
   "id": "b696df22",
   "metadata": {},
   "source": [
    "<a name=\"ap2_4\"></a>\n",
    "## 2.4. Categorical variables"
   ]
  },
  {
   "cell_type": "code",
   "execution_count": 63,
   "id": "fce1e1e5",
   "metadata": {},
   "outputs": [
    {
     "name": "stdout",
     "output_type": "stream",
     "text": [
      "There are 16 categorical variables: \n",
      "['gender', 'SeniorCitizen', 'Partner', 'Dependents', 'PhoneService', 'MultipleLines', 'InternetService', 'OnlineSecurity', 'OnlineBackup', 'DeviceProtection', 'TechSupport', 'StreamingTV', 'StreamingMovies', 'Contract', 'PaperlessBilling', 'PaymentMethod']\n"
     ]
    }
   ],
   "source": [
    "print('There are {} categorical variables: \\n{}'.format(len(catCols), catCols))"
   ]
  },
  {
   "cell_type": "markdown",
   "id": "8059413a",
   "metadata": {},
   "source": [
    "### Unique values"
   ]
  },
  {
   "cell_type": "code",
   "execution_count": 64,
   "id": "14dec9d6",
   "metadata": {},
   "outputs": [
    {
     "data": {
      "text/plain": [
       "gender              2\n",
       "SeniorCitizen       2\n",
       "Partner             2\n",
       "Dependents          2\n",
       "PhoneService        2\n",
       "MultipleLines       3\n",
       "InternetService     3\n",
       "OnlineSecurity      3\n",
       "OnlineBackup        3\n",
       "DeviceProtection    3\n",
       "TechSupport         3\n",
       "StreamingTV         3\n",
       "StreamingMovies     3\n",
       "Contract            3\n",
       "PaperlessBilling    2\n",
       "PaymentMethod       4\n",
       "dtype: int64"
      ]
     },
     "execution_count": 64,
     "metadata": {},
     "output_type": "execute_result"
    }
   ],
   "source": [
    "df[catCols].nunique()"
   ]
  },
  {
   "cell_type": "markdown",
   "id": "8ff00e2f",
   "metadata": {},
   "source": [
    "### Analysis"
   ]
  },
  {
   "cell_type": "code",
   "execution_count": 65,
   "id": "4fbdae48",
   "metadata": {},
   "outputs": [
    {
     "data": {
      "image/png": "[encoded data removed]",
      "text/plain": [
       "<Figure size 1440x2880 with 16 Axes>"
      ]
     },
     "metadata": {},
     "output_type": "display_data"
    }
   ],
   "source": [
    "n_cols = 2\n",
    "n_rows = 8\n",
    "n_cat = 0\n",
    "\n",
    "fig, axarr = plt.subplots(n_rows, n_cols, figsize=(20, 40))\n",
    "\n",
    "for row in np.arange(n_rows):\n",
    "    for column in np.arange(n_cols):\n",
    "        sns.countplot(x=catCols[n_cat], hue='Churn', data=df, ax=axarr[row][column], palette=['#B0C4DE','#DCDCDC'])\n",
    "        n_cat+=1"
   ]
  },
  {
   "cell_type": "markdown",
   "id": "5416ac40",
   "metadata": {},
   "source": [
    "<a name=\"ap2_5\"></a>\n",
    "## 2.5. Correlations"
   ]
  },
  {
   "cell_type": "code",
   "execution_count": 66,
   "id": "1b099fd5",
   "metadata": {},
   "outputs": [
    {
     "data": {
      "image/png": "[encoded data removed]",
      "text/plain": [
       "<Figure size 432x360 with 2 Axes>"
      ]
     },
     "metadata": {},
     "output_type": "display_data"
    }
   ],
   "source": [
    "colors = ['#778899','#B0E0E6','#B0C4DE','#F5F5F5', '#DCDCDC']\n",
    "corr_mat = df[numCols].corr()\n",
    "\n",
    "plt.figure(figsize=(6, 5))\n",
    "sns.heatmap(corr_mat,annot=True,fmt='.1f',cmap=colors)\n",
    "\n",
    "title = plt.title('Correlation Heatmap')"
   ]
  },
  {
   "cell_type": "markdown",
   "id": "aa53e6f7",
   "metadata": {},
   "source": [
    "<a name=\"ap3\"></a>\n",
    "# 3. Data Preprocessing and Feature engineering"
   ]
  },
  {
   "cell_type": "markdown",
   "id": "8f802287",
   "metadata": {},
   "source": [
    "First we split our dataframe into X and y variables to avoid using our target variable in the training process."
   ]
  },
  {
   "cell_type": "code",
   "execution_count": 67,
   "id": "d5e80a50",
   "metadata": {},
   "outputs": [],
   "source": [
    "X = df.drop(columns=['Churn'], axis=1)\n",
    "y = df['Churn']"
   ]
  },
  {
   "cell_type": "markdown",
   "id": "562c6813",
   "metadata": {},
   "source": [
    "<a name=\"ap3_1\"></a>\n",
    "## 3.1. Feature Scaling"
   ]
  },
  {
   "cell_type": "markdown",
   "id": "f45b36a7",
   "metadata": {},
   "source": [
    "It is highly recommended to scale the numerical features before training the model to achieve a better performance."
   ]
  },
  {
   "cell_type": "code",
   "execution_count": 68,
   "id": "46bae33a",
   "metadata": {},
   "outputs": [],
   "source": [
    "scaler = StandardScaler()\n",
    "X[numCols] = scaler.fit_transform(X[numCols])"
   ]
  },
  {
   "cell_type": "markdown",
   "id": "17d8ff4e",
   "metadata": {},
   "source": [
    "<a name=\"ap3_2\"></a>\n",
    "## 3.2. One-hot Encoding"
   ]
  },
  {
   "cell_type": "markdown",
   "id": "e9a1a6b1",
   "metadata": {},
   "source": [
    "Now we encode our categorical variables converting them into dummy features:"
   ]
  },
  {
   "cell_type": "code",
   "execution_count": 69,
   "id": "0467d443",
   "metadata": {},
   "outputs": [
    {
     "name": "stdout",
     "output_type": "stream",
     "text": [
      "X shape: (7032, 46)\n",
      "\n"
     ]
    }
   ],
   "source": [
    "X = pd.get_dummies(X)\n",
    "\n",
    "print(\"X shape: {}\\n\".format(X.shape))"
   ]
  },
  {
   "cell_type": "code",
   "execution_count": 70,
   "id": "56ab1fd3",
   "metadata": {},
   "outputs": [
    {
     "data": {
      "text/html": [
       "<div>\n",
       "<style scoped>\n",
       "    .dataframe tbody tr th:only-of-type {\n",
       "        vertical-align: middle;\n",
       "    }\n",
       "\n",
       "    .dataframe tbody tr th {\n",
       "        vertical-align: top;\n",
       "    }\n",
       "\n",
       "    .dataframe thead th {\n",
       "        text-align: right;\n",
       "    }\n",
       "</style>\n",
       "<table border=\"1\" class=\"dataframe\">\n",
       "  <thead>\n",
       "    <tr style=\"text-align: right;\">\n",
       "      <th></th>\n",
       "      <th>0</th>\n",
       "      <th>1</th>\n",
       "      <th>2</th>\n",
       "      <th>3</th>\n",
       "      <th>4</th>\n",
       "    </tr>\n",
       "  </thead>\n",
       "  <tbody>\n",
       "    <tr>\n",
       "      <th>tenure</th>\n",
       "      <td>-1.280248</td>\n",
       "      <td>0.064303</td>\n",
       "      <td>-1.239504</td>\n",
       "      <td>0.512486</td>\n",
       "      <td>-1.239504</td>\n",
       "    </tr>\n",
       "    <tr>\n",
       "      <th>MonthlyCharges</th>\n",
       "      <td>-1.161694</td>\n",
       "      <td>-0.260878</td>\n",
       "      <td>-0.363923</td>\n",
       "      <td>-0.747850</td>\n",
       "      <td>0.196178</td>\n",
       "    </tr>\n",
       "    <tr>\n",
       "      <th>TotalCharges</th>\n",
       "      <td>-0.994194</td>\n",
       "      <td>-0.173740</td>\n",
       "      <td>-0.959649</td>\n",
       "      <td>-0.195248</td>\n",
       "      <td>-0.940457</td>\n",
       "    </tr>\n",
       "    <tr>\n",
       "      <th>gender_Female</th>\n",
       "      <td>1.000000</td>\n",
       "      <td>0.000000</td>\n",
       "      <td>0.000000</td>\n",
       "      <td>0.000000</td>\n",
       "      <td>1.000000</td>\n",
       "    </tr>\n",
       "    <tr>\n",
       "      <th>gender_Male</th>\n",
       "      <td>0.000000</td>\n",
       "      <td>1.000000</td>\n",
       "      <td>1.000000</td>\n",
       "      <td>1.000000</td>\n",
       "      <td>0.000000</td>\n",
       "    </tr>\n",
       "    <tr>\n",
       "      <th>SeniorCitizen_No</th>\n",
       "      <td>1.000000</td>\n",
       "      <td>1.000000</td>\n",
       "      <td>1.000000</td>\n",
       "      <td>1.000000</td>\n",
       "      <td>1.000000</td>\n",
       "    </tr>\n",
       "    <tr>\n",
       "      <th>SeniorCitizen_yes</th>\n",
       "      <td>0.000000</td>\n",
       "      <td>0.000000</td>\n",
       "      <td>0.000000</td>\n",
       "      <td>0.000000</td>\n",
       "      <td>0.000000</td>\n",
       "    </tr>\n",
       "    <tr>\n",
       "      <th>Partner_No</th>\n",
       "      <td>0.000000</td>\n",
       "      <td>1.000000</td>\n",
       "      <td>1.000000</td>\n",
       "      <td>1.000000</td>\n",
       "      <td>1.000000</td>\n",
       "    </tr>\n",
       "    <tr>\n",
       "      <th>Partner_Yes</th>\n",
       "      <td>1.000000</td>\n",
       "      <td>0.000000</td>\n",
       "      <td>0.000000</td>\n",
       "      <td>0.000000</td>\n",
       "      <td>0.000000</td>\n",
       "    </tr>\n",
       "    <tr>\n",
       "      <th>Dependents_No</th>\n",
       "      <td>1.000000</td>\n",
       "      <td>1.000000</td>\n",
       "      <td>1.000000</td>\n",
       "      <td>1.000000</td>\n",
       "      <td>1.000000</td>\n",
       "    </tr>\n",
       "    <tr>\n",
       "      <th>Dependents_Yes</th>\n",
       "      <td>0.000000</td>\n",
       "      <td>0.000000</td>\n",
       "      <td>0.000000</td>\n",
       "      <td>0.000000</td>\n",
       "      <td>0.000000</td>\n",
       "    </tr>\n",
       "    <tr>\n",
       "      <th>PhoneService_No</th>\n",
       "      <td>1.000000</td>\n",
       "      <td>0.000000</td>\n",
       "      <td>0.000000</td>\n",
       "      <td>1.000000</td>\n",
       "      <td>0.000000</td>\n",
       "    </tr>\n",
       "    <tr>\n",
       "      <th>PhoneService_Yes</th>\n",
       "      <td>0.000000</td>\n",
       "      <td>1.000000</td>\n",
       "      <td>1.000000</td>\n",
       "      <td>0.000000</td>\n",
       "      <td>1.000000</td>\n",
       "    </tr>\n",
       "    <tr>\n",
       "      <th>MultipleLines_No</th>\n",
       "      <td>0.000000</td>\n",
       "      <td>1.000000</td>\n",
       "      <td>1.000000</td>\n",
       "      <td>0.000000</td>\n",
       "      <td>1.000000</td>\n",
       "    </tr>\n",
       "    <tr>\n",
       "      <th>MultipleLines_No phone service</th>\n",
       "      <td>1.000000</td>\n",
       "      <td>0.000000</td>\n",
       "      <td>0.000000</td>\n",
       "      <td>1.000000</td>\n",
       "      <td>0.000000</td>\n",
       "    </tr>\n",
       "    <tr>\n",
       "      <th>MultipleLines_Yes</th>\n",
       "      <td>0.000000</td>\n",
       "      <td>0.000000</td>\n",
       "      <td>0.000000</td>\n",
       "      <td>0.000000</td>\n",
       "      <td>0.000000</td>\n",
       "    </tr>\n",
       "    <tr>\n",
       "      <th>InternetService_DSL</th>\n",
       "      <td>1.000000</td>\n",
       "      <td>1.000000</td>\n",
       "      <td>1.000000</td>\n",
       "      <td>1.000000</td>\n",
       "      <td>0.000000</td>\n",
       "    </tr>\n",
       "    <tr>\n",
       "      <th>InternetService_Fiber optic</th>\n",
       "      <td>0.000000</td>\n",
       "      <td>0.000000</td>\n",
       "      <td>0.000000</td>\n",
       "      <td>0.000000</td>\n",
       "      <td>1.000000</td>\n",
       "    </tr>\n",
       "    <tr>\n",
       "      <th>InternetService_No</th>\n",
       "      <td>0.000000</td>\n",
       "      <td>0.000000</td>\n",
       "      <td>0.000000</td>\n",
       "      <td>0.000000</td>\n",
       "      <td>0.000000</td>\n",
       "    </tr>\n",
       "    <tr>\n",
       "      <th>OnlineSecurity_No</th>\n",
       "      <td>1.000000</td>\n",
       "      <td>0.000000</td>\n",
       "      <td>0.000000</td>\n",
       "      <td>0.000000</td>\n",
       "      <td>1.000000</td>\n",
       "    </tr>\n",
       "    <tr>\n",
       "      <th>OnlineSecurity_No internet service</th>\n",
       "      <td>0.000000</td>\n",
       "      <td>0.000000</td>\n",
       "      <td>0.000000</td>\n",
       "      <td>0.000000</td>\n",
       "      <td>0.000000</td>\n",
       "    </tr>\n",
       "    <tr>\n",
       "      <th>OnlineSecurity_Yes</th>\n",
       "      <td>0.000000</td>\n",
       "      <td>1.000000</td>\n",
       "      <td>1.000000</td>\n",
       "      <td>1.000000</td>\n",
       "      <td>0.000000</td>\n",
       "    </tr>\n",
       "    <tr>\n",
       "      <th>OnlineBackup_No</th>\n",
       "      <td>0.000000</td>\n",
       "      <td>1.000000</td>\n",
       "      <td>0.000000</td>\n",
       "      <td>1.000000</td>\n",
       "      <td>1.000000</td>\n",
       "    </tr>\n",
       "    <tr>\n",
       "      <th>OnlineBackup_No internet service</th>\n",
       "      <td>0.000000</td>\n",
       "      <td>0.000000</td>\n",
       "      <td>0.000000</td>\n",
       "      <td>0.000000</td>\n",
       "      <td>0.000000</td>\n",
       "    </tr>\n",
       "    <tr>\n",
       "      <th>OnlineBackup_Yes</th>\n",
       "      <td>1.000000</td>\n",
       "      <td>0.000000</td>\n",
       "      <td>1.000000</td>\n",
       "      <td>0.000000</td>\n",
       "      <td>0.000000</td>\n",
       "    </tr>\n",
       "    <tr>\n",
       "      <th>DeviceProtection_No</th>\n",
       "      <td>1.000000</td>\n",
       "      <td>0.000000</td>\n",
       "      <td>1.000000</td>\n",
       "      <td>0.000000</td>\n",
       "      <td>1.000000</td>\n",
       "    </tr>\n",
       "    <tr>\n",
       "      <th>DeviceProtection_No internet service</th>\n",
       "      <td>0.000000</td>\n",
       "      <td>0.000000</td>\n",
       "      <td>0.000000</td>\n",
       "      <td>0.000000</td>\n",
       "      <td>0.000000</td>\n",
       "    </tr>\n",
       "    <tr>\n",
       "      <th>DeviceProtection_Yes</th>\n",
       "      <td>0.000000</td>\n",
       "      <td>1.000000</td>\n",
       "      <td>0.000000</td>\n",
       "      <td>1.000000</td>\n",
       "      <td>0.000000</td>\n",
       "    </tr>\n",
       "    <tr>\n",
       "      <th>TechSupport_No</th>\n",
       "      <td>1.000000</td>\n",
       "      <td>1.000000</td>\n",
       "      <td>1.000000</td>\n",
       "      <td>0.000000</td>\n",
       "      <td>1.000000</td>\n",
       "    </tr>\n",
       "    <tr>\n",
       "      <th>TechSupport_No internet service</th>\n",
       "      <td>0.000000</td>\n",
       "      <td>0.000000</td>\n",
       "      <td>0.000000</td>\n",
       "      <td>0.000000</td>\n",
       "      <td>0.000000</td>\n",
       "    </tr>\n",
       "    <tr>\n",
       "      <th>TechSupport_Yes</th>\n",
       "      <td>0.000000</td>\n",
       "      <td>0.000000</td>\n",
       "      <td>0.000000</td>\n",
       "      <td>1.000000</td>\n",
       "      <td>0.000000</td>\n",
       "    </tr>\n",
       "    <tr>\n",
       "      <th>StreamingTV_No</th>\n",
       "      <td>1.000000</td>\n",
       "      <td>1.000000</td>\n",
       "      <td>1.000000</td>\n",
       "      <td>1.000000</td>\n",
       "      <td>1.000000</td>\n",
       "    </tr>\n",
       "    <tr>\n",
       "      <th>StreamingTV_No internet service</th>\n",
       "      <td>0.000000</td>\n",
       "      <td>0.000000</td>\n",
       "      <td>0.000000</td>\n",
       "      <td>0.000000</td>\n",
       "      <td>0.000000</td>\n",
       "    </tr>\n",
       "    <tr>\n",
       "      <th>StreamingTV_Yes</th>\n",
       "      <td>0.000000</td>\n",
       "      <td>0.000000</td>\n",
       "      <td>0.000000</td>\n",
       "      <td>0.000000</td>\n",
       "      <td>0.000000</td>\n",
       "    </tr>\n",
       "    <tr>\n",
       "      <th>StreamingMovies_No</th>\n",
       "      <td>1.000000</td>\n",
       "      <td>1.000000</td>\n",
       "      <td>1.000000</td>\n",
       "      <td>1.000000</td>\n",
       "      <td>1.000000</td>\n",
       "    </tr>\n",
       "    <tr>\n",
       "      <th>StreamingMovies_No internet service</th>\n",
       "      <td>0.000000</td>\n",
       "      <td>0.000000</td>\n",
       "      <td>0.000000</td>\n",
       "      <td>0.000000</td>\n",
       "      <td>0.000000</td>\n",
       "    </tr>\n",
       "    <tr>\n",
       "      <th>StreamingMovies_Yes</th>\n",
       "      <td>0.000000</td>\n",
       "      <td>0.000000</td>\n",
       "      <td>0.000000</td>\n",
       "      <td>0.000000</td>\n",
       "      <td>0.000000</td>\n",
       "    </tr>\n",
       "    <tr>\n",
       "      <th>Contract_Month-to-month</th>\n",
       "      <td>1.000000</td>\n",
       "      <td>0.000000</td>\n",
       "      <td>1.000000</td>\n",
       "      <td>0.000000</td>\n",
       "      <td>1.000000</td>\n",
       "    </tr>\n",
       "    <tr>\n",
       "      <th>Contract_One year</th>\n",
       "      <td>0.000000</td>\n",
       "      <td>1.000000</td>\n",
       "      <td>0.000000</td>\n",
       "      <td>1.000000</td>\n",
       "      <td>0.000000</td>\n",
       "    </tr>\n",
       "    <tr>\n",
       "      <th>Contract_Two year</th>\n",
       "      <td>0.000000</td>\n",
       "      <td>0.000000</td>\n",
       "      <td>0.000000</td>\n",
       "      <td>0.000000</td>\n",
       "      <td>0.000000</td>\n",
       "    </tr>\n",
       "    <tr>\n",
       "      <th>PaperlessBilling_No</th>\n",
       "      <td>0.000000</td>\n",
       "      <td>1.000000</td>\n",
       "      <td>0.000000</td>\n",
       "      <td>1.000000</td>\n",
       "      <td>0.000000</td>\n",
       "    </tr>\n",
       "    <tr>\n",
       "      <th>PaperlessBilling_Yes</th>\n",
       "      <td>1.000000</td>\n",
       "      <td>0.000000</td>\n",
       "      <td>1.000000</td>\n",
       "      <td>0.000000</td>\n",
       "      <td>1.000000</td>\n",
       "    </tr>\n",
       "    <tr>\n",
       "      <th>PaymentMethod_Bank transfer (automatic)</th>\n",
       "      <td>0.000000</td>\n",
       "      <td>0.000000</td>\n",
       "      <td>0.000000</td>\n",
       "      <td>1.000000</td>\n",
       "      <td>0.000000</td>\n",
       "    </tr>\n",
       "    <tr>\n",
       "      <th>PaymentMethod_Credit card (automatic)</th>\n",
       "      <td>0.000000</td>\n",
       "      <td>0.000000</td>\n",
       "      <td>0.000000</td>\n",
       "      <td>0.000000</td>\n",
       "      <td>0.000000</td>\n",
       "    </tr>\n",
       "    <tr>\n",
       "      <th>PaymentMethod_Electronic check</th>\n",
       "      <td>1.000000</td>\n",
       "      <td>0.000000</td>\n",
       "      <td>0.000000</td>\n",
       "      <td>0.000000</td>\n",
       "      <td>1.000000</td>\n",
       "    </tr>\n",
       "    <tr>\n",
       "      <th>PaymentMethod_Mailed check</th>\n",
       "      <td>0.000000</td>\n",
       "      <td>1.000000</td>\n",
       "      <td>1.000000</td>\n",
       "      <td>0.000000</td>\n",
       "      <td>0.000000</td>\n",
       "    </tr>\n",
       "  </tbody>\n",
       "</table>\n",
       "</div>"
      ],
      "text/plain": [
       "                                                0         1         2  \\\n",
       "tenure                                  -1.280248  0.064303 -1.239504   \n",
       "MonthlyCharges                          -1.161694 -0.260878 -0.363923   \n",
       "TotalCharges                            -0.994194 -0.173740 -0.959649   \n",
       "gender_Female                            1.000000  0.000000  0.000000   \n",
       "gender_Male                              0.000000  1.000000  1.000000   \n",
       "SeniorCitizen_No                         1.000000  1.000000  1.000000   \n",
       "SeniorCitizen_yes                        0.000000  0.000000  0.000000   \n",
       "Partner_No                               0.000000  1.000000  1.000000   \n",
       "Partner_Yes                              1.000000  0.000000  0.000000   \n",
       "Dependents_No                            1.000000  1.000000  1.000000   \n",
       "Dependents_Yes                           0.000000  0.000000  0.000000   \n",
       "PhoneService_No                          1.000000  0.000000  0.000000   \n",
       "PhoneService_Yes                         0.000000  1.000000  1.000000   \n",
       "MultipleLines_No                         0.000000  1.000000  1.000000   \n",
       "MultipleLines_No phone service           1.000000  0.000000  0.000000   \n",
       "MultipleLines_Yes                        0.000000  0.000000  0.000000   \n",
       "InternetService_DSL                      1.000000  1.000000  1.000000   \n",
       "InternetService_Fiber optic              0.000000  0.000000  0.000000   \n",
       "InternetService_No                       0.000000  0.000000  0.000000   \n",
       "OnlineSecurity_No                        1.000000  0.000000  0.000000   \n",
       "OnlineSecurity_No internet service       0.000000  0.000000  0.000000   \n",
       "OnlineSecurity_Yes                       0.000000  1.000000  1.000000   \n",
       "OnlineBackup_No                          0.000000  1.000000  0.000000   \n",
       "OnlineBackup_No internet service         0.000000  0.000000  0.000000   \n",
       "OnlineBackup_Yes                         1.000000  0.000000  1.000000   \n",
       "DeviceProtection_No                      1.000000  0.000000  1.000000   \n",
       "DeviceProtection_No internet service     0.000000  0.000000  0.000000   \n",
       "DeviceProtection_Yes                     0.000000  1.000000  0.000000   \n",
       "TechSupport_No                           1.000000  1.000000  1.000000   \n",
       "TechSupport_No internet service          0.000000  0.000000  0.000000   \n",
       "TechSupport_Yes                          0.000000  0.000000  0.000000   \n",
       "StreamingTV_No                           1.000000  1.000000  1.000000   \n",
       "StreamingTV_No internet service          0.000000  0.000000  0.000000   \n",
       "StreamingTV_Yes                          0.000000  0.000000  0.000000   \n",
       "StreamingMovies_No                       1.000000  1.000000  1.000000   \n",
       "StreamingMovies_No internet service      0.000000  0.000000  0.000000   \n",
       "StreamingMovies_Yes                      0.000000  0.000000  0.000000   \n",
       "Contract_Month-to-month                  1.000000  0.000000  1.000000   \n",
       "Contract_One year                        0.000000  1.000000  0.000000   \n",
       "Contract_Two year                        0.000000  0.000000  0.000000   \n",
       "PaperlessBilling_No                      0.000000  1.000000  0.000000   \n",
       "PaperlessBilling_Yes                     1.000000  0.000000  1.000000   \n",
       "PaymentMethod_Bank transfer (automatic)  0.000000  0.000000  0.000000   \n",
       "PaymentMethod_Credit card (automatic)    0.000000  0.000000  0.000000   \n",
       "PaymentMethod_Electronic check           1.000000  0.000000  0.000000   \n",
       "PaymentMethod_Mailed check               0.000000  1.000000  1.000000   \n",
       "\n",
       "                                                3         4  \n",
       "tenure                                   0.512486 -1.239504  \n",
       "MonthlyCharges                          -0.747850  0.196178  \n",
       "TotalCharges                            -0.195248 -0.940457  \n",
       "gender_Female                            0.000000  1.000000  \n",
       "gender_Male                              1.000000  0.000000  \n",
       "SeniorCitizen_No                         1.000000  1.000000  \n",
       "SeniorCitizen_yes                        0.000000  0.000000  \n",
       "Partner_No                               1.000000  1.000000  \n",
       "Partner_Yes                              0.000000  0.000000  \n",
       "Dependents_No                            1.000000  1.000000  \n",
       "Dependents_Yes                           0.000000  0.000000  \n",
       "PhoneService_No                          1.000000  0.000000  \n",
       "PhoneService_Yes                         0.000000  1.000000  \n",
       "MultipleLines_No                         0.000000  1.000000  \n",
       "MultipleLines_No phone service           1.000000  0.000000  \n",
       "MultipleLines_Yes                        0.000000  0.000000  \n",
       "InternetService_DSL                      1.000000  0.000000  \n",
       "InternetService_Fiber optic              0.000000  1.000000  \n",
       "InternetService_No                       0.000000  0.000000  \n",
       "OnlineSecurity_No                        0.000000  1.000000  \n",
       "OnlineSecurity_No internet service       0.000000  0.000000  \n",
       "OnlineSecurity_Yes                       1.000000  0.000000  \n",
       "OnlineBackup_No                          1.000000  1.000000  \n",
       "OnlineBackup_No internet service         0.000000  0.000000  \n",
       "OnlineBackup_Yes                         0.000000  0.000000  \n",
       "DeviceProtection_No                      0.000000  1.000000  \n",
       "DeviceProtection_No internet service     0.000000  0.000000  \n",
       "DeviceProtection_Yes                     1.000000  0.000000  \n",
       "TechSupport_No                           0.000000  1.000000  \n",
       "TechSupport_No internet service          0.000000  0.000000  \n",
       "TechSupport_Yes                          1.000000  0.000000  \n",
       "StreamingTV_No                           1.000000  1.000000  \n",
       "StreamingTV_No internet service          0.000000  0.000000  \n",
       "StreamingTV_Yes                          0.000000  0.000000  \n",
       "StreamingMovies_No                       1.000000  1.000000  \n",
       "StreamingMovies_No internet service      0.000000  0.000000  \n",
       "StreamingMovies_Yes                      0.000000  0.000000  \n",
       "Contract_Month-to-month                  0.000000  1.000000  \n",
       "Contract_One year                        1.000000  0.000000  \n",
       "Contract_Two year                        0.000000  0.000000  \n",
       "PaperlessBilling_No                      1.000000  0.000000  \n",
       "PaperlessBilling_Yes                     0.000000  1.000000  \n",
       "PaymentMethod_Bank transfer (automatic)  1.000000  0.000000  \n",
       "PaymentMethod_Credit card (automatic)    0.000000  0.000000  \n",
       "PaymentMethod_Electronic check           0.000000  1.000000  \n",
       "PaymentMethod_Mailed check               0.000000  0.000000  "
      ]
     },
     "execution_count": 70,
     "metadata": {},
     "output_type": "execute_result"
    }
   ],
   "source": [
    "X.head().T"
   ]
  },
  {
   "cell_type": "markdown",
   "id": "1a421fbc",
   "metadata": {},
   "source": [
    "We have all the data prepared. Therefore let's build our logistic regression model."
   ]
  },
  {
   "cell_type": "markdown",
   "id": "6649aee1",
   "metadata": {},
   "source": [
    "<a name=\"ap4\"></a>\n",
    "# 4. Model fitting and selection"
   ]
  },
  {
   "cell_type": "markdown",
   "id": "11fe5ae1",
   "metadata": {},
   "source": [
    "We split our dataset into two parts: train and test sets."
   ]
  },
  {
   "cell_type": "code",
   "execution_count": 71,
   "id": "04569751",
   "metadata": {},
   "outputs": [],
   "source": [
    "X_train, X_test, y_train, y_test = train_test_split(X, y, test_size=0.2, random_state=1)"
   ]
  },
  {
   "cell_type": "markdown",
   "id": "b468b76a",
   "metadata": {},
   "source": [
    "<a name=\"ap4_1\"></a>\n",
    "## 4.1. Hyperparameter tunning"
   ]
  },
  {
   "cell_type": "code",
   "execution_count": 72,
   "id": "bee753c6",
   "metadata": {},
   "outputs": [],
   "source": [
    "model = LogisticRegression(solver='liblinear', random_state=1)"
   ]
  },
  {
   "cell_type": "code",
   "execution_count": 73,
   "id": "eed49744",
   "metadata": {},
   "outputs": [
    {
     "data": {
      "text/plain": [
       "GridSearchCV(cv=10,\n",
       "             estimator=LogisticRegression(random_state=1, solver='liblinear'),\n",
       "             param_grid={'C': [0.01, 0.1, 0.5, 1, 10, 50, 100]},\n",
       "             scoring='roc_auc')"
      ]
     },
     "execution_count": 73,
     "metadata": {},
     "output_type": "execute_result"
    }
   ],
   "source": [
    "params = {'C': [0.01, 0.1, 0.5, 1, 10, 50, 100]}\n",
    "\n",
    "model_cv = GridSearchCV(model, param_grid=params, scoring='roc_auc', cv=10)\n",
    "model_cv.fit(X_train, y_train)"
   ]
  },
  {
   "cell_type": "code",
   "execution_count": 74,
   "id": "4d18153a",
   "metadata": {},
   "outputs": [
    {
     "name": "stdout",
     "output_type": "stream",
     "text": [
      "        params  mean_test_score\n",
      "0  {'C': 0.01}         0.840713\n",
      "1   {'C': 0.1}         0.843086\n",
      "2   {'C': 0.5}         0.843762\n",
      "3     {'C': 1}         0.843931\n",
      "4    {'C': 10}         0.843968\n",
      "5    {'C': 50}         0.843876\n",
      "6   {'C': 100}         0.843867\n"
     ]
    }
   ],
   "source": [
    "cv_results = pd.DataFrame(model_cv.cv_results_)[['params', 'mean_test_score']]\n",
    "print(cv_results)"
   ]
  },
  {
   "cell_type": "code",
   "execution_count": 75,
   "id": "9e5f26b7",
   "metadata": {},
   "outputs": [
    {
     "name": "stdout",
     "output_type": "stream",
     "text": [
      "Best param C: {'C': 10} \n",
      "Best ROC: 0.8439679212172889 \n"
     ]
    }
   ],
   "source": [
    "print('Best param C: {} \\nBest ROC: {} '.format(model_cv.best_params_,model_cv.best_score_))"
   ]
  },
  {
   "cell_type": "markdown",
   "id": "d2fc6ff1",
   "metadata": {},
   "source": [
    "Now we have the parameters for getting the best model performance. Let's implement it!"
   ]
  },
  {
   "cell_type": "markdown",
   "id": "c2d325b1",
   "metadata": {},
   "source": [
    "<a name=\"ap4_2\"></a>\n",
    "## 4.2. Model selected"
   ]
  },
  {
   "cell_type": "code",
   "execution_count": 76,
   "id": "02f88d2b",
   "metadata": {},
   "outputs": [],
   "source": [
    "threshold_selected = 0.5\n",
    "\n",
    "model = LogisticRegression(C=50)\n",
    "model.fit(X_train, y_train)\n",
    "\n",
    "y_pred = model.predict_proba(X_test)[:, 1]"
   ]
  },
  {
   "cell_type": "code",
   "execution_count": 77,
   "id": "528214e5",
   "metadata": {},
   "outputs": [],
   "source": [
    "roc_auc = roc_auc_score(y_test, y_pred)\n",
    "accuracy = accuracy_score(y_test, y_pred>=threshold_selected)"
   ]
  },
  {
   "cell_type": "markdown",
   "id": "13c6c5ac",
   "metadata": {},
   "source": [
    "<a name=\"ap4_3\"></a>\n",
    "## 4.3. Evaluate model"
   ]
  },
  {
   "cell_type": "code",
   "execution_count": 78,
   "id": "a35aaa9b",
   "metadata": {},
   "outputs": [
    {
     "name": "stdout",
     "output_type": "stream",
     "text": [
      "ROC: 0.8471323286247461\n",
      "Accuracy: 79.67 %\n"
     ]
    }
   ],
   "source": [
    "print(\"ROC: {}\".format(roc_auc))\n",
    "print(\"Accuracy: {} %\".format(round(accuracy,4)*100))"
   ]
  },
  {
   "cell_type": "code",
   "execution_count": 79,
   "id": "fb6243d3",
   "metadata": {},
   "outputs": [
    {
     "data": {
      "image/png": "[encoded data removed]",
      "text/plain": [
       "<Figure size 432x360 with 1 Axes>"
      ]
     },
     "metadata": {},
     "output_type": "display_data"
    }
   ],
   "source": [
    "fpr, tpr, threshold = roc_curve(y_test, y_pred)\n",
    "\n",
    "plt.figure(figsize = (6, 5))\n",
    "\n",
    "plt.plot(fpr, tpr, color='blue', label='AUC = %0.2f' %roc_auc)\n",
    "plt.plot([0, 1], [0, 1], color='black', linestyle='dashed')\n",
    "\n",
    "plt.title('Receiver Operating Characteristic (ROC)')\n",
    "plt.xlabel('False Positive Rate')\n",
    "plt.ylabel('True Positive Rate')\n",
    "plt.legend(loc='lower right')\n",
    "\n",
    "plt.show()"
   ]
  },
  {
   "cell_type": "code",
   "execution_count": 80,
   "id": "32e68ac2",
   "metadata": {},
   "outputs": [
    {
     "data": {
      "image/png": "[encoded data removed]",
      "text/plain": [
       "<Figure size 360x216 with 2 Axes>"
      ]
     },
     "metadata": {},
     "output_type": "display_data"
    }
   ],
   "source": [
    "table = confusion_matrix(y_test, y_pred>=threshold_selected)\n",
    "\n",
    "plt.figure(figsize=(5,3))\n",
    "\n",
    "sns.heatmap(table/table.sum(), annot=True, cmap='Blues', fmt='.2%')\n",
    "\n",
    "plt.title('Confusion matrix')\n",
    "plt.xlabel('Predictions')\n",
    "plt.ylabel('Actual')\n",
    "plt.show()"
   ]
  },
  {
   "cell_type": "code",
   "execution_count": 81,
   "id": "ea44e0a0",
   "metadata": {},
   "outputs": [
    {
     "name": "stdout",
     "output_type": "stream",
     "text": [
      "              precision    recall  f1-score   support\n",
      "\n",
      "           0       0.84      0.89      0.87      1041\n",
      "           1       0.63      0.54      0.58       366\n",
      "\n",
      "    accuracy                           0.80      1407\n",
      "   macro avg       0.74      0.71      0.72      1407\n",
      "weighted avg       0.79      0.80      0.79      1407\n",
      "\n"
     ]
    }
   ],
   "source": [
    "print(classification_report(y_test, y_pred>=threshold_selected))"
   ]
  },
  {
   "cell_type": "markdown",
   "id": "4849d05a",
   "metadata": {},
   "source": [
    "<a name=\"ap5\"></a>\n",
    "# 5. Model interpretation"
   ]
  },
  {
   "cell_type": "code",
   "execution_count": 82,
   "id": "9570d3d5",
   "metadata": {},
   "outputs": [],
   "source": [
    "feat_imp = pd.DataFrame({'features': X_test.columns, 'weights': model.coef_[0]})"
   ]
  },
  {
   "cell_type": "markdown",
   "id": "dde1305e",
   "metadata": {},
   "source": [
    "### Positive weights"
   ]
  },
  {
   "cell_type": "code",
   "execution_count": 83,
   "id": "23387fd3",
   "metadata": {},
   "outputs": [
    {
     "data": {
      "image/png": "[encoded data removed]",
      "text/plain": [
       "<Figure size 432x432 with 1 Axes>"
      ]
     },
     "metadata": {},
     "output_type": "display_data"
    }
   ],
   "source": [
    "plt.figure(figsize=(6,6))\n",
    "sns.barplot(data=feat_imp.sort_values(by='weights', ascending=False)[:10], \n",
    "            x='weights', \n",
    "            y='features', \n",
    "            orient='h',\n",
    "            palette='ch:s=.25,rot=-.25')\n",
    "            \n",
    "plt.title('Feature importances')\n",
    "plt.ylabel('Features')\n",
    "plt.xlabel('Weights')\n",
    "            \n",
    "plt.show()"
   ]
  },
  {
   "cell_type": "markdown",
   "id": "8fef2d17",
   "metadata": {},
   "source": [
    "### Negative weights"
   ]
  },
  {
   "cell_type": "code",
   "execution_count": 84,
   "id": "47339f8a",
   "metadata": {},
   "outputs": [
    {
     "data": {
      "image/png": "[encoded data removed]",
      "text/plain": [
       "<Figure size 432x432 with 1 Axes>"
      ]
     },
     "metadata": {},
     "output_type": "display_data"
    }
   ],
   "source": [
    "plt.figure(figsize=(6,6))\n",
    "sns.barplot(data=feat_imp.sort_values(by='weights', ascending=False)[-10:], \n",
    "            x='weights', \n",
    "            y='features', \n",
    "            orient='h',\n",
    "            palette='ch:s=.25,rot=-.25')\n",
    "            \n",
    "plt.title('Feature importances')\n",
    "plt.ylabel('Features')\n",
    "plt.xlabel('Weights')\n",
    "            \n",
    "plt.show()"
   ]
  }
 ],
 "metadata": {
  "kernelspec": {
   "display_name": "Python 3 (ipykernel)",
   "language": "python",
   "name": "python3"
  },
  "language_info": {
   "codemirror_mode": {
    "name": "ipython",
    "version": 3
   },
   "file_extension": ".py",
   "mimetype": "text/x-python",
   "name": "python",
   "nbconvert_exporter": "python",
   "pygments_lexer": "ipython3",
   "version": "3.9.12"
  }
 },
 "nbformat": 4,
 "nbformat_minor": 5
}
