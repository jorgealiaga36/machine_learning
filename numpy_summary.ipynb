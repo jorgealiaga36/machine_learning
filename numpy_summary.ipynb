{
 "cells": [
  {
   "cell_type": "markdown",
   "id": "4b905637",
   "metadata": {},
   "source": [
    "# NumPy "
   ]
  },
  {
   "cell_type": "code",
   "execution_count": 2,
   "id": "029c18e2",
   "metadata": {},
   "outputs": [],
   "source": [
    "import numpy as np"
   ]
  },
  {
   "cell_type": "markdown",
   "id": "ab163908",
   "metadata": {},
   "source": [
    "## 1. NumPy arrays"
   ]
  },
  {
   "cell_type": "code",
   "execution_count": 31,
   "id": "d455247a",
   "metadata": {},
   "outputs": [
    {
     "name": "stdout",
     "output_type": "stream",
     "text": [
      "1D array: [0 0 0 0 0 0 0 0 0 0] \n",
      "\n",
      "2D array: [[0. 0.]\n",
      " [0. 0.]\n",
      " [0. 0.]\n",
      " [0. 0.]\n",
      " [0. 0.]]\n",
      "\n",
      "2D array shape: (5, 2)\n"
     ]
    }
   ],
   "source": [
    "#Array of zeros.\n",
    "\n",
    "array_1D = np.zeros(10, dtype = np.int8) \n",
    "array_2D = np.zeros((5,2), dtype = np.float64)  #Data type could be omitted.\n",
    "\n",
    "print(\"1D array: {} \\n\\n2D array: {}\".format(array_1D, array_2D))\n",
    "\n",
    "shape = np.shape(array_2D)\n",
    "print(\"\\n2D array shape: {}\".format(shape))"
   ]
  },
  {
   "cell_type": "code",
   "execution_count": 34,
   "id": "af7af9c2",
   "metadata": {},
   "outputs": [
    {
     "data": {
      "text/plain": [
       "array([0, 1, 2, 3, 4])"
      ]
     },
     "execution_count": 34,
     "metadata": {},
     "output_type": "execute_result"
    }
   ],
   "source": [
    "#Array from zero with an specified number of elements increasing the value one by one.\n",
    "\n",
    "array = np.arange(5)\n",
    "array"
   ]
  },
  {
   "cell_type": "code",
   "execution_count": 35,
   "id": "8ec973c7",
   "metadata": {},
   "outputs": [
    {
     "data": {
      "text/plain": [
       "array([0. , 0.1, 0.2, 0.3, 0.4, 0.5, 0.6, 0.7, 0.8, 0.9, 1. ])"
      ]
     },
     "execution_count": 35,
     "metadata": {},
     "output_type": "execute_result"
    }
   ],
   "source": [
    "#Array with elements from start to end of a certain size.\n",
    "\n",
    "array = np.linspace(0, 1, 11)\n",
    "array"
   ]
  },
  {
   "cell_type": "code",
   "execution_count": 36,
   "id": "20f7b589",
   "metadata": {},
   "outputs": [
    {
     "data": {
      "text/plain": [
       "array([1, 2, 3, 4, 5])"
      ]
     },
     "execution_count": 36,
     "metadata": {},
     "output_type": "execute_result"
    }
   ],
   "source": [
    "#Array from a list with integers.\n",
    "\n",
    "elements = [1, 2, 3, 4, 5]\n",
    "\n",
    "array = np.array(elements)\n",
    "array"
   ]
  },
  {
   "cell_type": "markdown",
   "id": "1447deef",
   "metadata": {},
   "source": [
    "## 2. Randomly generated arrays"
   ]
  },
  {
   "cell_type": "code",
   "execution_count": 131,
   "id": "5a473a20",
   "metadata": {},
   "outputs": [
    {
     "data": {
      "text/plain": [
       "array([[0.4359949 , 0.02592623],\n",
       "       [0.54966248, 0.43532239],\n",
       "       [0.4203678 , 0.33033482],\n",
       "       [0.20464863, 0.61927097],\n",
       "       [0.29965467, 0.26682728]])"
      ]
     },
     "execution_count": 131,
     "metadata": {},
     "output_type": "execute_result"
    }
   ],
   "source": [
    "#Uniform random numbers between 0 and 1 with an specified shape.\n",
    "\n",
    "mat = np.random.rand(5, 2)\n",
    "mat"
   ]
  },
  {
   "cell_type": "code",
   "execution_count": 132,
   "id": "46456ca7",
   "metadata": {},
   "outputs": [
    {
     "data": {
      "text/plain": [
       "array([[-0.41675785, -0.05626683],\n",
       "       [-2.1361961 ,  1.64027081],\n",
       "       [-1.79343559, -0.84174737],\n",
       "       [ 0.50288142, -1.24528809],\n",
       "       [-1.05795222, -0.90900761]])"
      ]
     },
     "execution_count": 132,
     "metadata": {},
     "output_type": "execute_result"
    }
   ],
   "source": [
    "#Random numbers standard normal distribution.\n",
    "\n",
    "np.random.seed(2) #Set seed for reproducibility (the randomly is fixed).\n",
    "\n",
    "mat = np.random.randn(5,2)\n",
    "mat"
   ]
  },
  {
   "cell_type": "code",
   "execution_count": 133,
   "id": "29abbb1d",
   "metadata": {},
   "outputs": [
    {
     "data": {
      "text/plain": [
       "array([[37, 39],\n",
       "       [67,  4],\n",
       "       [42, 51],\n",
       "       [38, 33],\n",
       "       [58, 67]])"
      ]
     },
     "execution_count": 133,
     "metadata": {},
     "output_type": "execute_result"
    }
   ],
   "source": [
    "#Random integers between 0 and 99.\n",
    "\n",
    "mat = np.random.randint(low = 0, high = 100, size = (5,2))\n",
    "mat"
   ]
  },
  {
   "cell_type": "code",
   "execution_count": 66,
   "id": "c87752af",
   "metadata": {},
   "outputs": [
    {
     "data": {
      "text/plain": [
       "array([4, 1, 0, 3, 2])"
      ]
     },
     "execution_count": 66,
     "metadata": {},
     "output_type": "execute_result"
    }
   ],
   "source": [
    "#Suffled array.\n",
    "\n",
    "array = np.arange(5)\n",
    "\n",
    "np.random.shuffle(array)\n",
    "array"
   ]
  },
  {
   "cell_type": "markdown",
   "id": "66d262c7",
   "metadata": {},
   "source": [
    "## 3. Element-wise operations"
   ]
  },
  {
   "cell_type": "code",
   "execution_count": 72,
   "id": "a2a77dfa",
   "metadata": {},
   "outputs": [
    {
     "name": "stdout",
     "output_type": "stream",
     "text": [
      "Original array: [0.4359949  0.02592623 0.54966248]\n",
      "\n",
      "Exp array: [1.54650091 1.02626524 1.73266811]\n",
      "\n",
      "Log(x) array: [-0.83012473 -3.65250001 -0.59845087]\n",
      "\n",
      "Log(x+1) array: [0.36185792 0.02559585 0.43803715]\n",
      "\n",
      "Sqrt array: [0.6602991  0.16101625 0.74139226]\n",
      "\n",
      "Rounded array: [0.436 0.026 0.55 ]\n"
     ]
    }
   ],
   "source": [
    "np.random.seed(2)\n",
    "array = np.random.rand(3) #Vector with 3 elements.\n",
    "\n",
    "arr_exp = np.exp(array)     #Exponential (e^x)\n",
    "arr_log = np.log(array)     #Log(x)\n",
    "arr_log1 = np.log1p(array)  #Log(x+1)\n",
    "arr_sqrt = np.sqrt(array)   #Square root.\n",
    "\n",
    "arr_round = array.round(3)  #Rounded array to 3th digit.\n",
    "\n",
    "print(\"Original array: {}\".format(array))\n",
    "print(\"\\nExp array: {}\".format(arr_exp))\n",
    "print(\"\\nLog(x) array: {}\".format(arr_log))\n",
    "print(\"\\nLog(x+1) array: {}\".format(arr_log1))\n",
    "print(\"\\nSqrt array: {}\".format(arr_sqrt))\n",
    "\n",
    "print(\"\\nRounded array: {}\".format(arr_round))\n",
    "\n",
    "\n",
    "#Other operations: +, -, /, ** (between arrays or an array and an scalar value)."
   ]
  },
  {
   "cell_type": "markdown",
   "id": "77152671",
   "metadata": {},
   "source": [
    "### 3.1. Comparison operations"
   ]
  },
  {
   "cell_type": "code",
   "execution_count": 88,
   "id": "56aa4664",
   "metadata": {},
   "outputs": [
    {
     "name": "stdout",
     "output_type": "stream",
     "text": [
      "Array 1: [0.52573325 0.04242919 0.16441909 0.45022718]\n",
      "Array 2: [0.70797117 0.77758791 0.777103   0.50277875]\n",
      "\n",
      "Result 1: [ True False False False]\n",
      "Result 2: [ True  True  True  True]\n",
      "\n",
      "AND: [ True False False False]\n",
      "OR: [ True  True  True  True]\n"
     ]
    }
   ],
   "source": [
    "np.random.rand(3)\n",
    "arr1 = np.random.rand(4)\n",
    "arr2 = np.random.rand(4)\n",
    "\n",
    "#Comparison operations.\n",
    "\n",
    "print(\"Array 1: {}\".format(arr1))\n",
    "print(\"Array 2: {}\".format(arr2))\n",
    "\n",
    "result1 = arr1 >= 0.5\n",
    "result2 = arr1 < arr2\n",
    "\n",
    "print(\"\\nResult 1: {}\".format(result1))\n",
    "print(\"Result 2: {}\".format(result2))\n",
    "\n",
    "#Comparison operators: <, >, >=, <=\n",
    "\n",
    "#-----------------------------------------\n",
    "\n",
    "#Logical operations.\n",
    "\n",
    "result3 = result1 & result2\n",
    "result4 = result1 | result2\n",
    "\n",
    "print(\"\\nAND: {}\".format(result3))\n",
    "print(\"OR: {}\".format(result4))"
   ]
  },
  {
   "cell_type": "markdown",
   "id": "551bf83c",
   "metadata": {},
   "source": [
    "### 3.2. Logical operations"
   ]
  },
  {
   "cell_type": "code",
   "execution_count": null,
   "id": "9d84f4b3",
   "metadata": {},
   "outputs": [],
   "source": [
    "np.random.rand(3)\n",
    "arr1 = np.random.rand(4)\n",
    "arr2 = np.random.rand(4)\n",
    "\n",
    "print(\"Array 1: {}\".format(arr1))\n",
    "print(\"Array 2: {}\".format(arr2))\n",
    "\n",
    "result1 = arr1 %\n",
    "result2 = arr1 < arr2\n",
    "\n",
    "print(\"\\nResult 1: {}\".format(result1))\n",
    "print(\"Result 2: {}\".format(result2))\n",
    "\n",
    "#Comparison operators: <, >, >=, <="
   ]
  },
  {
   "cell_type": "markdown",
   "id": "531dde6e",
   "metadata": {},
   "source": [
    "### 3.3. Other operations"
   ]
  },
  {
   "cell_type": "code",
   "execution_count": 134,
   "id": "a3b139b0",
   "metadata": {},
   "outputs": [
    {
     "name": "stdout",
     "output_type": "stream",
     "text": [
      "Original array: [0.43 0.1  0.13 0.6 ]\n",
      "\n",
      "Min = 0.1\n",
      "Max = 0.6\n",
      "Mean = 0.315\n",
      "Standard desviation = 0.20910523666326483\n",
      "Sum = 1.26\n",
      "\n",
      "Original 2D array: [[0.44 0.03]\n",
      " [0.55 0.44]\n",
      " [0.42 0.33]\n",
      " [0.2  0.62]\n",
      " [0.3  0.27]]\n",
      "\n",
      "Max1 = [0.44 0.55 0.42 0.62 0.3 ]\n",
      "Max2 = [0.55 0.62]\n"
     ]
    }
   ],
   "source": [
    "np.random.rand(3)\n",
    "array = np.random.rand(4).round(2)\n",
    "\n",
    "print(\"Original array: {}\".format(array))\n",
    "\n",
    "print(\"\\nMin = {}\".format( array.min() ))                 #Lower value.\n",
    "print(\"Max = {}\".format( array.max() ))                   #Higher value.\n",
    "print(\"Mean = {}\".format( array.mean() ))                 #Mean.\n",
    "print(\"Standard desviation = {}\".format( array.std() ))   #Standard desviation.\n",
    "print(\"Sum = {}\".format( array.sum() ))                   #Sum of elements.\n",
    "\n",
    "\n",
    "#For 2D arrays we can specify the axis along which we apply the corresponding operation.\n",
    "\n",
    "np.random.seed(2)\n",
    "mat = np.random.rand(5,2).round(2)\n",
    "\n",
    "max1 = mat.max(axis = 1)\n",
    "max2 = mat.max(axis = 0)\n",
    "\n",
    "print(\"\\nOriginal 2D array: {}\".format(array2D))\n",
    "print(\"\\nMax1 = {}\".format(max1))  #Applied to each row.              \n",
    "print(\"Max2 = {}\".format(max2))      #Aplied to each column.              "
   ]
  },
  {
   "cell_type": "markdown",
   "id": "d6b290b6",
   "metadata": {},
   "source": [
    "## 4. Sorting"
   ]
  },
  {
   "cell_type": "code",
   "execution_count": 117,
   "id": "7663f29e",
   "metadata": {},
   "outputs": [
    {
     "name": "stdout",
     "output_type": "stream",
     "text": [
      "Original array: [0.44 0.03 0.55 0.44 0.42]\n",
      "\n",
      "Sorted array: [0.03 0.42 0.44 0.44 0.55]\n",
      "Sorted array indexes: [1 4 0 3 2]\n",
      "Array using indexes: [0.03 0.42 0.44 0.44 0.55]\n"
     ]
    }
   ],
   "source": [
    "np.random.seed(2)\n",
    "array = np.random.rand(5).round(2)\n",
    "print(\"Original array: {}\".format(array))\n",
    "\n",
    "print(\"\\nSorted array: {}\".format(np.sort(array))) #Sorting the array.\n",
    "\n",
    "indexes = array.argsort()\n",
    "print(\"Sorted array indexes: {}\".format(indexes))\n",
    "print(\"Array using indexes: {}\".format( array[indexes] )) #Slicing an array with another array."
   ]
  },
  {
   "cell_type": "markdown",
   "id": "d7a3c801",
   "metadata": {},
   "source": [
    "## 5. Reshaping"
   ]
  },
  {
   "cell_type": "code",
   "execution_count": 135,
   "id": "d94bf23a",
   "metadata": {},
   "outputs": [
    {
     "name": "stdout",
     "output_type": "stream",
     "text": [
      "Matrix 1: [[0 1]\n",
      " [2 3]\n",
      " [4 5]]\n",
      "\n",
      "Matrix 2: [[0 3]\n",
      " [1 4]\n",
      " [2 5]]\n"
     ]
    }
   ],
   "source": [
    "mat1 = np.arange(6).reshape(3,2) #number arrows x number columns = number elements.\n",
    "mat2 = np.arange(6).reshape(3,2, order = 'F') \n",
    "\n",
    "print(\"Matrix 1: {}\".format(array1))\n",
    "print(\"\\nMatrix 2: {}\".format(array2))"
   ]
  },
  {
   "cell_type": "markdown",
   "id": "c7562afd",
   "metadata": {},
   "source": [
    "### 5.1.Putting multiple arrays together"
   ]
  },
  {
   "cell_type": "code",
   "execution_count": 4,
   "id": "8941b003",
   "metadata": {},
   "outputs": [
    {
     "name": "stdout",
     "output_type": "stream",
     "text": [
      "Vector: [0 1 2]\n",
      "Matrix: [[0 1]\n",
      " [2 3]\n",
      " [4 5]]\n",
      "\n",
      "Matrix 1: [0 1 2 0 1 2]\n",
      "\n",
      "Matrix 2: [[0 1 0 1]\n",
      " [2 3 2 3]\n",
      " [4 5 4 5]]\n",
      "\n",
      "Matrix 3: [[0 1 2]\n",
      " [0 1 2]]\n",
      "\n",
      "Matrix 4: [[0 1]\n",
      " [2 3]\n",
      " [4 5]\n",
      " [0 1]\n",
      " [2 3]\n",
      " [4 5]]\n",
      "\n",
      "Matrix 5: [[0 0]\n",
      " [1 1]\n",
      " [2 2]]\n",
      "\n",
      "Matrix 6: [[0 0 1]\n",
      " [1 2 3]\n",
      " [2 4 5]]\n",
      "\n",
      "Matrix 7: [[0 1 2]\n",
      " [0 2 4]\n",
      " [1 3 5]]\n"
     ]
    }
   ],
   "source": [
    "np.random.seed(2)\n",
    "\n",
    "mat = np.arange(6).reshape(3,2)\n",
    "vec = np.arange(3)\n",
    "\n",
    "print(\"Vector: {}\".format(vec))\n",
    "print(\"Matrix: {}\".format(mat))\n",
    "\n",
    "#Only between 1D arrays and between 2D arrays.\n",
    "\n",
    "mat1 = np.hstack([vec, vec])\n",
    "mat2 = np.hstack([mat, mat])\n",
    "\n",
    "mat3 = np.vstack([vec, vec])\n",
    "mat4 = np.vstack([mat, mat])\n",
    "\n",
    "#It allows to stack 1D and 2D arrays ->\n",
    "\n",
    "mat5 = np.column_stack([vec, vec])\n",
    "mat6 = np.column_stack([vec, mat])  \n",
    "\n",
    "#For stacking a vector with a matrix, the dimentions must to match.\n",
    "#Transpose of a matrix: matrix.T\n",
    "\n",
    "mat7 = np.vstack([vec, mat.T]) #Vector 1x3 and matrix.T 2x3.\n",
    "\n",
    "print(\"\\nMatrix 1: {}\".format(mat1))\n",
    "print(\"\\nMatrix 2: {}\".format(mat2))\n",
    "print(\"\\nMatrix 3: {}\".format(mat3))\n",
    "print(\"\\nMatrix 4: {}\".format(mat4))\n",
    "print(\"\\nMatrix 5: {}\".format(mat5))\n",
    "print(\"\\nMatrix 6: {}\".format(mat6))\n",
    "print(\"\\nMatrix 7: {}\".format(mat7))"
   ]
  },
  {
   "cell_type": "markdown",
   "id": "3fde17e8",
   "metadata": {},
   "source": [
    "## 6. Slicing and Filtering"
   ]
  },
  {
   "cell_type": "markdown",
   "id": "1cad6f66",
   "metadata": {},
   "source": [
    "### 6.1. Slicing"
   ]
  },
  {
   "cell_type": "code",
   "execution_count": 3,
   "id": "1c000787",
   "metadata": {},
   "outputs": [
    {
     "name": "stdout",
     "output_type": "stream",
     "text": [
      "Matrix: [[ 0  1  2]\n",
      " [ 3  4  5]\n",
      " [ 6  7  8]\n",
      " [ 9 10 11]\n",
      " [12 13 14]]\n",
      "\n",
      "Matrix: [[3 4 5]\n",
      " [6 7 8]]\n",
      "\n",
      "Matrix: [[ 0]\n",
      " [ 3]\n",
      " [ 6]\n",
      " [ 9]\n",
      " [12]]\n",
      "\n",
      "Matrix: [[3 4]\n",
      " [6 7]]\n",
      "\n",
      "Matrix: [[3 4 5]\n",
      " [0 1 2]\n",
      " [6 7 8]]\n"
     ]
    }
   ],
   "source": [
    "mat = np.arange(15).reshape(5,3)\n",
    "\n",
    "print(\"Matrix: {}\".format(mat[:]))      #All rows. \n",
    "print(\"\\nMatrix: {}\".format(mat[1:3]))\n",
    "print(\"\\nMatrix: {}\".format(mat[: , :1]))\n",
    "print(\"\\nMatrix: {}\".format(mat[1:3, :2]))  #Final position is not included.\n",
    "\n",
    "vec = np.arange(3)\n",
    "np.random.shuffle(vec)\n",
    "print(\"\\nMatrix: {}\".format(mat[vec]))"
   ]
  },
  {
   "cell_type": "markdown",
   "id": "610b744c",
   "metadata": {},
   "source": [
    "### 6.2.Filtering"
   ]
  },
  {
   "cell_type": "code",
   "execution_count": 48,
   "id": "1e12e204",
   "metadata": {},
   "outputs": [
    {
     "name": "stdout",
     "output_type": "stream",
     "text": [
      "Even numbers?: [False  True False  True False]\n",
      "\n",
      "Values: [[ 3  4  5]\n",
      " [ 9 10 11]]\n"
     ]
    }
   ],
   "source": [
    "mat = np.arange(15).reshape(5,3)\n",
    "\n",
    "print(\"Even numbers?: {}\".format(mat[:, 0] % 2 == 1)) #Even numbers in the first column.\n",
    "\n",
    "print(\"\\nValues: {}\".format(mat[mat[:, 0] % 2 == 1]))"
   ]
  },
  {
   "cell_type": "markdown",
   "id": "23e2bacb",
   "metadata": {},
   "source": [
    "## 7. Linear algebra "
   ]
  },
  {
   "cell_type": "code",
   "execution_count": 65,
   "id": "f69c2b75",
   "metadata": {},
   "outputs": [
    {
     "name": "stdout",
     "output_type": "stream",
     "text": [
      "Inverse matrix: [[-3.  3. -1.]\n",
      " [ 3. -4.  2.]\n",
      " [-1.  2. -1.]]\n",
      "\n",
      "Matrix transpose: [[0 1 2]\n",
      " [1 2 3]\n",
      " [2 3 3]]\n",
      "\n",
      "Multiplication matrix: [[1. 0. 0.]\n",
      " [0. 1. 0.]\n",
      " [0. 0. 1.]]\n"
     ]
    }
   ],
   "source": [
    "#Inverse\n",
    "X = np.array([\n",
    "    [0, 1, 2],\n",
    "    [1, 2, 3],\n",
    "    [2, 3, 3]\n",
    "])\n",
    "\n",
    "X_inv = np.linalg.inv(X)\n",
    "print(\"Inverse matrix: {}\".format(X_inv))\n",
    "\n",
    "\n",
    "#Transpose\n",
    "X_trans = X.T\n",
    "print(\"\\nMatrix transpose: {}\".format(X_trans))\n",
    "\n",
    "\n",
    "#Multiplication\n",
    "\n",
    "X_mult = np.dot(X, X_inv)                              #Also vec1.dot(vec2)\n",
    "print(\"\\nMultiplication matrix: {}\".format(X_mult))"
   ]
  }
 ],
 "metadata": {
  "kernelspec": {
   "display_name": "Python 3 (ipykernel)",
   "language": "python",
   "name": "python3"
  },
  "language_info": {
   "codemirror_mode": {
    "name": "ipython",
    "version": 3
   },
   "file_extension": ".py",
   "mimetype": "text/x-python",
   "name": "python",
   "nbconvert_exporter": "python",
   "pygments_lexer": "ipython3",
   "version": "3.9.12"
  }
 },
 "nbformat": 4,
 "nbformat_minor": 5
}
