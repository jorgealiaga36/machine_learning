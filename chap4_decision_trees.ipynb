{
 "cells": [
  {
   "cell_type": "markdown",
   "id": "8588e4a6",
   "metadata": {},
   "source": [
    "# - Credict risk scoring - Proyect"
   ]
  },
  {
   "cell_type": "code",
   "execution_count": 1,
   "id": "ad5b70ff",
   "metadata": {},
   "outputs": [],
   "source": [
    "__author__ = \"Jorge Aliaga Luque\"\n",
    "__website__ = \"https://jorgealiaga36.github.io/jorge-aliaga-luque/\""
   ]
  },
  {
   "cell_type": "markdown",
   "id": "6de59105",
   "metadata": {},
   "source": [
    "## Decision trees and ensemble learning"
   ]
  },
  {
   "cell_type": "markdown",
   "id": "f352e426",
   "metadata": {},
   "source": [
    "The main goal of this proyect is to apply machine learning to predict whether a customer will fail to pay back a loan (default prediction).\n",
    "\n",
    "Imagine that we work at a bank. When we receive a loan application, we need to make sure that if we give the money, the customer will be able to pay it back. Every application carries a risk of default — the failure to return the money. We’d like to minimize this risk: before agreeing to give a loan, we want to score the customer and assess the chances of default. If it’s too high, we reject the application. This process is called “credit risk scoring.\n",
    "\n",
    "First we will apply the simplest tree based model \"Decision trees\". Then we will combine them into a an ensemble to achieve better performance. We cover two tree-based ensemble models: random forest and gradient boosting.\n"
   ]
  },
  {
   "cell_type": "markdown",
   "id": "61be2431",
   "metadata": {},
   "source": [
    "## Table of Contents\n",
    "\n",
    "- [**1. Reading and preparing data**](#ap1)\n",
    "\n",
    "- [**2. Decision Trees**](#ap2)\n",
    "\n",
    "    - 2.1. [Hypterparameters tunning](#ap2_1)\n",
    "        - 2.1.1. [max_depth](#ap2_1_1)\n",
    "        - 2.1.2. [min_samples_leaf](#ap2_1_2)\n",
    "   \n",
    "    - 2.2. [Model selection](#ap2_2)\n",
    "        - 2.2.1. [Feature importance](#ap2_2_1)\n",
    " \n",
    "- [**3. Random Forest**](#ap3)\n",
    "\n",
    "    - 3.1. [Hypterparameters tunning](#ap3_1)\n",
    "        - 3.1.1. [n_estimators](#ap3_1_1)\n",
    "        - 3.1.2. [max_depth](#ap3_1_2)\n",
    "        - 3.1.3. [min_samples_leaf](#ap3_1_3)\n",
    "    \n",
    "    - 3.2. [Model selection](#ap3_2)\n",
    "        - 3.2.1. [Feature importance](#ap3_2_1)\n",
    "    \n",
    "- [**4. XGBoost**](#ap4)\n",
    "\n",
    "    - 4.1. [Hypterparameters tunning](#ap4_1)\n",
    "        - 2.1.1. [eta](#ap4_1_1)\n",
    "        - 2.1.2. [max_depth](#ap4_1_2)\n",
    "        - 2.1.2. [min_child_witdh](#ap4_1_3)\n",
    "        - 2.1.2. [num_boost_round](#ap4_1_4)\n",
    "    - 4.2. [Model selection](#ap4_2)\n",
    "        - 4.2.1. [Feature importance](#ap4_2_1)\n",
    "\n",
    "- [**5. Comparison between models**](#ap5)\n",
    "- [**6. Final test**](#ap6)"
   ]
  },
  {
   "cell_type": "markdown",
   "id": "34641d22",
   "metadata": {},
   "source": [
    "-----------------------------------------------------------------------------------------------------"
   ]
  },
  {
   "cell_type": "code",
   "execution_count": 2,
   "id": "38a99f35",
   "metadata": {},
   "outputs": [
    {
     "name": "stderr",
     "output_type": "stream",
     "text": [
      "/home/jorgealiaga36/anaconda3/lib/python3.9/site-packages/xgboost/compat.py:36: FutureWarning: pandas.Int64Index is deprecated and will be removed from pandas in a future version. Use pandas.Index with the appropriate dtype instead.\n",
      "  from pandas import MultiIndex, Int64Index\n"
     ]
    }
   ],
   "source": [
    "import pandas as pd\n",
    "import numpy as np\n",
    "import seaborn as sns\n",
    "\n",
    "from matplotlib import pyplot as plt\n",
    "%matplotlib inline\n",
    "\n",
    "from sklearn.tree import DecisionTreeClassifier, export_text\n",
    "from sklearn.ensemble import RandomForestClassifier\n",
    "from sklearn.model_selection import train_test_split\n",
    "from sklearn.feature_extraction import DictVectorizer\n",
    "from sklearn.metrics import roc_auc_score, roc_curve\n",
    "\n",
    "import xgboost as xgb\n",
    "\n",
    "from IPython.display import display"
   ]
  },
  {
   "cell_type": "markdown",
   "id": "d4ac5952",
   "metadata": {},
   "source": [
    "<a name=\"ap1\"></a>\n",
    "# 1. Reading and preparing data"
   ]
  },
  {
   "cell_type": "code",
   "execution_count": 3,
   "id": "f32b2e3f",
   "metadata": {},
   "outputs": [
    {
     "name": "stdout",
     "output_type": "stream",
     "text": [
      "Number of examples: 4455\n"
     ]
    },
    {
     "data": {
      "text/html": [
       "<div>\n",
       "<style scoped>\n",
       "    .dataframe tbody tr th:only-of-type {\n",
       "        vertical-align: middle;\n",
       "    }\n",
       "\n",
       "    .dataframe tbody tr th {\n",
       "        vertical-align: top;\n",
       "    }\n",
       "\n",
       "    .dataframe thead th {\n",
       "        text-align: right;\n",
       "    }\n",
       "</style>\n",
       "<table border=\"1\" class=\"dataframe\">\n",
       "  <thead>\n",
       "    <tr style=\"text-align: right;\">\n",
       "      <th></th>\n",
       "      <th>0</th>\n",
       "      <th>1</th>\n",
       "      <th>2</th>\n",
       "      <th>3</th>\n",
       "      <th>4</th>\n",
       "      <th>5</th>\n",
       "      <th>6</th>\n",
       "      <th>7</th>\n",
       "      <th>8</th>\n",
       "      <th>9</th>\n",
       "      <th>...</th>\n",
       "      <th>4445</th>\n",
       "      <th>4446</th>\n",
       "      <th>4447</th>\n",
       "      <th>4448</th>\n",
       "      <th>4449</th>\n",
       "      <th>4450</th>\n",
       "      <th>4451</th>\n",
       "      <th>4452</th>\n",
       "      <th>4453</th>\n",
       "      <th>4454</th>\n",
       "    </tr>\n",
       "  </thead>\n",
       "  <tbody>\n",
       "    <tr>\n",
       "      <th>Status</th>\n",
       "      <td>1</td>\n",
       "      <td>1</td>\n",
       "      <td>2</td>\n",
       "      <td>1</td>\n",
       "      <td>1</td>\n",
       "      <td>1</td>\n",
       "      <td>1</td>\n",
       "      <td>1</td>\n",
       "      <td>1</td>\n",
       "      <td>2</td>\n",
       "      <td>...</td>\n",
       "      <td>2</td>\n",
       "      <td>1</td>\n",
       "      <td>1</td>\n",
       "      <td>1</td>\n",
       "      <td>2</td>\n",
       "      <td>2</td>\n",
       "      <td>1</td>\n",
       "      <td>2</td>\n",
       "      <td>1</td>\n",
       "      <td>1</td>\n",
       "    </tr>\n",
       "    <tr>\n",
       "      <th>Seniority</th>\n",
       "      <td>9</td>\n",
       "      <td>17</td>\n",
       "      <td>10</td>\n",
       "      <td>0</td>\n",
       "      <td>0</td>\n",
       "      <td>1</td>\n",
       "      <td>29</td>\n",
       "      <td>9</td>\n",
       "      <td>0</td>\n",
       "      <td>0</td>\n",
       "      <td>...</td>\n",
       "      <td>6</td>\n",
       "      <td>23</td>\n",
       "      <td>6</td>\n",
       "      <td>3</td>\n",
       "      <td>1</td>\n",
       "      <td>1</td>\n",
       "      <td>22</td>\n",
       "      <td>0</td>\n",
       "      <td>0</td>\n",
       "      <td>5</td>\n",
       "    </tr>\n",
       "    <tr>\n",
       "      <th>Home</th>\n",
       "      <td>1</td>\n",
       "      <td>1</td>\n",
       "      <td>2</td>\n",
       "      <td>1</td>\n",
       "      <td>1</td>\n",
       "      <td>2</td>\n",
       "      <td>2</td>\n",
       "      <td>5</td>\n",
       "      <td>2</td>\n",
       "      <td>5</td>\n",
       "      <td>...</td>\n",
       "      <td>5</td>\n",
       "      <td>2</td>\n",
       "      <td>2</td>\n",
       "      <td>2</td>\n",
       "      <td>6</td>\n",
       "      <td>1</td>\n",
       "      <td>2</td>\n",
       "      <td>2</td>\n",
       "      <td>1</td>\n",
       "      <td>2</td>\n",
       "    </tr>\n",
       "    <tr>\n",
       "      <th>Time</th>\n",
       "      <td>60</td>\n",
       "      <td>60</td>\n",
       "      <td>36</td>\n",
       "      <td>60</td>\n",
       "      <td>36</td>\n",
       "      <td>60</td>\n",
       "      <td>60</td>\n",
       "      <td>12</td>\n",
       "      <td>60</td>\n",
       "      <td>48</td>\n",
       "      <td>...</td>\n",
       "      <td>60</td>\n",
       "      <td>60</td>\n",
       "      <td>48</td>\n",
       "      <td>60</td>\n",
       "      <td>48</td>\n",
       "      <td>60</td>\n",
       "      <td>60</td>\n",
       "      <td>24</td>\n",
       "      <td>48</td>\n",
       "      <td>60</td>\n",
       "    </tr>\n",
       "    <tr>\n",
       "      <th>Age</th>\n",
       "      <td>30</td>\n",
       "      <td>58</td>\n",
       "      <td>46</td>\n",
       "      <td>24</td>\n",
       "      <td>26</td>\n",
       "      <td>36</td>\n",
       "      <td>44</td>\n",
       "      <td>27</td>\n",
       "      <td>32</td>\n",
       "      <td>41</td>\n",
       "      <td>...</td>\n",
       "      <td>22</td>\n",
       "      <td>50</td>\n",
       "      <td>52</td>\n",
       "      <td>49</td>\n",
       "      <td>30</td>\n",
       "      <td>39</td>\n",
       "      <td>46</td>\n",
       "      <td>37</td>\n",
       "      <td>23</td>\n",
       "      <td>32</td>\n",
       "    </tr>\n",
       "    <tr>\n",
       "      <th>Marital</th>\n",
       "      <td>2</td>\n",
       "      <td>3</td>\n",
       "      <td>2</td>\n",
       "      <td>1</td>\n",
       "      <td>1</td>\n",
       "      <td>2</td>\n",
       "      <td>2</td>\n",
       "      <td>1</td>\n",
       "      <td>2</td>\n",
       "      <td>2</td>\n",
       "      <td>...</td>\n",
       "      <td>1</td>\n",
       "      <td>2</td>\n",
       "      <td>2</td>\n",
       "      <td>2</td>\n",
       "      <td>2</td>\n",
       "      <td>2</td>\n",
       "      <td>2</td>\n",
       "      <td>2</td>\n",
       "      <td>1</td>\n",
       "      <td>2</td>\n",
       "    </tr>\n",
       "    <tr>\n",
       "      <th>Records</th>\n",
       "      <td>1</td>\n",
       "      <td>1</td>\n",
       "      <td>2</td>\n",
       "      <td>1</td>\n",
       "      <td>1</td>\n",
       "      <td>1</td>\n",
       "      <td>1</td>\n",
       "      <td>1</td>\n",
       "      <td>1</td>\n",
       "      <td>1</td>\n",
       "      <td>...</td>\n",
       "      <td>2</td>\n",
       "      <td>2</td>\n",
       "      <td>1</td>\n",
       "      <td>1</td>\n",
       "      <td>2</td>\n",
       "      <td>1</td>\n",
       "      <td>1</td>\n",
       "      <td>1</td>\n",
       "      <td>1</td>\n",
       "      <td>1</td>\n",
       "    </tr>\n",
       "    <tr>\n",
       "      <th>Job</th>\n",
       "      <td>3</td>\n",
       "      <td>1</td>\n",
       "      <td>3</td>\n",
       "      <td>1</td>\n",
       "      <td>1</td>\n",
       "      <td>1</td>\n",
       "      <td>1</td>\n",
       "      <td>1</td>\n",
       "      <td>3</td>\n",
       "      <td>2</td>\n",
       "      <td>...</td>\n",
       "      <td>1</td>\n",
       "      <td>3</td>\n",
       "      <td>1</td>\n",
       "      <td>1</td>\n",
       "      <td>2</td>\n",
       "      <td>1</td>\n",
       "      <td>1</td>\n",
       "      <td>2</td>\n",
       "      <td>3</td>\n",
       "      <td>3</td>\n",
       "    </tr>\n",
       "    <tr>\n",
       "      <th>Expenses</th>\n",
       "      <td>73</td>\n",
       "      <td>48</td>\n",
       "      <td>90</td>\n",
       "      <td>63</td>\n",
       "      <td>46</td>\n",
       "      <td>75</td>\n",
       "      <td>75</td>\n",
       "      <td>35</td>\n",
       "      <td>90</td>\n",
       "      <td>90</td>\n",
       "      <td>...</td>\n",
       "      <td>35</td>\n",
       "      <td>90</td>\n",
       "      <td>45</td>\n",
       "      <td>35</td>\n",
       "      <td>75</td>\n",
       "      <td>69</td>\n",
       "      <td>60</td>\n",
       "      <td>60</td>\n",
       "      <td>49</td>\n",
       "      <td>60</td>\n",
       "    </tr>\n",
       "    <tr>\n",
       "      <th>Income</th>\n",
       "      <td>129</td>\n",
       "      <td>131</td>\n",
       "      <td>200</td>\n",
       "      <td>182</td>\n",
       "      <td>107</td>\n",
       "      <td>214</td>\n",
       "      <td>125</td>\n",
       "      <td>80</td>\n",
       "      <td>107</td>\n",
       "      <td>80</td>\n",
       "      <td>...</td>\n",
       "      <td>100</td>\n",
       "      <td>69</td>\n",
       "      <td>190</td>\n",
       "      <td>160</td>\n",
       "      <td>77</td>\n",
       "      <td>92</td>\n",
       "      <td>75</td>\n",
       "      <td>90</td>\n",
       "      <td>140</td>\n",
       "      <td>140</td>\n",
       "    </tr>\n",
       "    <tr>\n",
       "      <th>Assets</th>\n",
       "      <td>0</td>\n",
       "      <td>0</td>\n",
       "      <td>3000</td>\n",
       "      <td>2500</td>\n",
       "      <td>0</td>\n",
       "      <td>3500</td>\n",
       "      <td>10000</td>\n",
       "      <td>0</td>\n",
       "      <td>15000</td>\n",
       "      <td>0</td>\n",
       "      <td>...</td>\n",
       "      <td>0</td>\n",
       "      <td>99999999</td>\n",
       "      <td>3500</td>\n",
       "      <td>3000</td>\n",
       "      <td>0</td>\n",
       "      <td>0</td>\n",
       "      <td>3000</td>\n",
       "      <td>3500</td>\n",
       "      <td>0</td>\n",
       "      <td>4000</td>\n",
       "    </tr>\n",
       "    <tr>\n",
       "      <th>Debt</th>\n",
       "      <td>0</td>\n",
       "      <td>0</td>\n",
       "      <td>0</td>\n",
       "      <td>0</td>\n",
       "      <td>0</td>\n",
       "      <td>0</td>\n",
       "      <td>0</td>\n",
       "      <td>0</td>\n",
       "      <td>0</td>\n",
       "      <td>0</td>\n",
       "      <td>...</td>\n",
       "      <td>0</td>\n",
       "      <td>0</td>\n",
       "      <td>0</td>\n",
       "      <td>0</td>\n",
       "      <td>0</td>\n",
       "      <td>0</td>\n",
       "      <td>600</td>\n",
       "      <td>0</td>\n",
       "      <td>0</td>\n",
       "      <td>1000</td>\n",
       "    </tr>\n",
       "    <tr>\n",
       "      <th>Amount</th>\n",
       "      <td>800</td>\n",
       "      <td>1000</td>\n",
       "      <td>2000</td>\n",
       "      <td>900</td>\n",
       "      <td>310</td>\n",
       "      <td>650</td>\n",
       "      <td>1600</td>\n",
       "      <td>200</td>\n",
       "      <td>1200</td>\n",
       "      <td>1200</td>\n",
       "      <td>...</td>\n",
       "      <td>1200</td>\n",
       "      <td>1450</td>\n",
       "      <td>1500</td>\n",
       "      <td>900</td>\n",
       "      <td>1200</td>\n",
       "      <td>900</td>\n",
       "      <td>950</td>\n",
       "      <td>500</td>\n",
       "      <td>550</td>\n",
       "      <td>1350</td>\n",
       "    </tr>\n",
       "    <tr>\n",
       "      <th>Price</th>\n",
       "      <td>846</td>\n",
       "      <td>1658</td>\n",
       "      <td>2985</td>\n",
       "      <td>1325</td>\n",
       "      <td>910</td>\n",
       "      <td>1645</td>\n",
       "      <td>1800</td>\n",
       "      <td>1093</td>\n",
       "      <td>1957</td>\n",
       "      <td>1468</td>\n",
       "      <td>...</td>\n",
       "      <td>1496</td>\n",
       "      <td>1510</td>\n",
       "      <td>1905</td>\n",
       "      <td>975</td>\n",
       "      <td>1300</td>\n",
       "      <td>1020</td>\n",
       "      <td>1263</td>\n",
       "      <td>963</td>\n",
       "      <td>550</td>\n",
       "      <td>1650</td>\n",
       "    </tr>\n",
       "  </tbody>\n",
       "</table>\n",
       "<p>14 rows × 4455 columns</p>\n",
       "</div>"
      ],
      "text/plain": [
       "           0     1     2     3     4     5      6     7      8     9     ...  \\\n",
       "Status        1     1     2     1     1     1      1     1      1     2  ...   \n",
       "Seniority     9    17    10     0     0     1     29     9      0     0  ...   \n",
       "Home          1     1     2     1     1     2      2     5      2     5  ...   \n",
       "Time         60    60    36    60    36    60     60    12     60    48  ...   \n",
       "Age          30    58    46    24    26    36     44    27     32    41  ...   \n",
       "Marital       2     3     2     1     1     2      2     1      2     2  ...   \n",
       "Records       1     1     2     1     1     1      1     1      1     1  ...   \n",
       "Job           3     1     3     1     1     1      1     1      3     2  ...   \n",
       "Expenses     73    48    90    63    46    75     75    35     90    90  ...   \n",
       "Income      129   131   200   182   107   214    125    80    107    80  ...   \n",
       "Assets        0     0  3000  2500     0  3500  10000     0  15000     0  ...   \n",
       "Debt          0     0     0     0     0     0      0     0      0     0  ...   \n",
       "Amount      800  1000  2000   900   310   650   1600   200   1200  1200  ...   \n",
       "Price       846  1658  2985  1325   910  1645   1800  1093   1957  1468  ...   \n",
       "\n",
       "           4445      4446  4447  4448  4449  4450  4451  4452  4453  4454  \n",
       "Status        2         1     1     1     2     2     1     2     1     1  \n",
       "Seniority     6        23     6     3     1     1    22     0     0     5  \n",
       "Home          5         2     2     2     6     1     2     2     1     2  \n",
       "Time         60        60    48    60    48    60    60    24    48    60  \n",
       "Age          22        50    52    49    30    39    46    37    23    32  \n",
       "Marital       1         2     2     2     2     2     2     2     1     2  \n",
       "Records       2         2     1     1     2     1     1     1     1     1  \n",
       "Job           1         3     1     1     2     1     1     2     3     3  \n",
       "Expenses     35        90    45    35    75    69    60    60    49    60  \n",
       "Income      100        69   190   160    77    92    75    90   140   140  \n",
       "Assets        0  99999999  3500  3000     0     0  3000  3500     0  4000  \n",
       "Debt          0         0     0     0     0     0   600     0     0  1000  \n",
       "Amount     1200      1450  1500   900  1200   900   950   500   550  1350  \n",
       "Price      1496      1510  1905   975  1300  1020  1263   963   550  1650  \n",
       "\n",
       "[14 rows x 4455 columns]"
      ]
     },
     "execution_count": 3,
     "metadata": {},
     "output_type": "execute_result"
    }
   ],
   "source": [
    "df = pd.read_csv(\"CreditScoring.csv\")\n",
    "\n",
    "print(\"Number of examples: {}\".format(len(df)))\n",
    "df.T"
   ]
  },
  {
   "cell_type": "code",
   "execution_count": 4,
   "id": "db74fc99",
   "metadata": {},
   "outputs": [
    {
     "name": "stdout",
     "output_type": "stream",
     "text": [
      "<class 'pandas.core.frame.DataFrame'>\n",
      "RangeIndex: 4455 entries, 0 to 4454\n",
      "Data columns (total 14 columns):\n",
      " #   Column     Non-Null Count  Dtype\n",
      "---  ------     --------------  -----\n",
      " 0   Status     4455 non-null   int64\n",
      " 1   Seniority  4455 non-null   int64\n",
      " 2   Home       4455 non-null   int64\n",
      " 3   Time       4455 non-null   int64\n",
      " 4   Age        4455 non-null   int64\n",
      " 5   Marital    4455 non-null   int64\n",
      " 6   Records    4455 non-null   int64\n",
      " 7   Job        4455 non-null   int64\n",
      " 8   Expenses   4455 non-null   int64\n",
      " 9   Income     4455 non-null   int64\n",
      " 10  Assets     4455 non-null   int64\n",
      " 11  Debt       4455 non-null   int64\n",
      " 12  Amount     4455 non-null   int64\n",
      " 13  Price      4455 non-null   int64\n",
      "dtypes: int64(14)\n",
      "memory usage: 487.4 KB\n"
     ]
    }
   ],
   "source": [
    "df.info()"
   ]
  },
  {
   "cell_type": "markdown",
   "id": "184e6c6d",
   "metadata": {},
   "source": [
    "First, we can see that the columns are in upper/lower case:"
   ]
  },
  {
   "cell_type": "code",
   "execution_count": 5,
   "id": "90ebccee",
   "metadata": {
    "scrolled": true
   },
   "outputs": [
    {
     "data": {
      "text/html": [
       "<div>\n",
       "<style scoped>\n",
       "    .dataframe tbody tr th:only-of-type {\n",
       "        vertical-align: middle;\n",
       "    }\n",
       "\n",
       "    .dataframe tbody tr th {\n",
       "        vertical-align: top;\n",
       "    }\n",
       "\n",
       "    .dataframe thead th {\n",
       "        text-align: right;\n",
       "    }\n",
       "</style>\n",
       "<table border=\"1\" class=\"dataframe\">\n",
       "  <thead>\n",
       "    <tr style=\"text-align: right;\">\n",
       "      <th></th>\n",
       "      <th>0</th>\n",
       "      <th>1</th>\n",
       "      <th>2</th>\n",
       "      <th>3</th>\n",
       "      <th>4</th>\n",
       "      <th>5</th>\n",
       "      <th>6</th>\n",
       "      <th>7</th>\n",
       "      <th>8</th>\n",
       "      <th>9</th>\n",
       "      <th>...</th>\n",
       "      <th>4445</th>\n",
       "      <th>4446</th>\n",
       "      <th>4447</th>\n",
       "      <th>4448</th>\n",
       "      <th>4449</th>\n",
       "      <th>4450</th>\n",
       "      <th>4451</th>\n",
       "      <th>4452</th>\n",
       "      <th>4453</th>\n",
       "      <th>4454</th>\n",
       "    </tr>\n",
       "  </thead>\n",
       "  <tbody>\n",
       "    <tr>\n",
       "      <th>status</th>\n",
       "      <td>1</td>\n",
       "      <td>1</td>\n",
       "      <td>2</td>\n",
       "      <td>1</td>\n",
       "      <td>1</td>\n",
       "      <td>1</td>\n",
       "      <td>1</td>\n",
       "      <td>1</td>\n",
       "      <td>1</td>\n",
       "      <td>2</td>\n",
       "      <td>...</td>\n",
       "      <td>2</td>\n",
       "      <td>1</td>\n",
       "      <td>1</td>\n",
       "      <td>1</td>\n",
       "      <td>2</td>\n",
       "      <td>2</td>\n",
       "      <td>1</td>\n",
       "      <td>2</td>\n",
       "      <td>1</td>\n",
       "      <td>1</td>\n",
       "    </tr>\n",
       "    <tr>\n",
       "      <th>seniority</th>\n",
       "      <td>9</td>\n",
       "      <td>17</td>\n",
       "      <td>10</td>\n",
       "      <td>0</td>\n",
       "      <td>0</td>\n",
       "      <td>1</td>\n",
       "      <td>29</td>\n",
       "      <td>9</td>\n",
       "      <td>0</td>\n",
       "      <td>0</td>\n",
       "      <td>...</td>\n",
       "      <td>6</td>\n",
       "      <td>23</td>\n",
       "      <td>6</td>\n",
       "      <td>3</td>\n",
       "      <td>1</td>\n",
       "      <td>1</td>\n",
       "      <td>22</td>\n",
       "      <td>0</td>\n",
       "      <td>0</td>\n",
       "      <td>5</td>\n",
       "    </tr>\n",
       "    <tr>\n",
       "      <th>home</th>\n",
       "      <td>1</td>\n",
       "      <td>1</td>\n",
       "      <td>2</td>\n",
       "      <td>1</td>\n",
       "      <td>1</td>\n",
       "      <td>2</td>\n",
       "      <td>2</td>\n",
       "      <td>5</td>\n",
       "      <td>2</td>\n",
       "      <td>5</td>\n",
       "      <td>...</td>\n",
       "      <td>5</td>\n",
       "      <td>2</td>\n",
       "      <td>2</td>\n",
       "      <td>2</td>\n",
       "      <td>6</td>\n",
       "      <td>1</td>\n",
       "      <td>2</td>\n",
       "      <td>2</td>\n",
       "      <td>1</td>\n",
       "      <td>2</td>\n",
       "    </tr>\n",
       "    <tr>\n",
       "      <th>time</th>\n",
       "      <td>60</td>\n",
       "      <td>60</td>\n",
       "      <td>36</td>\n",
       "      <td>60</td>\n",
       "      <td>36</td>\n",
       "      <td>60</td>\n",
       "      <td>60</td>\n",
       "      <td>12</td>\n",
       "      <td>60</td>\n",
       "      <td>48</td>\n",
       "      <td>...</td>\n",
       "      <td>60</td>\n",
       "      <td>60</td>\n",
       "      <td>48</td>\n",
       "      <td>60</td>\n",
       "      <td>48</td>\n",
       "      <td>60</td>\n",
       "      <td>60</td>\n",
       "      <td>24</td>\n",
       "      <td>48</td>\n",
       "      <td>60</td>\n",
       "    </tr>\n",
       "    <tr>\n",
       "      <th>age</th>\n",
       "      <td>30</td>\n",
       "      <td>58</td>\n",
       "      <td>46</td>\n",
       "      <td>24</td>\n",
       "      <td>26</td>\n",
       "      <td>36</td>\n",
       "      <td>44</td>\n",
       "      <td>27</td>\n",
       "      <td>32</td>\n",
       "      <td>41</td>\n",
       "      <td>...</td>\n",
       "      <td>22</td>\n",
       "      <td>50</td>\n",
       "      <td>52</td>\n",
       "      <td>49</td>\n",
       "      <td>30</td>\n",
       "      <td>39</td>\n",
       "      <td>46</td>\n",
       "      <td>37</td>\n",
       "      <td>23</td>\n",
       "      <td>32</td>\n",
       "    </tr>\n",
       "    <tr>\n",
       "      <th>marital</th>\n",
       "      <td>2</td>\n",
       "      <td>3</td>\n",
       "      <td>2</td>\n",
       "      <td>1</td>\n",
       "      <td>1</td>\n",
       "      <td>2</td>\n",
       "      <td>2</td>\n",
       "      <td>1</td>\n",
       "      <td>2</td>\n",
       "      <td>2</td>\n",
       "      <td>...</td>\n",
       "      <td>1</td>\n",
       "      <td>2</td>\n",
       "      <td>2</td>\n",
       "      <td>2</td>\n",
       "      <td>2</td>\n",
       "      <td>2</td>\n",
       "      <td>2</td>\n",
       "      <td>2</td>\n",
       "      <td>1</td>\n",
       "      <td>2</td>\n",
       "    </tr>\n",
       "    <tr>\n",
       "      <th>records</th>\n",
       "      <td>1</td>\n",
       "      <td>1</td>\n",
       "      <td>2</td>\n",
       "      <td>1</td>\n",
       "      <td>1</td>\n",
       "      <td>1</td>\n",
       "      <td>1</td>\n",
       "      <td>1</td>\n",
       "      <td>1</td>\n",
       "      <td>1</td>\n",
       "      <td>...</td>\n",
       "      <td>2</td>\n",
       "      <td>2</td>\n",
       "      <td>1</td>\n",
       "      <td>1</td>\n",
       "      <td>2</td>\n",
       "      <td>1</td>\n",
       "      <td>1</td>\n",
       "      <td>1</td>\n",
       "      <td>1</td>\n",
       "      <td>1</td>\n",
       "    </tr>\n",
       "    <tr>\n",
       "      <th>job</th>\n",
       "      <td>3</td>\n",
       "      <td>1</td>\n",
       "      <td>3</td>\n",
       "      <td>1</td>\n",
       "      <td>1</td>\n",
       "      <td>1</td>\n",
       "      <td>1</td>\n",
       "      <td>1</td>\n",
       "      <td>3</td>\n",
       "      <td>2</td>\n",
       "      <td>...</td>\n",
       "      <td>1</td>\n",
       "      <td>3</td>\n",
       "      <td>1</td>\n",
       "      <td>1</td>\n",
       "      <td>2</td>\n",
       "      <td>1</td>\n",
       "      <td>1</td>\n",
       "      <td>2</td>\n",
       "      <td>3</td>\n",
       "      <td>3</td>\n",
       "    </tr>\n",
       "    <tr>\n",
       "      <th>expenses</th>\n",
       "      <td>73</td>\n",
       "      <td>48</td>\n",
       "      <td>90</td>\n",
       "      <td>63</td>\n",
       "      <td>46</td>\n",
       "      <td>75</td>\n",
       "      <td>75</td>\n",
       "      <td>35</td>\n",
       "      <td>90</td>\n",
       "      <td>90</td>\n",
       "      <td>...</td>\n",
       "      <td>35</td>\n",
       "      <td>90</td>\n",
       "      <td>45</td>\n",
       "      <td>35</td>\n",
       "      <td>75</td>\n",
       "      <td>69</td>\n",
       "      <td>60</td>\n",
       "      <td>60</td>\n",
       "      <td>49</td>\n",
       "      <td>60</td>\n",
       "    </tr>\n",
       "    <tr>\n",
       "      <th>income</th>\n",
       "      <td>129</td>\n",
       "      <td>131</td>\n",
       "      <td>200</td>\n",
       "      <td>182</td>\n",
       "      <td>107</td>\n",
       "      <td>214</td>\n",
       "      <td>125</td>\n",
       "      <td>80</td>\n",
       "      <td>107</td>\n",
       "      <td>80</td>\n",
       "      <td>...</td>\n",
       "      <td>100</td>\n",
       "      <td>69</td>\n",
       "      <td>190</td>\n",
       "      <td>160</td>\n",
       "      <td>77</td>\n",
       "      <td>92</td>\n",
       "      <td>75</td>\n",
       "      <td>90</td>\n",
       "      <td>140</td>\n",
       "      <td>140</td>\n",
       "    </tr>\n",
       "    <tr>\n",
       "      <th>assets</th>\n",
       "      <td>0</td>\n",
       "      <td>0</td>\n",
       "      <td>3000</td>\n",
       "      <td>2500</td>\n",
       "      <td>0</td>\n",
       "      <td>3500</td>\n",
       "      <td>10000</td>\n",
       "      <td>0</td>\n",
       "      <td>15000</td>\n",
       "      <td>0</td>\n",
       "      <td>...</td>\n",
       "      <td>0</td>\n",
       "      <td>99999999</td>\n",
       "      <td>3500</td>\n",
       "      <td>3000</td>\n",
       "      <td>0</td>\n",
       "      <td>0</td>\n",
       "      <td>3000</td>\n",
       "      <td>3500</td>\n",
       "      <td>0</td>\n",
       "      <td>4000</td>\n",
       "    </tr>\n",
       "    <tr>\n",
       "      <th>debt</th>\n",
       "      <td>0</td>\n",
       "      <td>0</td>\n",
       "      <td>0</td>\n",
       "      <td>0</td>\n",
       "      <td>0</td>\n",
       "      <td>0</td>\n",
       "      <td>0</td>\n",
       "      <td>0</td>\n",
       "      <td>0</td>\n",
       "      <td>0</td>\n",
       "      <td>...</td>\n",
       "      <td>0</td>\n",
       "      <td>0</td>\n",
       "      <td>0</td>\n",
       "      <td>0</td>\n",
       "      <td>0</td>\n",
       "      <td>0</td>\n",
       "      <td>600</td>\n",
       "      <td>0</td>\n",
       "      <td>0</td>\n",
       "      <td>1000</td>\n",
       "    </tr>\n",
       "    <tr>\n",
       "      <th>amount</th>\n",
       "      <td>800</td>\n",
       "      <td>1000</td>\n",
       "      <td>2000</td>\n",
       "      <td>900</td>\n",
       "      <td>310</td>\n",
       "      <td>650</td>\n",
       "      <td>1600</td>\n",
       "      <td>200</td>\n",
       "      <td>1200</td>\n",
       "      <td>1200</td>\n",
       "      <td>...</td>\n",
       "      <td>1200</td>\n",
       "      <td>1450</td>\n",
       "      <td>1500</td>\n",
       "      <td>900</td>\n",
       "      <td>1200</td>\n",
       "      <td>900</td>\n",
       "      <td>950</td>\n",
       "      <td>500</td>\n",
       "      <td>550</td>\n",
       "      <td>1350</td>\n",
       "    </tr>\n",
       "    <tr>\n",
       "      <th>price</th>\n",
       "      <td>846</td>\n",
       "      <td>1658</td>\n",
       "      <td>2985</td>\n",
       "      <td>1325</td>\n",
       "      <td>910</td>\n",
       "      <td>1645</td>\n",
       "      <td>1800</td>\n",
       "      <td>1093</td>\n",
       "      <td>1957</td>\n",
       "      <td>1468</td>\n",
       "      <td>...</td>\n",
       "      <td>1496</td>\n",
       "      <td>1510</td>\n",
       "      <td>1905</td>\n",
       "      <td>975</td>\n",
       "      <td>1300</td>\n",
       "      <td>1020</td>\n",
       "      <td>1263</td>\n",
       "      <td>963</td>\n",
       "      <td>550</td>\n",
       "      <td>1650</td>\n",
       "    </tr>\n",
       "  </tbody>\n",
       "</table>\n",
       "<p>14 rows × 4455 columns</p>\n",
       "</div>"
      ],
      "text/plain": [
       "           0     1     2     3     4     5      6     7      8     9     ...  \\\n",
       "status        1     1     2     1     1     1      1     1      1     2  ...   \n",
       "seniority     9    17    10     0     0     1     29     9      0     0  ...   \n",
       "home          1     1     2     1     1     2      2     5      2     5  ...   \n",
       "time         60    60    36    60    36    60     60    12     60    48  ...   \n",
       "age          30    58    46    24    26    36     44    27     32    41  ...   \n",
       "marital       2     3     2     1     1     2      2     1      2     2  ...   \n",
       "records       1     1     2     1     1     1      1     1      1     1  ...   \n",
       "job           3     1     3     1     1     1      1     1      3     2  ...   \n",
       "expenses     73    48    90    63    46    75     75    35     90    90  ...   \n",
       "income      129   131   200   182   107   214    125    80    107    80  ...   \n",
       "assets        0     0  3000  2500     0  3500  10000     0  15000     0  ...   \n",
       "debt          0     0     0     0     0     0      0     0      0     0  ...   \n",
       "amount      800  1000  2000   900   310   650   1600   200   1200  1200  ...   \n",
       "price       846  1658  2985  1325   910  1645   1800  1093   1957  1468  ...   \n",
       "\n",
       "           4445      4446  4447  4448  4449  4450  4451  4452  4453  4454  \n",
       "status        2         1     1     1     2     2     1     2     1     1  \n",
       "seniority     6        23     6     3     1     1    22     0     0     5  \n",
       "home          5         2     2     2     6     1     2     2     1     2  \n",
       "time         60        60    48    60    48    60    60    24    48    60  \n",
       "age          22        50    52    49    30    39    46    37    23    32  \n",
       "marital       1         2     2     2     2     2     2     2     1     2  \n",
       "records       2         2     1     1     2     1     1     1     1     1  \n",
       "job           1         3     1     1     2     1     1     2     3     3  \n",
       "expenses     35        90    45    35    75    69    60    60    49    60  \n",
       "income      100        69   190   160    77    92    75    90   140   140  \n",
       "assets        0  99999999  3500  3000     0     0  3000  3500     0  4000  \n",
       "debt          0         0     0     0     0     0   600     0     0  1000  \n",
       "amount     1200      1450  1500   900  1200   900   950   500   550  1350  \n",
       "price      1496      1510  1905   975  1300  1020  1263   963   550  1650  \n",
       "\n",
       "[14 rows x 4455 columns]"
      ]
     },
     "execution_count": 5,
     "metadata": {},
     "output_type": "execute_result"
    }
   ],
   "source": [
    "df.columns = df.columns.str.lower()\n",
    "df.T"
   ]
  },
  {
   "cell_type": "markdown",
   "id": "8495ec4c",
   "metadata": {},
   "source": [
    "Although most of the columns are numerical, some are categorical: status, home, marital [status], records, and job. The values we see in the DataFrame, however, are numbers, not strings. This means that we need to translate them to their actual names."
   ]
  },
  {
   "cell_type": "code",
   "execution_count": 6,
   "id": "9cd91bc2",
   "metadata": {},
   "outputs": [],
   "source": [
    "status_values = {\n",
    "    1: \"ok\",\n",
    "    2: \"default\",\n",
    "    0: \"unk\"\n",
    "}\n",
    "\n",
    "home_values = {\n",
    "    1: \"rent\",\n",
    "    2: \"owner\",\n",
    "    3: \"private\",\n",
    "    4: \"ignore\",\n",
    "    5: \"parents\",\n",
    "    6: \"other\",\n",
    "    0: \"unk\"\n",
    "}\n",
    "\n",
    "marital_values = {\n",
    "    1: \"single\",\n",
    "    2: \"married\",\n",
    "    3: \"widow\",\n",
    "    4: \"separated\",\n",
    "    5: \"divorced\",\n",
    "    0: \"unk\"\n",
    "}\n",
    "\n",
    "records_values = {\n",
    "    1: \"no\",\n",
    "    2: \"yes\",\n",
    "    0: \"unk\"\n",
    "}\n",
    "\n",
    "job_values = {\n",
    "    1: \"fixed\",\n",
    "    2: \"partime\",\n",
    "    3: \"freelance\",\n",
    "    4: \"others\",\n",
    "    0: \"unk2\"\n",
    "}\n",
    "\n",
    "\n",
    "df.status = df.status.map(status_values)\n",
    "df.home = df.home.map(home_values)\n",
    "df.marital = df.marital.map(marital_values)\n",
    "df.records = df.records.map(records_values)\n",
    "df.job = df.job.map(job_values)"
   ]
  },
  {
   "cell_type": "code",
   "execution_count": 7,
   "id": "44b60d79",
   "metadata": {},
   "outputs": [
    {
     "data": {
      "text/html": [
       "<div>\n",
       "<style scoped>\n",
       "    .dataframe tbody tr th:only-of-type {\n",
       "        vertical-align: middle;\n",
       "    }\n",
       "\n",
       "    .dataframe tbody tr th {\n",
       "        vertical-align: top;\n",
       "    }\n",
       "\n",
       "    .dataframe thead th {\n",
       "        text-align: right;\n",
       "    }\n",
       "</style>\n",
       "<table border=\"1\" class=\"dataframe\">\n",
       "  <thead>\n",
       "    <tr style=\"text-align: right;\">\n",
       "      <th></th>\n",
       "      <th>status</th>\n",
       "      <th>seniority</th>\n",
       "      <th>home</th>\n",
       "      <th>time</th>\n",
       "      <th>age</th>\n",
       "      <th>marital</th>\n",
       "      <th>records</th>\n",
       "      <th>job</th>\n",
       "      <th>expenses</th>\n",
       "      <th>income</th>\n",
       "      <th>assets</th>\n",
       "      <th>debt</th>\n",
       "      <th>amount</th>\n",
       "      <th>price</th>\n",
       "    </tr>\n",
       "  </thead>\n",
       "  <tbody>\n",
       "    <tr>\n",
       "      <th>0</th>\n",
       "      <td>ok</td>\n",
       "      <td>9</td>\n",
       "      <td>rent</td>\n",
       "      <td>60</td>\n",
       "      <td>30</td>\n",
       "      <td>married</td>\n",
       "      <td>no</td>\n",
       "      <td>freelance</td>\n",
       "      <td>73</td>\n",
       "      <td>129</td>\n",
       "      <td>0</td>\n",
       "      <td>0</td>\n",
       "      <td>800</td>\n",
       "      <td>846</td>\n",
       "    </tr>\n",
       "    <tr>\n",
       "      <th>1</th>\n",
       "      <td>ok</td>\n",
       "      <td>17</td>\n",
       "      <td>rent</td>\n",
       "      <td>60</td>\n",
       "      <td>58</td>\n",
       "      <td>widow</td>\n",
       "      <td>no</td>\n",
       "      <td>fixed</td>\n",
       "      <td>48</td>\n",
       "      <td>131</td>\n",
       "      <td>0</td>\n",
       "      <td>0</td>\n",
       "      <td>1000</td>\n",
       "      <td>1658</td>\n",
       "    </tr>\n",
       "    <tr>\n",
       "      <th>2</th>\n",
       "      <td>default</td>\n",
       "      <td>10</td>\n",
       "      <td>owner</td>\n",
       "      <td>36</td>\n",
       "      <td>46</td>\n",
       "      <td>married</td>\n",
       "      <td>yes</td>\n",
       "      <td>freelance</td>\n",
       "      <td>90</td>\n",
       "      <td>200</td>\n",
       "      <td>3000</td>\n",
       "      <td>0</td>\n",
       "      <td>2000</td>\n",
       "      <td>2985</td>\n",
       "    </tr>\n",
       "    <tr>\n",
       "      <th>3</th>\n",
       "      <td>ok</td>\n",
       "      <td>0</td>\n",
       "      <td>rent</td>\n",
       "      <td>60</td>\n",
       "      <td>24</td>\n",
       "      <td>single</td>\n",
       "      <td>no</td>\n",
       "      <td>fixed</td>\n",
       "      <td>63</td>\n",
       "      <td>182</td>\n",
       "      <td>2500</td>\n",
       "      <td>0</td>\n",
       "      <td>900</td>\n",
       "      <td>1325</td>\n",
       "    </tr>\n",
       "    <tr>\n",
       "      <th>4</th>\n",
       "      <td>ok</td>\n",
       "      <td>0</td>\n",
       "      <td>rent</td>\n",
       "      <td>36</td>\n",
       "      <td>26</td>\n",
       "      <td>single</td>\n",
       "      <td>no</td>\n",
       "      <td>fixed</td>\n",
       "      <td>46</td>\n",
       "      <td>107</td>\n",
       "      <td>0</td>\n",
       "      <td>0</td>\n",
       "      <td>310</td>\n",
       "      <td>910</td>\n",
       "    </tr>\n",
       "  </tbody>\n",
       "</table>\n",
       "</div>"
      ],
      "text/plain": [
       "    status  seniority   home  time  age  marital records        job  expenses  \\\n",
       "0       ok          9   rent    60   30  married      no  freelance        73   \n",
       "1       ok         17   rent    60   58    widow      no      fixed        48   \n",
       "2  default         10  owner    36   46  married     yes  freelance        90   \n",
       "3       ok          0   rent    60   24   single      no      fixed        63   \n",
       "4       ok          0   rent    36   26   single      no      fixed        46   \n",
       "\n",
       "   income  assets  debt  amount  price  \n",
       "0     129       0     0     800    846  \n",
       "1     131       0     0    1000   1658  \n",
       "2     200    3000     0    2000   2985  \n",
       "3     182    2500     0     900   1325  \n",
       "4     107       0     0     310    910  "
      ]
     },
     "execution_count": 7,
     "metadata": {},
     "output_type": "execute_result"
    }
   ],
   "source": [
    "df.head()"
   ]
  },
  {
   "cell_type": "markdown",
   "id": "cce67425",
   "metadata": {},
   "source": [
    "One thing we notice immediately is that the max value is 99999999 in some cases. As it turns out, it’s an artificial value. This is how missing values\n",
    "are encoded in this dataset."
   ]
  },
  {
   "cell_type": "code",
   "execution_count": 8,
   "id": "2ee2376a",
   "metadata": {},
   "outputs": [
    {
     "data": {
      "text/html": [
       "<div>\n",
       "<style scoped>\n",
       "    .dataframe tbody tr th:only-of-type {\n",
       "        vertical-align: middle;\n",
       "    }\n",
       "\n",
       "    .dataframe tbody tr th {\n",
       "        vertical-align: top;\n",
       "    }\n",
       "\n",
       "    .dataframe thead th {\n",
       "        text-align: right;\n",
       "    }\n",
       "</style>\n",
       "<table border=\"1\" class=\"dataframe\">\n",
       "  <thead>\n",
       "    <tr style=\"text-align: right;\">\n",
       "      <th></th>\n",
       "      <th>seniority</th>\n",
       "      <th>time</th>\n",
       "      <th>age</th>\n",
       "      <th>expenses</th>\n",
       "      <th>income</th>\n",
       "      <th>assets</th>\n",
       "      <th>debt</th>\n",
       "      <th>amount</th>\n",
       "      <th>price</th>\n",
       "    </tr>\n",
       "  </thead>\n",
       "  <tbody>\n",
       "    <tr>\n",
       "      <th>count</th>\n",
       "      <td>4455.0</td>\n",
       "      <td>4455.0</td>\n",
       "      <td>4455.0</td>\n",
       "      <td>4455.0</td>\n",
       "      <td>4455.0</td>\n",
       "      <td>4455.0</td>\n",
       "      <td>4455.0</td>\n",
       "      <td>4455.0</td>\n",
       "      <td>4455.0</td>\n",
       "    </tr>\n",
       "    <tr>\n",
       "      <th>mean</th>\n",
       "      <td>8.0</td>\n",
       "      <td>46.0</td>\n",
       "      <td>37.0</td>\n",
       "      <td>56.0</td>\n",
       "      <td>763317.0</td>\n",
       "      <td>1060341.0</td>\n",
       "      <td>404382.0</td>\n",
       "      <td>1039.0</td>\n",
       "      <td>1463.0</td>\n",
       "    </tr>\n",
       "    <tr>\n",
       "      <th>std</th>\n",
       "      <td>8.0</td>\n",
       "      <td>15.0</td>\n",
       "      <td>11.0</td>\n",
       "      <td>20.0</td>\n",
       "      <td>8703625.0</td>\n",
       "      <td>10217569.0</td>\n",
       "      <td>6344253.0</td>\n",
       "      <td>475.0</td>\n",
       "      <td>628.0</td>\n",
       "    </tr>\n",
       "    <tr>\n",
       "      <th>min</th>\n",
       "      <td>0.0</td>\n",
       "      <td>6.0</td>\n",
       "      <td>18.0</td>\n",
       "      <td>35.0</td>\n",
       "      <td>0.0</td>\n",
       "      <td>0.0</td>\n",
       "      <td>0.0</td>\n",
       "      <td>100.0</td>\n",
       "      <td>105.0</td>\n",
       "    </tr>\n",
       "    <tr>\n",
       "      <th>25%</th>\n",
       "      <td>2.0</td>\n",
       "      <td>36.0</td>\n",
       "      <td>28.0</td>\n",
       "      <td>35.0</td>\n",
       "      <td>80.0</td>\n",
       "      <td>0.0</td>\n",
       "      <td>0.0</td>\n",
       "      <td>700.0</td>\n",
       "      <td>1118.0</td>\n",
       "    </tr>\n",
       "    <tr>\n",
       "      <th>50%</th>\n",
       "      <td>5.0</td>\n",
       "      <td>48.0</td>\n",
       "      <td>36.0</td>\n",
       "      <td>51.0</td>\n",
       "      <td>120.0</td>\n",
       "      <td>3500.0</td>\n",
       "      <td>0.0</td>\n",
       "      <td>1000.0</td>\n",
       "      <td>1400.0</td>\n",
       "    </tr>\n",
       "    <tr>\n",
       "      <th>75%</th>\n",
       "      <td>12.0</td>\n",
       "      <td>60.0</td>\n",
       "      <td>45.0</td>\n",
       "      <td>72.0</td>\n",
       "      <td>166.0</td>\n",
       "      <td>6000.0</td>\n",
       "      <td>0.0</td>\n",
       "      <td>1300.0</td>\n",
       "      <td>1692.0</td>\n",
       "    </tr>\n",
       "    <tr>\n",
       "      <th>max</th>\n",
       "      <td>48.0</td>\n",
       "      <td>72.0</td>\n",
       "      <td>68.0</td>\n",
       "      <td>180.0</td>\n",
       "      <td>99999999.0</td>\n",
       "      <td>99999999.0</td>\n",
       "      <td>99999999.0</td>\n",
       "      <td>5000.0</td>\n",
       "      <td>11140.0</td>\n",
       "    </tr>\n",
       "  </tbody>\n",
       "</table>\n",
       "</div>"
      ],
      "text/plain": [
       "       seniority    time     age  expenses      income      assets  \\\n",
       "count     4455.0  4455.0  4455.0    4455.0      4455.0      4455.0   \n",
       "mean         8.0    46.0    37.0      56.0    763317.0   1060341.0   \n",
       "std          8.0    15.0    11.0      20.0   8703625.0  10217569.0   \n",
       "min          0.0     6.0    18.0      35.0         0.0         0.0   \n",
       "25%          2.0    36.0    28.0      35.0        80.0         0.0   \n",
       "50%          5.0    48.0    36.0      51.0       120.0      3500.0   \n",
       "75%         12.0    60.0    45.0      72.0       166.0      6000.0   \n",
       "max         48.0    72.0    68.0     180.0  99999999.0  99999999.0   \n",
       "\n",
       "             debt  amount    price  \n",
       "count      4455.0  4455.0   4455.0  \n",
       "mean     404382.0  1039.0   1463.0  \n",
       "std     6344253.0   475.0    628.0  \n",
       "min           0.0   100.0    105.0  \n",
       "25%           0.0   700.0   1118.0  \n",
       "50%           0.0  1000.0   1400.0  \n",
       "75%           0.0  1300.0   1692.0  \n",
       "max    99999999.0  5000.0  11140.0  "
      ]
     },
     "execution_count": 8,
     "metadata": {},
     "output_type": "execute_result"
    }
   ],
   "source": [
    "df.describe().round()"
   ]
  },
  {
   "cell_type": "code",
   "execution_count": 9,
   "id": "b64fa721",
   "metadata": {},
   "outputs": [],
   "source": [
    "for column in [\"income\", \"assets\", \"debt\"]:\n",
    "    df[column] = df[column].replace(to_replace = 99999999.0, value = np.nan)"
   ]
  },
  {
   "cell_type": "code",
   "execution_count": 10,
   "id": "3fd17394",
   "metadata": {},
   "outputs": [
    {
     "data": {
      "text/html": [
       "<div>\n",
       "<style scoped>\n",
       "    .dataframe tbody tr th:only-of-type {\n",
       "        vertical-align: middle;\n",
       "    }\n",
       "\n",
       "    .dataframe tbody tr th {\n",
       "        vertical-align: top;\n",
       "    }\n",
       "\n",
       "    .dataframe thead th {\n",
       "        text-align: right;\n",
       "    }\n",
       "</style>\n",
       "<table border=\"1\" class=\"dataframe\">\n",
       "  <thead>\n",
       "    <tr style=\"text-align: right;\">\n",
       "      <th></th>\n",
       "      <th>seniority</th>\n",
       "      <th>time</th>\n",
       "      <th>age</th>\n",
       "      <th>expenses</th>\n",
       "      <th>income</th>\n",
       "      <th>assets</th>\n",
       "      <th>debt</th>\n",
       "      <th>amount</th>\n",
       "      <th>price</th>\n",
       "    </tr>\n",
       "  </thead>\n",
       "  <tbody>\n",
       "    <tr>\n",
       "      <th>count</th>\n",
       "      <td>4455.0</td>\n",
       "      <td>4455.0</td>\n",
       "      <td>4455.0</td>\n",
       "      <td>4455.0</td>\n",
       "      <td>4421.0</td>\n",
       "      <td>4408.0</td>\n",
       "      <td>4437.0</td>\n",
       "      <td>4455.0</td>\n",
       "      <td>4455.0</td>\n",
       "    </tr>\n",
       "    <tr>\n",
       "      <th>mean</th>\n",
       "      <td>8.0</td>\n",
       "      <td>46.0</td>\n",
       "      <td>37.0</td>\n",
       "      <td>56.0</td>\n",
       "      <td>131.0</td>\n",
       "      <td>5403.0</td>\n",
       "      <td>343.0</td>\n",
       "      <td>1039.0</td>\n",
       "      <td>1463.0</td>\n",
       "    </tr>\n",
       "    <tr>\n",
       "      <th>std</th>\n",
       "      <td>8.0</td>\n",
       "      <td>15.0</td>\n",
       "      <td>11.0</td>\n",
       "      <td>20.0</td>\n",
       "      <td>86.0</td>\n",
       "      <td>11573.0</td>\n",
       "      <td>1246.0</td>\n",
       "      <td>475.0</td>\n",
       "      <td>628.0</td>\n",
       "    </tr>\n",
       "    <tr>\n",
       "      <th>min</th>\n",
       "      <td>0.0</td>\n",
       "      <td>6.0</td>\n",
       "      <td>18.0</td>\n",
       "      <td>35.0</td>\n",
       "      <td>0.0</td>\n",
       "      <td>0.0</td>\n",
       "      <td>0.0</td>\n",
       "      <td>100.0</td>\n",
       "      <td>105.0</td>\n",
       "    </tr>\n",
       "    <tr>\n",
       "      <th>25%</th>\n",
       "      <td>2.0</td>\n",
       "      <td>36.0</td>\n",
       "      <td>28.0</td>\n",
       "      <td>35.0</td>\n",
       "      <td>80.0</td>\n",
       "      <td>0.0</td>\n",
       "      <td>0.0</td>\n",
       "      <td>700.0</td>\n",
       "      <td>1118.0</td>\n",
       "    </tr>\n",
       "    <tr>\n",
       "      <th>50%</th>\n",
       "      <td>5.0</td>\n",
       "      <td>48.0</td>\n",
       "      <td>36.0</td>\n",
       "      <td>51.0</td>\n",
       "      <td>120.0</td>\n",
       "      <td>3000.0</td>\n",
       "      <td>0.0</td>\n",
       "      <td>1000.0</td>\n",
       "      <td>1400.0</td>\n",
       "    </tr>\n",
       "    <tr>\n",
       "      <th>75%</th>\n",
       "      <td>12.0</td>\n",
       "      <td>60.0</td>\n",
       "      <td>45.0</td>\n",
       "      <td>72.0</td>\n",
       "      <td>165.0</td>\n",
       "      <td>6000.0</td>\n",
       "      <td>0.0</td>\n",
       "      <td>1300.0</td>\n",
       "      <td>1692.0</td>\n",
       "    </tr>\n",
       "    <tr>\n",
       "      <th>max</th>\n",
       "      <td>48.0</td>\n",
       "      <td>72.0</td>\n",
       "      <td>68.0</td>\n",
       "      <td>180.0</td>\n",
       "      <td>959.0</td>\n",
       "      <td>300000.0</td>\n",
       "      <td>30000.0</td>\n",
       "      <td>5000.0</td>\n",
       "      <td>11140.0</td>\n",
       "    </tr>\n",
       "  </tbody>\n",
       "</table>\n",
       "</div>"
      ],
      "text/plain": [
       "       seniority    time     age  expenses  income    assets     debt  amount  \\\n",
       "count     4455.0  4455.0  4455.0    4455.0  4421.0    4408.0   4437.0  4455.0   \n",
       "mean         8.0    46.0    37.0      56.0   131.0    5403.0    343.0  1039.0   \n",
       "std          8.0    15.0    11.0      20.0    86.0   11573.0   1246.0   475.0   \n",
       "min          0.0     6.0    18.0      35.0     0.0       0.0      0.0   100.0   \n",
       "25%          2.0    36.0    28.0      35.0    80.0       0.0      0.0   700.0   \n",
       "50%          5.0    48.0    36.0      51.0   120.0    3000.0      0.0  1000.0   \n",
       "75%         12.0    60.0    45.0      72.0   165.0    6000.0      0.0  1300.0   \n",
       "max         48.0    72.0    68.0     180.0   959.0  300000.0  30000.0  5000.0   \n",
       "\n",
       "         price  \n",
       "count   4455.0  \n",
       "mean    1463.0  \n",
       "std      628.0  \n",
       "min      105.0  \n",
       "25%     1118.0  \n",
       "50%     1400.0  \n",
       "75%     1692.0  \n",
       "max    11140.0  "
      ]
     },
     "execution_count": 10,
     "metadata": {},
     "output_type": "execute_result"
    }
   ],
   "source": [
    "df.describe().round()"
   ]
  },
  {
   "cell_type": "markdown",
   "id": "76d5ecd7",
   "metadata": {},
   "source": [
    "Lent's look to the distribution of the target variable \"status\". As we can see there is unexpected value called \"unk\" so we have to remove it."
   ]
  },
  {
   "cell_type": "code",
   "execution_count": 11,
   "id": "8fd0b9ff",
   "metadata": {},
   "outputs": [
    {
     "data": {
      "text/plain": [
       "ok         3200\n",
       "default    1254\n",
       "unk           1\n",
       "Name: status, dtype: int64"
      ]
     },
     "execution_count": 11,
     "metadata": {},
     "output_type": "execute_result"
    }
   ],
   "source": [
    "df.status.value_counts()"
   ]
  },
  {
   "cell_type": "code",
   "execution_count": 12,
   "id": "18237221",
   "metadata": {},
   "outputs": [],
   "source": [
    "df = df[df.status != \"unk\"]"
   ]
  },
  {
   "cell_type": "markdown",
   "id": "4f9699eb",
   "metadata": {},
   "source": [
    "Now, let´s check for missing values. As we can see it corresponds with the columns we replaced \"99999999.0\" value."
   ]
  },
  {
   "cell_type": "code",
   "execution_count": 13,
   "id": "ce6c61a3",
   "metadata": {},
   "outputs": [
    {
     "data": {
      "text/plain": [
       "status        0\n",
       "seniority     0\n",
       "home          0\n",
       "time          0\n",
       "age           0\n",
       "marital       0\n",
       "records       0\n",
       "job           0\n",
       "expenses      0\n",
       "income       34\n",
       "assets       47\n",
       "debt         18\n",
       "amount        0\n",
       "price         0\n",
       "dtype: int64"
      ]
     },
     "execution_count": 13,
     "metadata": {},
     "output_type": "execute_result"
    }
   ],
   "source": [
    "df.isnull().sum()"
   ]
  },
  {
   "cell_type": "code",
   "execution_count": 14,
   "id": "c4846bb7",
   "metadata": {},
   "outputs": [],
   "source": [
    "df.assets = df.assets.fillna(0)\n",
    "df.income = df.income.fillna(0)\n",
    "df.debt = df.debt.fillna(0)"
   ]
  },
  {
   "cell_type": "code",
   "execution_count": 15,
   "id": "90ef00e8",
   "metadata": {},
   "outputs": [
    {
     "name": "stdout",
     "output_type": "stream",
     "text": [
      "<class 'pandas.core.frame.DataFrame'>\n",
      "Int64Index: 4454 entries, 0 to 4454\n",
      "Data columns (total 14 columns):\n",
      " #   Column     Non-Null Count  Dtype  \n",
      "---  ------     --------------  -----  \n",
      " 0   status     4454 non-null   object \n",
      " 1   seniority  4454 non-null   int64  \n",
      " 2   home       4454 non-null   object \n",
      " 3   time       4454 non-null   int64  \n",
      " 4   age        4454 non-null   int64  \n",
      " 5   marital    4454 non-null   object \n",
      " 6   records    4454 non-null   object \n",
      " 7   job        4454 non-null   object \n",
      " 8   expenses   4454 non-null   int64  \n",
      " 9   income     4454 non-null   float64\n",
      " 10  assets     4454 non-null   float64\n",
      " 11  debt       4454 non-null   float64\n",
      " 12  amount     4454 non-null   int64  \n",
      " 13  price      4454 non-null   int64  \n",
      "dtypes: float64(3), int64(6), object(5)\n",
      "memory usage: 522.0+ KB\n"
     ]
    }
   ],
   "source": [
    "df.info()"
   ]
  },
  {
   "cell_type": "markdown",
   "id": "c6ef43fa",
   "metadata": {},
   "source": [
    "Then, we split the dataset into three parts:\n",
    "+ Training data: 60%\n",
    "+ Validation data: 20%\n",
    "+ Test data: 20%\n",
    "\n",
    "One hot-encoding technique is applied for encoding the data:"
   ]
  },
  {
   "cell_type": "code",
   "execution_count": null,
   "id": "3494444c",
   "metadata": {},
   "outputs": [],
   "source": [
    "X = df.drop(columns = [\"status\"], axis = 1)\n",
    "y = df[\"status\"]\n",
    "\n",
    "X_train, X_test, y_train, y_test = train_test_split(X, y, test_size = 0.2, random_state = 1)"
   ]
  },
  {
   "cell_type": "code",
   "execution_count": 79,
   "id": "0dba9f1e",
   "metadata": {},
   "outputs": [],
   "source": [
    "df_train_full, df_test = train_test_split(df, test_size = 0.2, random_state = 1)\n",
    "df_train, df_val = train_test_split(df_train_full, test_size = 0.25, random_state = 2)\n",
    "\n",
    "Y_train = (df_train.status == \"default\").values\n",
    "Y_val = (df_val.status == \"default\").values\n",
    "Y_test = (df_test.status == \"default\").values\n",
    "\n",
    "del df_train[\"status\"]\n",
    "del df_val [\"status\"]\n",
    "del df_test[\"status\"]"
   ]
  },
  {
   "cell_type": "code",
   "execution_count": 80,
   "id": "57fa667f",
   "metadata": {},
   "outputs": [],
   "source": [
    "train_dict = df_train.to_dict(orient = \"records\")\n",
    "val_dict = df_val.to_dict(orient = \"records\")\n",
    "test_dict = df_test.to_dict(orient = \"records\")\n",
    "\n",
    "dv = DictVectorizer(sparse = False)\n",
    "dv.fit(train_dict)\n",
    "\n",
    "X_train = dv.transform(train_dict)\n",
    "X_val = dv.transform(val_dict)\n",
    "X_test = dv.transform(test_dict)"
   ]
  },
  {
   "cell_type": "markdown",
   "id": "62959a84",
   "metadata": {},
   "source": [
    "<a name=\"ap2\"></a>\n",
    "# 2. Decision trees"
   ]
  },
  {
   "cell_type": "code",
   "execution_count": 18,
   "id": "7f62d0c7",
   "metadata": {},
   "outputs": [
    {
     "name": "stdout",
     "output_type": "stream",
     "text": [
      "Train AUC: 0.9999996522888089\n",
      "Validation AUC: 0.6398288443509769\n"
     ]
    }
   ],
   "source": [
    "dt = DecisionTreeClassifier()  #Default value: None that means the tree can grow as large as possible.\n",
    "dt.fit(X_train, Y_train)\n",
    "\n",
    "Y_pred_train = dt.predict_proba(X_train)[:, 1]\n",
    "auc_train = roc_auc_score(Y_train, Y_pred_train)\n",
    "print(\"Train AUC: {}\".format(auc_train))\n",
    "\n",
    "Y_pred_val = dt.predict_proba(X_val)[:, 1]\n",
    "auc_val = roc_auc_score(Y_val, Y_pred_val)\n",
    "print(\"Validation AUC: {}\".format(auc_val))"
   ]
  },
  {
   "cell_type": "markdown",
   "id": "21d4d170",
   "metadata": {},
   "source": [
    "As we can see, out model is overfitting. The tree learned the training data so well that it simply memorized the outcome for each customer. However, when we applied it to the validation set, the model failed. The rules it extracted from the data turned out to be too specific to the training set, so it worked poorly for customers it didn’t see during training. In such cases, we say that the model cannot generalize.\n",
    "\n",
    "Let's control the complexity of the model, for instance, retricting the tree size."
   ]
  },
  {
   "cell_type": "markdown",
   "id": "de03ad38",
   "metadata": {},
   "source": [
    "The performance is better the previous tree."
   ]
  },
  {
   "cell_type": "code",
   "execution_count": 19,
   "id": "9bb11e65",
   "metadata": {},
   "outputs": [
    {
     "name": "stdout",
     "output_type": "stream",
     "text": [
      "Train AUC: 0.729390636137624\n",
      "Validation AUC: 0.7031824055540072\n"
     ]
    }
   ],
   "source": [
    "dt = DecisionTreeClassifier(max_depth = 2)\n",
    "dt.fit(X_train, Y_train)\n",
    "\n",
    "Y_pred_train = dt.predict_proba(X_train)[:, 1]\n",
    "auc_train = roc_auc_score(Y_train, Y_pred_train)\n",
    "print(\"Train AUC: {}\".format(auc_train))\n",
    "\n",
    "Y_pred_val = dt.predict_proba(X_val)[:, 1]\n",
    "auc_val = roc_auc_score(Y_val, Y_pred_val)\n",
    "print(\"Validation AUC: {}\".format(auc_val))"
   ]
  },
  {
   "cell_type": "markdown",
   "id": "dfba7513",
   "metadata": {},
   "source": [
    "Also we can see the tree implemented:"
   ]
  },
  {
   "cell_type": "code",
   "execution_count": 20,
   "id": "ab6f470d",
   "metadata": {},
   "outputs": [
    {
     "name": "stdout",
     "output_type": "stream",
     "text": [
      "|--- seniority <= 2.50\n",
      "|   |--- income <= 100.50\n",
      "|   |   |--- class: True\n",
      "|   |--- income >  100.50\n",
      "|   |   |--- class: False\n",
      "|--- seniority >  2.50\n",
      "|   |--- records=yes <= 0.50\n",
      "|   |   |--- class: False\n",
      "|   |--- records=yes >  0.50\n",
      "|   |   |--- class: False\n",
      "\n"
     ]
    }
   ],
   "source": [
    "tree_text = export_text(dt, feature_names = dv.feature_names_)\n",
    "print(tree_text)"
   ]
  },
  {
   "cell_type": "markdown",
   "id": "d4ef4257",
   "metadata": {},
   "source": [
    "<a name=\"ap2_1\"></a>\n",
    "## 2.1. Tuning hyparameters"
   ]
  },
  {
   "cell_type": "markdown",
   "id": "c9a74d8d",
   "metadata": {},
   "source": [
    "Our model is too simple so we need to tune the hyperparameters (max depth and others): try different parameters and see which ones lead to the best AUC.\n",
    "\n",
    "Hyperparameters:\n",
    "+ max_depth\n",
    "+ min_samples_leaf"
   ]
  },
  {
   "cell_type": "markdown",
   "id": "7e27a0ff",
   "metadata": {},
   "source": [
    "<a name=\"ap2_1_1\"></a>\n",
    "### 2.1.1. max_depth"
   ]
  },
  {
   "cell_type": "code",
   "execution_count": 21,
   "id": "aa5f41f7",
   "metadata": {},
   "outputs": [],
   "source": [
    "tree_depth = [1, 2, 3, 4, 5, 6, 7, 8, 9, 10, 15, 20, None]\n",
    "scores = []\n",
    "\n",
    "for d in tree_depth:\n",
    "    dt = DecisionTreeClassifier(max_depth = d)\n",
    "    dt.fit(X_train, Y_train)\n",
    "    Y_pred_val = dt.predict_proba(X_val)[:, 1]\n",
    "    AUC = roc_auc_score(Y_val, Y_pred_val).round(3)\n",
    "    scores.append(AUC)\n",
    "    \n",
    "final_results = dict(zip(tree_depth, scores))"
   ]
  },
  {
   "cell_type": "code",
   "execution_count": 22,
   "id": "690ae802",
   "metadata": {},
   "outputs": [
    {
     "name": "stdout",
     "output_type": "stream",
     "text": [
      "\n",
      "Final option -> 5: 0.789\n"
     ]
    }
   ],
   "source": [
    "best_value = max(final_results.values())\n",
    "best_key = max(final_results, key = final_results.get)\n",
    "\n",
    "print(\"\\nFinal option -> {}: {}\".format(best_key, best_value))"
   ]
  },
  {
   "cell_type": "markdown",
   "id": "a018d15b",
   "metadata": {},
   "source": [
    "+ The ROC value is optimal for `max_depth = 5`."
   ]
  },
  {
   "cell_type": "markdown",
   "id": "bc3113e8",
   "metadata": {},
   "source": [
    "<a name=\"ap2_1_2\"></a>\n",
    "### 2.1.2. min_samples_leaf"
   ]
  },
  {
   "cell_type": "code",
   "execution_count": 23,
   "id": "721f711a",
   "metadata": {},
   "outputs": [
    {
     "name": "stdout",
     "output_type": "stream",
     "text": [
      "Results: {4: [0.773323, 0.773323, 0.77637, 0.770866, 0.770866, 0.774524, 0.757801, 0.736226], 5: [0.788697, 0.792631, 0.787183, 0.792124, 0.78997, 0.791775, 0.764823, 0.739428], 6: [0.782391, 0.790268, 0.784054, 0.792824, 0.792529, 0.79804, 0.767445, 0.742674]}\n"
     ]
    }
   ],
   "source": [
    "tree_depth = [4, 5, 6]\n",
    "tree_leafsize = [1, 5, 10, 15, 20, 50, 100, 200]\n",
    "scores = []\n",
    "final_results = {}\n",
    "\n",
    "for d in tree_depth:\n",
    "    scores = []\n",
    "    \n",
    "    for lf in tree_leafsize:\n",
    "        \n",
    "        dt = DecisionTreeClassifier(max_depth = d, min_samples_leaf = lf)\n",
    "        dt.fit(X_train, Y_train)\n",
    "        Y_pred_val = dt.predict_proba(X_val)[:, 1]\n",
    "        AUC = roc_auc_score(Y_val, Y_pred_val).round(6)\n",
    "        scores.append(AUC)\n",
    "        \n",
    "    final_results[d] = scores\n",
    "\n",
    "print(\"Results: {}\".format(final_results))"
   ]
  },
  {
   "cell_type": "code",
   "execution_count": 24,
   "id": "7cca7014",
   "metadata": {},
   "outputs": [
    {
     "name": "stdout",
     "output_type": "stream",
     "text": [
      "Best: {4: 0.77637, 5: 0.792631, 6: 0.79804}\n",
      "\n",
      "Final option -> 6: 0.79804\n"
     ]
    }
   ],
   "source": [
    "best_dict = {key: max(val) for key, val in final_results.items()}\n",
    "print(\"Best: {}\".format(best_dict))\n",
    "\n",
    "best_value = max(best_dict.values())\n",
    "best_key = max(best_dict, key = best_dict.get)\n",
    "\n",
    "print(\"\\nFinal option -> {}: {}\".format(best_key, best_value))"
   ]
  },
  {
   "cell_type": "markdown",
   "id": "83bfead5",
   "metadata": {},
   "source": [
    "The ROC value is optimal for `min_leaf_size = 50`."
   ]
  },
  {
   "cell_type": "markdown",
   "id": "7743530f",
   "metadata": {},
   "source": [
    "<a name=\"ap2_2\"></a>\n",
    "## 2.2. Model selected"
   ]
  },
  {
   "cell_type": "code",
   "execution_count": 25,
   "id": "55273924",
   "metadata": {},
   "outputs": [
    {
     "name": "stdout",
     "output_type": "stream",
     "text": [
      "ROC Decision Trees: 0.7426742595079434\n"
     ]
    }
   ],
   "source": [
    "dt = DecisionTreeClassifier(max_depth = 6, min_samples_leaf = 50)\n",
    "dt.fit(X_train, Y_train)\n",
    "Y_pred_val_dt = dt.predict_proba(X_val)[:, 1]\n",
    "\n",
    "ROC_dt = roc_auc_score(Y_val, Y_pred_val)\n",
    "\n",
    "print(\"ROC Decision Trees: {}\".format(ROC_dt))"
   ]
  },
  {
   "cell_type": "code",
   "execution_count": 26,
   "id": "50b8b55c",
   "metadata": {
    "scrolled": true
   },
   "outputs": [
    {
     "data": {
      "image/png": "[encoded data removed]",
      "text/plain": [
       "<Figure size 360x360 with 1 Axes>"
      ]
     },
     "metadata": {
      "needs_background": "light"
     },
     "output_type": "display_data"
    }
   ],
   "source": [
    "FPR, TPR, _ = roc_curve(Y_val, Y_pred_val)\n",
    "\n",
    "plt.figure(figsize = (5, 5))\n",
    "\n",
    "plt.plot(FPR, TPR, color = \"black\")\n",
    "plt.plot([0, 1], [0, 1], color = \"black\", linewidth  = 0.7, linestyle = \"dashed\", alpha = 0.5)\n",
    "\n",
    "plt.xlabel(\"False Positive Rate\")\n",
    "plt.ylabel(\"True Positive Rate\")\n",
    "plt.title(\"ROC curve\")\n",
    "\n",
    "plt.show()"
   ]
  },
  {
   "cell_type": "markdown",
   "id": "56df84f0",
   "metadata": {},
   "source": [
    "<a name=\"ap2_2_1\"></a>\n",
    "### 2.2.1 Feature importance"
   ]
  },
  {
   "cell_type": "code",
   "execution_count": 97,
   "id": "e944f394",
   "metadata": {
    "scrolled": true
   },
   "outputs": [
    {
     "data": {
      "text/plain": [
       "[('age', 0.0),\n",
       " ('amount', 0.0769559317712154),\n",
       " ('assets', 0.07380311220048563),\n",
       " ('debt', 0.0),\n",
       " ('expenses', 0.0),\n",
       " ('home=ignore', 0.0),\n",
       " ('home=other', 0.0),\n",
       " ('home=owner', 0.0),\n",
       " ('home=parents', 0.0),\n",
       " ('home=private', 0.0),\n",
       " ('home=rent', 0.0),\n",
       " ('home=unk', 0.0),\n",
       " ('income', 0.2462967279310876),\n",
       " ('job=fixed', 0.0),\n",
       " ('job=freelance', 0.0),\n",
       " ('job=others', 0.0),\n",
       " ('job=partime', 0.0482727502200492),\n",
       " ('job=unk2', 0.0),\n",
       " ('marital=divorced', 0.0),\n",
       " ('marital=married', 0.0),\n",
       " ('marital=separated', 0.0),\n",
       " ('marital=single', 0.0),\n",
       " ('marital=unk', 0.0),\n",
       " ('marital=widow', 0.0),\n",
       " ('price', 0.0),\n",
       " ('records=no', 0.0),\n",
       " ('records=yes', 0.22515967645870097),\n",
       " ('seniority', 0.30684169935173355),\n",
       " ('time', 0.022670102066727645)]"
      ]
     },
     "execution_count": 97,
     "metadata": {},
     "output_type": "execute_result"
    }
   ],
   "source": [
    "feat_importances = list(zip(dv.feature_names_, dt.feature_importances_))\n",
    "feat_importances"
   ]
  },
  {
   "cell_type": "code",
   "execution_count": 96,
   "id": "d4e23f82",
   "metadata": {},
   "outputs": [
    {
     "data": {
      "text/html": [
       "<div>\n",
       "<style scoped>\n",
       "    .dataframe tbody tr th:only-of-type {\n",
       "        vertical-align: middle;\n",
       "    }\n",
       "\n",
       "    .dataframe tbody tr th {\n",
       "        vertical-align: top;\n",
       "    }\n",
       "\n",
       "    .dataframe thead th {\n",
       "        text-align: right;\n",
       "    }\n",
       "</style>\n",
       "<table border=\"1\" class=\"dataframe\">\n",
       "  <thead>\n",
       "    <tr style=\"text-align: right;\">\n",
       "      <th></th>\n",
       "      <th>feature</th>\n",
       "      <th>gain</th>\n",
       "    </tr>\n",
       "  </thead>\n",
       "  <tbody>\n",
       "    <tr>\n",
       "      <th>27</th>\n",
       "      <td>seniority</td>\n",
       "      <td>0.306842</td>\n",
       "    </tr>\n",
       "    <tr>\n",
       "      <th>12</th>\n",
       "      <td>income</td>\n",
       "      <td>0.246297</td>\n",
       "    </tr>\n",
       "    <tr>\n",
       "      <th>26</th>\n",
       "      <td>records=yes</td>\n",
       "      <td>0.225160</td>\n",
       "    </tr>\n",
       "    <tr>\n",
       "      <th>1</th>\n",
       "      <td>amount</td>\n",
       "      <td>0.076956</td>\n",
       "    </tr>\n",
       "    <tr>\n",
       "      <th>2</th>\n",
       "      <td>assets</td>\n",
       "      <td>0.073803</td>\n",
       "    </tr>\n",
       "    <tr>\n",
       "      <th>16</th>\n",
       "      <td>job=partime</td>\n",
       "      <td>0.048273</td>\n",
       "    </tr>\n",
       "    <tr>\n",
       "      <th>28</th>\n",
       "      <td>time</td>\n",
       "      <td>0.022670</td>\n",
       "    </tr>\n",
       "    <tr>\n",
       "      <th>25</th>\n",
       "      <td>records=no</td>\n",
       "      <td>0.000000</td>\n",
       "    </tr>\n",
       "    <tr>\n",
       "      <th>24</th>\n",
       "      <td>price</td>\n",
       "      <td>0.000000</td>\n",
       "    </tr>\n",
       "    <tr>\n",
       "      <th>23</th>\n",
       "      <td>marital=widow</td>\n",
       "      <td>0.000000</td>\n",
       "    </tr>\n",
       "    <tr>\n",
       "      <th>22</th>\n",
       "      <td>marital=unk</td>\n",
       "      <td>0.000000</td>\n",
       "    </tr>\n",
       "    <tr>\n",
       "      <th>21</th>\n",
       "      <td>marital=single</td>\n",
       "      <td>0.000000</td>\n",
       "    </tr>\n",
       "    <tr>\n",
       "      <th>20</th>\n",
       "      <td>marital=separated</td>\n",
       "      <td>0.000000</td>\n",
       "    </tr>\n",
       "    <tr>\n",
       "      <th>19</th>\n",
       "      <td>marital=married</td>\n",
       "      <td>0.000000</td>\n",
       "    </tr>\n",
       "    <tr>\n",
       "      <th>18</th>\n",
       "      <td>marital=divorced</td>\n",
       "      <td>0.000000</td>\n",
       "    </tr>\n",
       "    <tr>\n",
       "      <th>17</th>\n",
       "      <td>job=unk2</td>\n",
       "      <td>0.000000</td>\n",
       "    </tr>\n",
       "    <tr>\n",
       "      <th>0</th>\n",
       "      <td>age</td>\n",
       "      <td>0.000000</td>\n",
       "    </tr>\n",
       "    <tr>\n",
       "      <th>15</th>\n",
       "      <td>job=others</td>\n",
       "      <td>0.000000</td>\n",
       "    </tr>\n",
       "    <tr>\n",
       "      <th>13</th>\n",
       "      <td>job=fixed</td>\n",
       "      <td>0.000000</td>\n",
       "    </tr>\n",
       "    <tr>\n",
       "      <th>11</th>\n",
       "      <td>home=unk</td>\n",
       "      <td>0.000000</td>\n",
       "    </tr>\n",
       "    <tr>\n",
       "      <th>10</th>\n",
       "      <td>home=rent</td>\n",
       "      <td>0.000000</td>\n",
       "    </tr>\n",
       "    <tr>\n",
       "      <th>9</th>\n",
       "      <td>home=private</td>\n",
       "      <td>0.000000</td>\n",
       "    </tr>\n",
       "    <tr>\n",
       "      <th>8</th>\n",
       "      <td>home=parents</td>\n",
       "      <td>0.000000</td>\n",
       "    </tr>\n",
       "    <tr>\n",
       "      <th>7</th>\n",
       "      <td>home=owner</td>\n",
       "      <td>0.000000</td>\n",
       "    </tr>\n",
       "    <tr>\n",
       "      <th>6</th>\n",
       "      <td>home=other</td>\n",
       "      <td>0.000000</td>\n",
       "    </tr>\n",
       "    <tr>\n",
       "      <th>5</th>\n",
       "      <td>home=ignore</td>\n",
       "      <td>0.000000</td>\n",
       "    </tr>\n",
       "    <tr>\n",
       "      <th>4</th>\n",
       "      <td>expenses</td>\n",
       "      <td>0.000000</td>\n",
       "    </tr>\n",
       "    <tr>\n",
       "      <th>3</th>\n",
       "      <td>debt</td>\n",
       "      <td>0.000000</td>\n",
       "    </tr>\n",
       "    <tr>\n",
       "      <th>14</th>\n",
       "      <td>job=freelance</td>\n",
       "      <td>0.000000</td>\n",
       "    </tr>\n",
       "  </tbody>\n",
       "</table>\n",
       "</div>"
      ],
      "text/plain": [
       "              feature      gain\n",
       "27          seniority  0.306842\n",
       "12             income  0.246297\n",
       "26        records=yes  0.225160\n",
       "1              amount  0.076956\n",
       "2              assets  0.073803\n",
       "16        job=partime  0.048273\n",
       "28               time  0.022670\n",
       "25         records=no  0.000000\n",
       "24              price  0.000000\n",
       "23      marital=widow  0.000000\n",
       "22        marital=unk  0.000000\n",
       "21     marital=single  0.000000\n",
       "20  marital=separated  0.000000\n",
       "19    marital=married  0.000000\n",
       "18   marital=divorced  0.000000\n",
       "17           job=unk2  0.000000\n",
       "0                 age  0.000000\n",
       "15         job=others  0.000000\n",
       "13          job=fixed  0.000000\n",
       "11           home=unk  0.000000\n",
       "10          home=rent  0.000000\n",
       "9        home=private  0.000000\n",
       "8        home=parents  0.000000\n",
       "7          home=owner  0.000000\n",
       "6          home=other  0.000000\n",
       "5         home=ignore  0.000000\n",
       "4            expenses  0.000000\n",
       "3                debt  0.000000\n",
       "14      job=freelance  0.000000"
      ]
     },
     "execution_count": 96,
     "metadata": {},
     "output_type": "execute_result"
    }
   ],
   "source": [
    "df_importances = pd.DataFrame(feat_importances, columns = [\"feature\", \"gain\"]).sort_values(by = \"gain\", ascending  = False)\n",
    "df_importances"
   ]
  },
  {
   "cell_type": "code",
   "execution_count": 94,
   "id": "4bb34326",
   "metadata": {},
   "outputs": [
    {
     "data": {
      "image/png": "[encoded data removed]",
      "text/plain": [
       "<Figure size 432x288 with 1 Axes>"
      ]
     },
     "metadata": {
      "needs_background": "light"
     },
     "output_type": "display_data"
    }
   ],
   "source": [
    "df_importances = df_importances[df_importances.gain > 0]\n",
    "\n",
    "num = len(df_importances)\n",
    "\n",
    "plt.plot(figsize = (6,4))\n",
    "plt.barh(range(num), df_importances.gain[::-1])\n",
    "plt.yticks(range(num), df_importances.feature[::-1])\n",
    "\n",
    "plt.show()"
   ]
  },
  {
   "cell_type": "markdown",
   "id": "f17c3a4b",
   "metadata": {},
   "source": [
    "<a name=\"ap3\"></a>\n",
    "# 3. Random forest"
   ]
  },
  {
   "cell_type": "code",
   "execution_count": 27,
   "id": "43baf5c6",
   "metadata": {},
   "outputs": [
    {
     "name": "stdout",
     "output_type": "stream",
     "text": [
      "ROC: 0.796\n"
     ]
    }
   ],
   "source": [
    "rf = RandomForestClassifier(n_estimators = 10, random_state = 2)\n",
    "rf.fit(X_train, Y_train)\n",
    "Y_pred_val = rf.predict_proba(X_val)[:, 1]\n",
    "print(\"ROC: {}\".format(roc_auc_score(Y_val, Y_pred_val).round(3)))"
   ]
  },
  {
   "cell_type": "markdown",
   "id": "e2b7dc5d",
   "metadata": {},
   "source": [
    "Let's check the ROC value when the number of trees (n_stimators) is changed:"
   ]
  },
  {
   "cell_type": "markdown",
   "id": "35811c74",
   "metadata": {},
   "source": [
    "<a name=\"ap3_1\"></a>\n",
    "## 3.1.Tuning hyperparameters"
   ]
  },
  {
   "cell_type": "markdown",
   "id": "4e82a08b",
   "metadata": {},
   "source": [
    "Now, we are going to tune the following hyperparameters:\n",
    "+ n_estimators.\n",
    "+ max_depth.\n",
    "+ min_samples_leaf."
   ]
  },
  {
   "cell_type": "markdown",
   "id": "22db0bab",
   "metadata": {},
   "source": [
    "<a name=\"ap3_1_1\"></a>\n",
    "### 3.1.1. n_estimators"
   ]
  },
  {
   "cell_type": "code",
   "execution_count": 28,
   "id": "e27c98ec",
   "metadata": {},
   "outputs": [
    {
     "name": "stdout",
     "output_type": "stream",
     "text": [
      "Results:  {10: 0.78105, 20: 0.8008, 30: 0.80836, 40: 0.81062, 50: 0.81855, 60: 0.82267, 70: 0.82396, 80: 0.82432, 90: 0.82393, 100: 0.82563, 110: 0.82506, 120: 0.82649, 130: 0.82585, 140: 0.82653, 150: 0.82689, 160: 0.82712, 170: 0.82776, 180: 0.8277, 190: 0.82845, 200: 0.82887}\n"
     ]
    }
   ],
   "source": [
    "n_trees = np.arange(10, 201, 10)\n",
    "scores = []\n",
    "\n",
    "for n in n_trees:\n",
    "    rf = RandomForestClassifier(n_estimators = n, random_state = 5)\n",
    "    rf.fit(X_train, Y_train)\n",
    "    Y_pred_val = rf.predict_proba(X_val)[:, 1]\n",
    "    ROC = roc_auc_score(Y_val, Y_pred_val).round(5)\n",
    "    scores.append(ROC)\n",
    "    \n",
    "final_results = dict(zip(n_trees, scores))\n",
    "print(\"Results:  {}\".format(final_results))"
   ]
  },
  {
   "cell_type": "code",
   "execution_count": 29,
   "id": "25c1bf88",
   "metadata": {},
   "outputs": [
    {
     "name": "stdout",
     "output_type": "stream",
     "text": [
      "\n",
      "Final option -> 200: 0.82887\n"
     ]
    }
   ],
   "source": [
    "best_value = max(final_results.values())\n",
    "best_key = max(final_results, key = final_results.get)\n",
    "\n",
    "print(\"\\nFinal option -> {}: {}\".format(best_key, best_value))"
   ]
  },
  {
   "cell_type": "code",
   "execution_count": 30,
   "id": "80fec9b8",
   "metadata": {},
   "outputs": [
    {
     "data": {
      "image/png": "[encoded data removed]",
      "text/plain": [
       "<Figure size 432x288 with 1 Axes>"
      ]
     },
     "metadata": {
      "needs_background": "light"
     },
     "output_type": "display_data"
    }
   ],
   "source": [
    "plt.figure(figsize = (6, 4))\n",
    "\n",
    "plt.plot(n_trees, scores, color = \"black\")\n",
    "plt.xticks(np.arange(0, 201, 50))\n",
    "\n",
    "plt.title(\"Number of trees vs AUC\")\n",
    "plt.xlabel(\"Number of trees\")\n",
    "plt.ylabel(\"AUC\")\n",
    "\n",
    "plt.show()"
   ]
  },
  {
   "cell_type": "markdown",
   "id": "3ab4df4c",
   "metadata": {},
   "source": [
    "The performance grows rapidly for the first 25–30 trees; then the growth slows down. After 130, adding more trees is not helpful anymore: the performance stays approximately at the level of 82%."
   ]
  },
  {
   "cell_type": "markdown",
   "id": "cbac68d1",
   "metadata": {},
   "source": [
    "+ The best `n_estimators = 200`."
   ]
  },
  {
   "cell_type": "markdown",
   "id": "16130e88",
   "metadata": {},
   "source": [
    "<a name=\"ap3_1_2\"></a>\n",
    "### 3.1.2. max_depth "
   ]
  },
  {
   "cell_type": "code",
   "execution_count": 31,
   "id": "04b36ad5",
   "metadata": {},
   "outputs": [
    {
     "name": "stdout",
     "output_type": "stream",
     "text": [
      "Results: {5: [0.81568, 0.82548, 0.83008, 0.82948, 0.83108, 0.82966, 0.8286, 0.82809, 0.83031, 0.83071, 0.83048, 0.83056, 0.83187, 0.83195, 0.83175, 0.83181, 0.83223, 0.83168, 0.83143, 0.8313], 10: [0.79835, 0.8214, 0.82863, 0.8268, 0.82919, 0.82975, 0.83004, 0.83194, 0.83295, 0.83395, 0.83477, 0.83507, 0.8376, 0.83769, 0.83784, 0.83881, 0.83957, 0.83884, 0.83971, 0.84002], 20: [0.79474, 0.80971, 0.81755, 0.82122, 0.82466, 0.82757, 0.83067, 0.82974, 0.83062, 0.8297, 0.82971, 0.83256, 0.83333, 0.83348, 0.83347, 0.83268, 0.83231, 0.83153, 0.83145, 0.83124]}\n"
     ]
    }
   ],
   "source": [
    "tree_depth = [5, 10, 20]\n",
    "n_trees = np.arange(10, 201, 10)\n",
    "scores = []\n",
    "final_results = {}\n",
    "\n",
    "for d in tree_depth:\n",
    "    scores = []\n",
    "    \n",
    "    for n in n_trees:\n",
    "        rf = RandomForestClassifier(n_estimators = n, max_depth = d, random_state = 2)\n",
    "        rf.fit(X_train, Y_train)\n",
    "        Y_pred_val = rf.predict_proba(X_val)[:, 1]\n",
    "        ROC = roc_auc_score(Y_val, Y_pred_val).round(5)\n",
    "        scores.append(ROC)\n",
    "    \n",
    "    final_results[d] = scores\n",
    "\n",
    "print(\"Results: {}\".format(final_results))"
   ]
  },
  {
   "cell_type": "code",
   "execution_count": 32,
   "id": "6c5d0fcd",
   "metadata": {},
   "outputs": [
    {
     "name": "stdout",
     "output_type": "stream",
     "text": [
      "Best: {5: 0.83223, 10: 0.84002, 20: 0.83348}\n",
      "\n",
      "Final option -> 10: 0.84002\n"
     ]
    }
   ],
   "source": [
    "best_dict = {key: max(val) for key, val in final_results.items()}\n",
    "print(\"Best: {}\".format(best_dict))\n",
    "\n",
    "best_value = max(best_dict.values())\n",
    "best_key = max(best_dict, key = best_dict.get)\n",
    "\n",
    "print(\"\\nFinal option -> {}: {}\".format(best_key, best_value))"
   ]
  },
  {
   "cell_type": "code",
   "execution_count": 33,
   "id": "f7566d90",
   "metadata": {},
   "outputs": [
    {
     "data": {
      "image/png": "[encoded data removed]",
      "text/plain": [
       "<Figure size 504x360 with 1 Axes>"
      ]
     },
     "metadata": {
      "needs_background": "light"
     },
     "output_type": "display_data"
    }
   ],
   "source": [
    "plt.figure(figsize= (7, 5))\n",
    "\n",
    "plt.plot(n_trees, final_results[5], label = \"depth = 5\", color = \"black\", linestyle = \"dotted\")\n",
    "plt.plot(n_trees, final_results[10], label = \"depth = 10\", color = \"black\", linestyle = \"dashed\")\n",
    "plt.plot(n_trees, final_results[20], label = \"depth = 20\", color = \"black\", linestyle = \"solid\")\n",
    "    \n",
    "plt.xticks(range(0, 201, 50))\n",
    "plt.legend()\n",
    "\n",
    "plt.title(\"Number of trees vs AUC\")\n",
    "plt.xlabel(\"Number of trees\")\n",
    "plt.ylabel(\"AUC\")\n",
    "\n",
    "plt.show()"
   ]
  },
  {
   "cell_type": "markdown",
   "id": "ddee3e1e",
   "metadata": {},
   "source": [
    "+ As we can see, the best performance of our model is with `max_depth = 10`. "
   ]
  },
  {
   "cell_type": "markdown",
   "id": "eeefe97a",
   "metadata": {},
   "source": [
    "<a name=\"ap3_1_3\"></a>\n",
    "### 3.1.3. min_samples_leaf"
   ]
  },
  {
   "cell_type": "code",
   "execution_count": 34,
   "id": "c6909a97",
   "metadata": {},
   "outputs": [
    {
     "name": "stdout",
     "output_type": "stream",
     "text": [
      "Results: {3: [0.81303, 0.82962, 0.83119, 0.83362, 0.83625, 0.83877, 0.84021, 0.84097, 0.84028, 0.84147, 0.84213, 0.84315, 0.84235, 0.84246, 0.84191, 0.84174, 0.84191, 0.84186, 0.84168, 0.84239], 5: [0.82413, 0.83593, 0.83793, 0.84097, 0.8397, 0.83985, 0.84168, 0.84222, 0.84462, 0.84421, 0.84405, 0.84451, 0.84455, 0.84459, 0.84387, 0.84408, 0.84442, 0.84477, 0.84432, 0.84438], 10: [0.83434, 0.83911, 0.83988, 0.84099, 0.84046, 0.84146, 0.84223, 0.8432, 0.84303, 0.84288, 0.8427, 0.84249, 0.8416, 0.84072, 0.8408, 0.84107, 0.84146, 0.84165, 0.84146, 0.8416]}\n"
     ]
    }
   ],
   "source": [
    "tree_leafsize = [3, 5, 10]\n",
    "n_trees = np.arange(10, 201, 10)\n",
    "scores = []\n",
    "final_results = {}\n",
    "\n",
    "for tl in tree_leafsize:\n",
    "    scores = []\n",
    "    \n",
    "    for n in n_trees:\n",
    "        rf = RandomForestClassifier(n_estimators = n, max_depth = 10, min_samples_leaf = tl, random_state = 3)\n",
    "        rf.fit(X_train, Y_train)\n",
    "        Y_pred_val = rf.predict_proba(X_val)[:, 1]\n",
    "        ROC = roc_auc_score(Y_val, Y_pred_val).round(5)\n",
    "        scores.append(ROC)\n",
    "    \n",
    "    final_results[tl] = scores\n",
    "\n",
    "print(\"Results: {}\".format(final_results))"
   ]
  },
  {
   "cell_type": "code",
   "execution_count": 35,
   "id": "61530901",
   "metadata": {},
   "outputs": [
    {
     "name": "stdout",
     "output_type": "stream",
     "text": [
      "Best: {3: 0.84315, 5: 0.84477, 10: 0.8432}\n",
      "\n",
      "Final option -> 5: 0.84477\n"
     ]
    }
   ],
   "source": [
    "best_dict = {key: max(val) for key, val in final_results.items()}\n",
    "print(\"Best: {}\".format(best_dict))\n",
    "\n",
    "best_value = max(best_dict.values())\n",
    "best_key = max(best_dict, key = best_dict.get)\n",
    "\n",
    "print(\"\\nFinal option -> {}: {}\".format(best_key, best_value))"
   ]
  },
  {
   "cell_type": "code",
   "execution_count": 36,
   "id": "050cd28a",
   "metadata": {},
   "outputs": [
    {
     "data": {
      "image/png": "[encoded data removed]",
      "text/plain": [
       "<Figure size 504x360 with 1 Axes>"
      ]
     },
     "metadata": {
      "needs_background": "light"
     },
     "output_type": "display_data"
    }
   ],
   "source": [
    "plt.figure(figsize= (7, 5))\n",
    "\n",
    "plt.plot(n_trees, final_results[3], label = \"min_sample_leaf = 3\", color = \"black\", linestyle = \"dotted\")\n",
    "plt.plot(n_trees, final_results[5], label = \"min_sample_leaf = 5\", color = \"black\", linestyle = \"dashed\")\n",
    "plt.plot(n_trees, final_results[10], label = \"min_sample_leaf = 10\", color = \"black\", linestyle = \"solid\")\n",
    "    \n",
    "plt.xticks(range(0, 201, 50))\n",
    "plt.legend()\n",
    "\n",
    "plt.title(\"Number of trees vs AUC\")\n",
    "plt.xlabel(\"Number of trees\")\n",
    "plt.ylabel(\"AUC\")\n",
    "\n",
    "plt.show()"
   ]
  },
  {
   "cell_type": "markdown",
   "id": "d48f6dae",
   "metadata": {},
   "source": [
    "+ The best choice is `min_samples_leaf = 5`."
   ]
  },
  {
   "cell_type": "markdown",
   "id": "e59d5778",
   "metadata": {},
   "source": [
    "<a name=\"ap3_2\"></a>\n",
    "## 3.2. Model selected"
   ]
  },
  {
   "cell_type": "markdown",
   "id": "b471e0f8",
   "metadata": {},
   "source": [
    "Therefore, we can train our best model possible:"
   ]
  },
  {
   "cell_type": "code",
   "execution_count": 37,
   "id": "0b73dd67",
   "metadata": {},
   "outputs": [
    {
     "name": "stdout",
     "output_type": "stream",
     "text": [
      "ROC Random Forest: 0.8416\n"
     ]
    }
   ],
   "source": [
    "rf = RandomForestClassifier(n_estimators = 200, max_depth = 10, min_samples_leaf = 5, random_state = 8)\n",
    "rf.fit(X_train, Y_train)\n",
    "\n",
    "Y_pred_val_rf = rf.predict_proba(X_val)[:, 1]\n",
    "ROC_rf = roc_auc_score(Y_val, Y_pred_val)\n",
    "\n",
    "print(\"ROC Random Forest: {}\".format(ROC))"
   ]
  },
  {
   "cell_type": "code",
   "execution_count": 38,
   "id": "b5eab0be",
   "metadata": {},
   "outputs": [
    {
     "data": {
      "image/png": "[encoded data removed]",
      "text/plain": [
       "<Figure size 360x360 with 1 Axes>"
      ]
     },
     "metadata": {
      "needs_background": "light"
     },
     "output_type": "display_data"
    }
   ],
   "source": [
    "FPR, TPR, _ = roc_curve(Y_val, Y_pred_val_rf)\n",
    "\n",
    "plt.figure(figsize = (5, 5))\n",
    "\n",
    "plt.plot(FPR, TPR, color = \"black\")\n",
    "plt.plot([0, 1], [0, 1], color = \"black\", linewidth  = 0.7, linestyle = \"dashed\", alpha = 0.5)\n",
    "\n",
    "plt.xlabel(\"False Positive Rate\")\n",
    "plt.ylabel(\"True Positive Rate\")\n",
    "plt.title(\"ROC curve\")\n",
    "\n",
    "plt.show()"
   ]
  },
  {
   "cell_type": "markdown",
   "id": "5c0fe7fb",
   "metadata": {},
   "source": [
    "<a name=\"ap3_2_1\"></a>\n",
    "### 3.2.1 Feature importance"
   ]
  },
  {
   "cell_type": "code",
   "execution_count": 99,
   "id": "5e14e1e5",
   "metadata": {},
   "outputs": [
    {
     "data": {
      "text/plain": [
       "[('age', 0.057186601085207525),\n",
       " ('amount', 0.08204850281400987),\n",
       " ('assets', 0.07241695031444383),\n",
       " ('debt', 0.014932732388824073),\n",
       " ('expenses', 0.03959069644271928),\n",
       " ('home=ignore', 1.568177254785021e-05),\n",
       " ('home=other', 0.010197773006167175),\n",
       " ('home=owner', 0.03456029041530173),\n",
       " ('home=parents', 0.009381643625283938),\n",
       " ('home=private', 0.005246030892528337),\n",
       " ('home=rent', 0.012736795139500719),\n",
       " ('home=unk', 0.0),\n",
       " ('income', 0.1786013721957556),\n",
       " ('job=fixed', 0.03663140849000084),\n",
       " ('job=freelance', 0.009713228152244473),\n",
       " ('job=others', 0.003068664364862698),\n",
       " ('job=partime', 0.040014042606543024),\n",
       " ('job=unk2', 0.0),\n",
       " ('marital=divorced', 0.00019014199304942403),\n",
       " ('marital=married', 0.007441588934233071),\n",
       " ('marital=separated', 0.0025199279222771196),\n",
       " ('marital=single', 0.0061936243516067),\n",
       " ('marital=unk', 0.0),\n",
       " ('marital=widow', 7.411344750025004e-05),\n",
       " ('price', 0.06718369702358128),\n",
       " ('records=no', 0.07577459090615254),\n",
       " ('records=yes', 0.06265803600333335),\n",
       " ('seniority', 0.14245652759223185),\n",
       " ('time', 0.029165338120093528)]"
      ]
     },
     "execution_count": 99,
     "metadata": {},
     "output_type": "execute_result"
    }
   ],
   "source": [
    "feat_importances = list(zip(dv.feature_names_, rf.feature_importances_))\n",
    "feat_importances"
   ]
  },
  {
   "cell_type": "code",
   "execution_count": 100,
   "id": "cc0f1e84",
   "metadata": {},
   "outputs": [
    {
     "data": {
      "text/html": [
       "<div>\n",
       "<style scoped>\n",
       "    .dataframe tbody tr th:only-of-type {\n",
       "        vertical-align: middle;\n",
       "    }\n",
       "\n",
       "    .dataframe tbody tr th {\n",
       "        vertical-align: top;\n",
       "    }\n",
       "\n",
       "    .dataframe thead th {\n",
       "        text-align: right;\n",
       "    }\n",
       "</style>\n",
       "<table border=\"1\" class=\"dataframe\">\n",
       "  <thead>\n",
       "    <tr style=\"text-align: right;\">\n",
       "      <th></th>\n",
       "      <th>feature</th>\n",
       "      <th>gain</th>\n",
       "    </tr>\n",
       "  </thead>\n",
       "  <tbody>\n",
       "    <tr>\n",
       "      <th>12</th>\n",
       "      <td>income</td>\n",
       "      <td>0.178601</td>\n",
       "    </tr>\n",
       "    <tr>\n",
       "      <th>27</th>\n",
       "      <td>seniority</td>\n",
       "      <td>0.142457</td>\n",
       "    </tr>\n",
       "    <tr>\n",
       "      <th>1</th>\n",
       "      <td>amount</td>\n",
       "      <td>0.082049</td>\n",
       "    </tr>\n",
       "    <tr>\n",
       "      <th>25</th>\n",
       "      <td>records=no</td>\n",
       "      <td>0.075775</td>\n",
       "    </tr>\n",
       "    <tr>\n",
       "      <th>2</th>\n",
       "      <td>assets</td>\n",
       "      <td>0.072417</td>\n",
       "    </tr>\n",
       "    <tr>\n",
       "      <th>24</th>\n",
       "      <td>price</td>\n",
       "      <td>0.067184</td>\n",
       "    </tr>\n",
       "    <tr>\n",
       "      <th>26</th>\n",
       "      <td>records=yes</td>\n",
       "      <td>0.062658</td>\n",
       "    </tr>\n",
       "    <tr>\n",
       "      <th>0</th>\n",
       "      <td>age</td>\n",
       "      <td>0.057187</td>\n",
       "    </tr>\n",
       "    <tr>\n",
       "      <th>16</th>\n",
       "      <td>job=partime</td>\n",
       "      <td>0.040014</td>\n",
       "    </tr>\n",
       "    <tr>\n",
       "      <th>4</th>\n",
       "      <td>expenses</td>\n",
       "      <td>0.039591</td>\n",
       "    </tr>\n",
       "    <tr>\n",
       "      <th>13</th>\n",
       "      <td>job=fixed</td>\n",
       "      <td>0.036631</td>\n",
       "    </tr>\n",
       "    <tr>\n",
       "      <th>7</th>\n",
       "      <td>home=owner</td>\n",
       "      <td>0.034560</td>\n",
       "    </tr>\n",
       "    <tr>\n",
       "      <th>28</th>\n",
       "      <td>time</td>\n",
       "      <td>0.029165</td>\n",
       "    </tr>\n",
       "    <tr>\n",
       "      <th>3</th>\n",
       "      <td>debt</td>\n",
       "      <td>0.014933</td>\n",
       "    </tr>\n",
       "    <tr>\n",
       "      <th>10</th>\n",
       "      <td>home=rent</td>\n",
       "      <td>0.012737</td>\n",
       "    </tr>\n",
       "    <tr>\n",
       "      <th>6</th>\n",
       "      <td>home=other</td>\n",
       "      <td>0.010198</td>\n",
       "    </tr>\n",
       "    <tr>\n",
       "      <th>14</th>\n",
       "      <td>job=freelance</td>\n",
       "      <td>0.009713</td>\n",
       "    </tr>\n",
       "    <tr>\n",
       "      <th>8</th>\n",
       "      <td>home=parents</td>\n",
       "      <td>0.009382</td>\n",
       "    </tr>\n",
       "    <tr>\n",
       "      <th>19</th>\n",
       "      <td>marital=married</td>\n",
       "      <td>0.007442</td>\n",
       "    </tr>\n",
       "    <tr>\n",
       "      <th>21</th>\n",
       "      <td>marital=single</td>\n",
       "      <td>0.006194</td>\n",
       "    </tr>\n",
       "    <tr>\n",
       "      <th>9</th>\n",
       "      <td>home=private</td>\n",
       "      <td>0.005246</td>\n",
       "    </tr>\n",
       "    <tr>\n",
       "      <th>15</th>\n",
       "      <td>job=others</td>\n",
       "      <td>0.003069</td>\n",
       "    </tr>\n",
       "    <tr>\n",
       "      <th>20</th>\n",
       "      <td>marital=separated</td>\n",
       "      <td>0.002520</td>\n",
       "    </tr>\n",
       "    <tr>\n",
       "      <th>18</th>\n",
       "      <td>marital=divorced</td>\n",
       "      <td>0.000190</td>\n",
       "    </tr>\n",
       "    <tr>\n",
       "      <th>23</th>\n",
       "      <td>marital=widow</td>\n",
       "      <td>0.000074</td>\n",
       "    </tr>\n",
       "    <tr>\n",
       "      <th>5</th>\n",
       "      <td>home=ignore</td>\n",
       "      <td>0.000016</td>\n",
       "    </tr>\n",
       "    <tr>\n",
       "      <th>11</th>\n",
       "      <td>home=unk</td>\n",
       "      <td>0.000000</td>\n",
       "    </tr>\n",
       "    <tr>\n",
       "      <th>17</th>\n",
       "      <td>job=unk2</td>\n",
       "      <td>0.000000</td>\n",
       "    </tr>\n",
       "    <tr>\n",
       "      <th>22</th>\n",
       "      <td>marital=unk</td>\n",
       "      <td>0.000000</td>\n",
       "    </tr>\n",
       "  </tbody>\n",
       "</table>\n",
       "</div>"
      ],
      "text/plain": [
       "              feature      gain\n",
       "12             income  0.178601\n",
       "27          seniority  0.142457\n",
       "1              amount  0.082049\n",
       "25         records=no  0.075775\n",
       "2              assets  0.072417\n",
       "24              price  0.067184\n",
       "26        records=yes  0.062658\n",
       "0                 age  0.057187\n",
       "16        job=partime  0.040014\n",
       "4            expenses  0.039591\n",
       "13          job=fixed  0.036631\n",
       "7          home=owner  0.034560\n",
       "28               time  0.029165\n",
       "3                debt  0.014933\n",
       "10          home=rent  0.012737\n",
       "6          home=other  0.010198\n",
       "14      job=freelance  0.009713\n",
       "8        home=parents  0.009382\n",
       "19    marital=married  0.007442\n",
       "21     marital=single  0.006194\n",
       "9        home=private  0.005246\n",
       "15         job=others  0.003069\n",
       "20  marital=separated  0.002520\n",
       "18   marital=divorced  0.000190\n",
       "23      marital=widow  0.000074\n",
       "5         home=ignore  0.000016\n",
       "11           home=unk  0.000000\n",
       "17           job=unk2  0.000000\n",
       "22        marital=unk  0.000000"
      ]
     },
     "execution_count": 100,
     "metadata": {},
     "output_type": "execute_result"
    }
   ],
   "source": [
    "df_importances = pd.DataFrame(feat_importances, columns = [\"feature\", \"gain\"]).sort_values(by = \"gain\", ascending  = False)\n",
    "df_importances"
   ]
  },
  {
   "cell_type": "code",
   "execution_count": 101,
   "id": "1b6e621d",
   "metadata": {},
   "outputs": [
    {
     "data": {
      "image/png": "[encoded data removed]",
      "text/plain": [
       "<Figure size 432x288 with 1 Axes>"
      ]
     },
     "metadata": {
      "needs_background": "light"
     },
     "output_type": "display_data"
    }
   ],
   "source": [
    "df_importances = df_importances[df_importances.gain > 0.01]\n",
    "\n",
    "num = len(df_importances)\n",
    "\n",
    "plt.plot(figsize = (6,4))\n",
    "plt.barh(range(num), df_importances.gain[::-1])\n",
    "plt.yticks(range(num), df_importances.feature[::-1])\n",
    "\n",
    "plt.show()"
   ]
  },
  {
   "cell_type": "markdown",
   "id": "9024fc4a",
   "metadata": {},
   "source": [
    "<a name=\"ap4\"></a>\n",
    "# 4. XGBoost"
   ]
  },
  {
   "cell_type": "code",
   "execution_count": 39,
   "id": "342ed96f",
   "metadata": {},
   "outputs": [],
   "source": [
    "dtrain = xgb.DMatrix(data = X_train, label = Y_train, feature_names = dv.feature_names_)\n",
    "dval = xgb.DMatrix(data = X_val, label = Y_val, feature_names = dv.feature_names_)"
   ]
  },
  {
   "cell_type": "code",
   "execution_count": 40,
   "id": "137143ba",
   "metadata": {},
   "outputs": [],
   "source": [
    "xgb_params = {\n",
    "    'eta': 0.3,\n",
    "    'max_depth': 6,\n",
    "    'min_child_weight': 1, \n",
    "    'objective': 'binary:logistic',\n",
    "    'eval_metric': 'auc',\n",
    "    'nthread': 8,\n",
    "    'seed': 1,\n",
    "}"
   ]
  },
  {
   "cell_type": "code",
   "execution_count": 41,
   "id": "0860532c",
   "metadata": {},
   "outputs": [],
   "source": [
    "watchlist = [(dtrain, 'train'), (dval, 'val')]"
   ]
  },
  {
   "cell_type": "markdown",
   "id": "089c1506",
   "metadata": {},
   "source": [
    "Function for extranting information of xgb.train:"
   ]
  },
  {
   "cell_type": "code",
   "execution_count": 42,
   "id": "252bf995",
   "metadata": {},
   "outputs": [],
   "source": [
    "def parse_xgb_output(output):\n",
    "    tree = []\n",
    "    aucs_train = []\n",
    "    aucs_val = []\n",
    "\n",
    "    for line in output.stdout.strip().split(\"\\n\"):\n",
    "        it_line, train_line, val_line = line.split(\"\\t\")\n",
    "\n",
    "        it = int(it_line.strip(\"[]\"))\n",
    "        train = float(train_line.split(\":\")[1])\n",
    "        val = float(val_line.split(\":\")[1])\n",
    "\n",
    "        tree.append(it)\n",
    "        aucs_train.append(train)\n",
    "        aucs_val.append(val)\n",
    "\n",
    "    return tree, aucs_train, aucs_val"
   ]
  },
  {
   "cell_type": "code",
   "execution_count": 43,
   "id": "86730bce",
   "metadata": {},
   "outputs": [],
   "source": [
    "%%capture output\n",
    "\n",
    "model = xgb.train(xgb_params, dtrain,\n",
    "                  num_boost_round = 100,\n",
    "                  evals = watchlist, verbose_eval = 5)"
   ]
  },
  {
   "cell_type": "code",
   "execution_count": 44,
   "id": "ea6b880b",
   "metadata": {},
   "outputs": [
    {
     "name": "stdout",
     "output_type": "stream",
     "text": [
      "Best choice: (0.82993, 20)\n"
     ]
    }
   ],
   "source": [
    "tree, aucs_train, aucs_val_eta03 = parse_xgb_output(output)\n",
    "\n",
    "print(\"Best choice: {}\".format(max(zip(aucs_val_eta03, tree))))"
   ]
  },
  {
   "cell_type": "code",
   "execution_count": 45,
   "id": "2ac0d4ad",
   "metadata": {},
   "outputs": [
    {
     "data": {
      "image/png": "[encoded data removed]",
      "text/plain": [
       "<Figure size 432x288 with 1 Axes>"
      ]
     },
     "metadata": {
      "needs_background": "light"
     },
     "output_type": "display_data"
    }
   ],
   "source": [
    "plt.figure(figsize = (6, 4))\n",
    "\n",
    "plt.plot(tree, aucs_train, color = \"black\", linestyle = \"dashed\", label = \"Train AUC\")\n",
    "plt.plot(tree, aucs_val_eta03, color = \"black\", linestyle = \"solid\", label = \"Validation AUC\")\n",
    "\n",
    "plt.xticks(range(0, 101, 25))\n",
    "plt.legend(loc = \"best\")\n",
    "\n",
    "plt.title(\"XGBoost: number of trees vs AUC\")\n",
    "plt.xlabel(\"Number of trees\")\n",
    "plt.ylabel(\"AUC\")\n",
    "\n",
    "plt.show()"
   ]
  },
  {
   "cell_type": "markdown",
   "id": "4643be9f",
   "metadata": {},
   "source": [
    "As we can see our model performance in validation step is much worse than in training. The model is overfitting so let's tune some hyperparameters."
   ]
  },
  {
   "cell_type": "markdown",
   "id": "b4ae0931",
   "metadata": {},
   "source": [
    "<a name=\"ap4_1\"></a>\n",
    "## 4.1.Tuning hyperparameters"
   ]
  },
  {
   "cell_type": "markdown",
   "id": "894151b7",
   "metadata": {},
   "source": [
    "We are going to tune the following parameters:\n",
    "   + eta.\n",
    "   + max_depth.\n",
    "   + min_child_witdh.\n",
    "   + num_boost_round"
   ]
  },
  {
   "cell_type": "markdown",
   "id": "98635110",
   "metadata": {},
   "source": [
    "<a name=\"ap4_1_1\"></a>\n",
    "### 4.1.1. eta"
   ]
  },
  {
   "cell_type": "markdown",
   "id": "89fbbd3e",
   "metadata": {},
   "source": [
    "For smaller datasets is better a value like this one or 0.05. The default (0.3) value is suitable for large datasets."
   ]
  },
  {
   "cell_type": "markdown",
   "id": "6e7cc15c",
   "metadata": {},
   "source": [
    "`eta = 0.1`."
   ]
  },
  {
   "cell_type": "code",
   "execution_count": 46,
   "id": "a649b23f",
   "metadata": {},
   "outputs": [],
   "source": [
    "%%capture output\n",
    "\n",
    "xgb_params = {\n",
    "    'eta': 0.1,\n",
    "    'max_depth': 6,\n",
    "    'min_child_weight': 1,\n",
    "    'objective': 'binary:logistic',\n",
    "    'eval_metric': 'auc',\n",
    "    'nthread': 8,\n",
    "    'seed': 1,\n",
    "}\n",
    "\n",
    "model = xgb.train(xgb_params, dtrain,\n",
    "                  num_boost_round = 500, verbose_eval = 10,\n",
    "                  evals = watchlist)"
   ]
  },
  {
   "cell_type": "code",
   "execution_count": 47,
   "id": "5a4697e9",
   "metadata": {},
   "outputs": [
    {
     "name": "stdout",
     "output_type": "stream",
     "text": [
      "Best choice: (0.83769, 60)\n"
     ]
    }
   ],
   "source": [
    "tree, _, aucs_val_eta01 = parse_xgb_output(output)\n",
    "\n",
    "print(\"Best choice: {}\".format(max(zip(aucs_val_eta01, tree))))"
   ]
  },
  {
   "cell_type": "markdown",
   "id": "19e76ea3",
   "metadata": {},
   "source": [
    "`eta = 0.05`. "
   ]
  },
  {
   "cell_type": "code",
   "execution_count": 48,
   "id": "6c817418",
   "metadata": {},
   "outputs": [],
   "source": [
    "%%capture output\n",
    "\n",
    "xgb_params = {\n",
    "    'eta': 0.05,\n",
    "    'max_depth': 6,\n",
    "    'min_child_weight': 1,\n",
    "    'objective': 'binary:logistic',\n",
    "    'eval_metric': 'auc',\n",
    "    'nthread': 8,\n",
    "    'seed': 1,\n",
    "}\n",
    "\n",
    "model = xgb.train(xgb_params, dtrain,\n",
    "                  num_boost_round = 500, verbose_eval = 10,\n",
    "                  evals = watchlist)"
   ]
  },
  {
   "cell_type": "code",
   "execution_count": 49,
   "id": "13cde667",
   "metadata": {},
   "outputs": [
    {
     "name": "stdout",
     "output_type": "stream",
     "text": [
      "Best choice: (0.84134, 130)\n"
     ]
    }
   ],
   "source": [
    "tree, _, aucs_val_eta005 = parse_xgb_output(output)\n",
    "\n",
    "print(\"Best choice: {}\".format(max(zip(aucs_val_eta005, tree))))"
   ]
  },
  {
   "cell_type": "markdown",
   "id": "dbfdb334",
   "metadata": {},
   "source": [
    "`eta = 0.01`. "
   ]
  },
  {
   "cell_type": "code",
   "execution_count": 50,
   "id": "9a954f5c",
   "metadata": {},
   "outputs": [],
   "source": [
    "%%capture output\n",
    "\n",
    "xgb_params = {\n",
    "    'eta': 0.01,\n",
    "    'max_depth': 6,\n",
    "    'min_child_weight': 1,\n",
    "    'objective': 'binary:logistic',\n",
    "    'eval_metric': 'auc',\n",
    "    'nthread': 8,\n",
    "    'seed': 1,\n",
    "}\n",
    "\n",
    "model = xgb.train(xgb_params, dtrain,\n",
    "                  num_boost_round = 500, verbose_eval = 10,\n",
    "                  evals = watchlist)"
   ]
  },
  {
   "cell_type": "code",
   "execution_count": 51,
   "id": "db72e896",
   "metadata": {},
   "outputs": [
    {
     "name": "stdout",
     "output_type": "stream",
     "text": [
      "Best choice: (0.83629, 390)\n"
     ]
    }
   ],
   "source": [
    "tree, _, aucs_val_eta001 = parse_xgb_output(output)\n",
    "\n",
    "print(\"Best choice: {}\".format(max(zip(aucs_val_eta001, tree))))"
   ]
  },
  {
   "cell_type": "code",
   "execution_count": 52,
   "id": "7b54758c",
   "metadata": {},
   "outputs": [
    {
     "data": {
      "image/png": "[encoded data removed]",
      "text/plain": [
       "<Figure size 504x360 with 1 Axes>"
      ]
     },
     "metadata": {
      "needs_background": "light"
     },
     "output_type": "display_data"
    }
   ],
   "source": [
    "plt.figure(figsize = (7, 5))\n",
    "\n",
    "plt.plot(tree, aucs_val_eta01, color = \"black\", linestyle = \"dashed\", label = \"eta = 0.1\")\n",
    "plt.plot(tree, aucs_val_eta005, color = \"black\", linestyle = \"solid\", label = \"eta = 0.05\")\n",
    "plt.plot(tree, aucs_val_eta001, color = \"grey\", linestyle = \"dashed\", label = \"eta = 0.001\")\n",
    "\n",
    "plt.xticks(range(0, 501, 100))\n",
    "plt.legend()\n",
    "\n",
    "plt.title('The effect of eta on model performance')\n",
    "plt.xlabel('Number of trees')\n",
    "plt.ylabel('AUC (validation)')\n",
    "\n",
    "plt.show()"
   ]
  },
  {
   "cell_type": "markdown",
   "id": "b0bedc59",
   "metadata": {},
   "source": [
    "When eta is 0.05, the performance is similar to 0.1, but it takes 60 more iterations to reach the peak. For eta of 0.01, it grows too slowly, and even after 500 iterations, it hasn’t reached the peak. If we tried it for more iterations, it could potentially get to the same level of AUC as other values. Even if it was the case, it’s not practical: it becomes computationally expensive to evaluate all these trees during prediction time. Thus, we use the value of 0.1 for eta.\n",
    "\n",
    "+ Best choice: `eta = 0.1`."
   ]
  },
  {
   "cell_type": "markdown",
   "id": "7d604823",
   "metadata": {},
   "source": [
    "<a name=\"ap4_1_2\"></a>\n",
    "### 4.1.2. max_depth"
   ]
  },
  {
   "cell_type": "markdown",
   "id": "f36f2f8a",
   "metadata": {},
   "source": [
    "The default value is 6 so we are going to try a higher value, for instance 6, and a lower value, for instance 3. Let's analize the results:"
   ]
  },
  {
   "cell_type": "markdown",
   "id": "92d6f852",
   "metadata": {},
   "source": [
    "`max_depth = 3`."
   ]
  },
  {
   "cell_type": "code",
   "execution_count": 53,
   "id": "2c402f63",
   "metadata": {},
   "outputs": [],
   "source": [
    "%%capture output\n",
    "\n",
    "xgb_params = {\n",
    "    'eta': 0.1,\n",
    "    'max_depth': 3,\n",
    "    'min_child_weight': 1,\n",
    "    'objective': 'binary:logistic',\n",
    "    'eval_metric': 'auc',\n",
    "    'nthread': 8,\n",
    "    'seed': 1,\n",
    "}\n",
    "\n",
    "model = xgb.train(xgb_params, dtrain,\n",
    "                  num_boost_round = 500, verbose_eval = 10,\n",
    "                  evals = watchlist)"
   ]
  },
  {
   "cell_type": "code",
   "execution_count": 54,
   "id": "5bc92bfb",
   "metadata": {},
   "outputs": [
    {
     "name": "stdout",
     "output_type": "stream",
     "text": [
      "Best choice: (0.8514, 100)\n"
     ]
    }
   ],
   "source": [
    "tree, _, aucs_val_depth3 = parse_xgb_output(output)\n",
    "\n",
    "print(\"Best choice: {}\".format(max(zip(aucs_val_depth3, tree))))"
   ]
  },
  {
   "cell_type": "markdown",
   "id": "888a6b27",
   "metadata": {},
   "source": [
    "`max_depth = 6`."
   ]
  },
  {
   "cell_type": "code",
   "execution_count": 55,
   "id": "5fed25ec",
   "metadata": {},
   "outputs": [],
   "source": [
    "%%capture output\n",
    "\n",
    "xgb_params = {\n",
    "    'eta': 0.1,\n",
    "    'max_depth': 6,\n",
    "    'min_child_weight': 1,\n",
    "    'objective': 'binary:logistic',\n",
    "    'eval_metric': 'auc',\n",
    "    'nthread': 8,\n",
    "    'seed': 1,\n",
    "}\n",
    "\n",
    "model = xgb.train(xgb_params, dtrain,\n",
    "                  num_boost_round = 500, verbose_eval = 10,\n",
    "                  evals = watchlist)"
   ]
  },
  {
   "cell_type": "code",
   "execution_count": 56,
   "id": "2f3514cf",
   "metadata": {},
   "outputs": [
    {
     "name": "stdout",
     "output_type": "stream",
     "text": [
      "Best choice: (0.83769, 60)\n"
     ]
    }
   ],
   "source": [
    "tree, _, aucs_val_depth6 = parse_xgb_output(output)\n",
    "\n",
    "print(\"Best choice: {}\".format(max(zip(aucs_val_depth6, tree))))"
   ]
  },
  {
   "cell_type": "markdown",
   "id": "49c20f6d",
   "metadata": {},
   "source": [
    "`max_depth = 10`."
   ]
  },
  {
   "cell_type": "code",
   "execution_count": 57,
   "id": "16eecdc5",
   "metadata": {},
   "outputs": [],
   "source": [
    "%%capture output\n",
    "\n",
    "xgb_params = {\n",
    "    'eta': 0.1,\n",
    "    'max_depth': 10,\n",
    "    'min_child_weight': 1,\n",
    "    'objective': 'binary:logistic',\n",
    "    'eval_metric': 'auc',\n",
    "    'nthread': 8,\n",
    "    'seed': 1,\n",
    "}\n",
    "\n",
    "model = xgb.train(xgb_params, dtrain,\n",
    "                  num_boost_round = 500, verbose_eval = 10,\n",
    "                  evals = watchlist)"
   ]
  },
  {
   "cell_type": "code",
   "execution_count": 58,
   "id": "dd90060a",
   "metadata": {},
   "outputs": [
    {
     "name": "stdout",
     "output_type": "stream",
     "text": [
      "Best choice: (0.82371, 80)\n"
     ]
    }
   ],
   "source": [
    "tree, _, aucs_val_depth10 = parse_xgb_output(output)\n",
    "\n",
    "print(\"Best choice: {}\".format(max(zip(aucs_val_depth10, tree))))"
   ]
  },
  {
   "cell_type": "markdown",
   "id": "02714064",
   "metadata": {},
   "source": [
    "With max_depth = 3 it's better than max_depth = 6 and max_depth = 10. So let's try 4 to see if it's better than 3."
   ]
  },
  {
   "cell_type": "markdown",
   "id": "fd916d70",
   "metadata": {},
   "source": [
    "`max_depth = 4`."
   ]
  },
  {
   "cell_type": "code",
   "execution_count": 59,
   "id": "40afefd0",
   "metadata": {},
   "outputs": [],
   "source": [
    "%%capture output\n",
    "\n",
    "xgb_params = {\n",
    "    'eta': 0.1,\n",
    "    'max_depth': 4,\n",
    "    'min_child_weight': 1,\n",
    "    'objective': 'binary:logistic',\n",
    "    'eval_metric': 'auc',\n",
    "    'nthread': 8,\n",
    "    'seed': 1,\n",
    "}\n",
    "\n",
    "model = xgb.train(xgb_params, dtrain,\n",
    "                  num_boost_round = 500, verbose_eval = 10,\n",
    "                  evals = watchlist)"
   ]
  },
  {
   "cell_type": "code",
   "execution_count": 60,
   "id": "f7db592c",
   "metadata": {},
   "outputs": [
    {
     "name": "stdout",
     "output_type": "stream",
     "text": [
      "Best choice: (0.84456, 60)\n"
     ]
    }
   ],
   "source": [
    "tree, _, aucs_val_depth4 = parse_xgb_output(output)\n",
    "\n",
    "print(\"Best choice: {}\".format(max(zip(aucs_val_depth4, tree))))"
   ]
  },
  {
   "cell_type": "code",
   "execution_count": 61,
   "id": "52d1d7ab",
   "metadata": {},
   "outputs": [
    {
     "data": {
      "image/png": "[encoded data removed]",
      "text/plain": [
       "<Figure size 504x360 with 1 Axes>"
      ]
     },
     "metadata": {
      "needs_background": "light"
     },
     "output_type": "display_data"
    }
   ],
   "source": [
    "plt.figure(figsize = (7, 5))\n",
    "\n",
    "plt.plot(tree, aucs_val_depth3, color = \"black\", linestyle = \"dashed\", label = \"depth = 3\")\n",
    "plt.plot(tree, aucs_val_depth4, color = \"black\", linestyle = \"solid\", label = \"depth = 4\")\n",
    "plt.plot(tree, aucs_val_depth6, color = \"grey\", linestyle = \"dashed\", label = \"depth = 6\")\n",
    "plt.plot(tree, aucs_val_depth10, color = \"grey\", linestyle = \"solid\", label = \"depth = 10\")\n",
    "\n",
    "plt.xticks(range(0, 501, 100))\n",
    "\n",
    "plt.legend()\n",
    "\n",
    "plt.title(\"The effect of max_depth on model performance\")\n",
    "plt.xlabel(\"Number of trees\")\n",
    "plt.ylabel(\"AUC (validation)\")\n",
    "\n",
    "plt.show()"
   ]
  },
  {
   "cell_type": "markdown",
   "id": "eb2a7bbe",
   "metadata": {},
   "source": [
    "It is not better max_depth = 4 than max_depth = 3, so out best choice is:\n",
    "    \n",
    "+ max_depth = 3."
   ]
  },
  {
   "cell_type": "markdown",
   "id": "9396d195",
   "metadata": {},
   "source": [
    "<a name=\"ap4_1_3\"></a>\n",
    "### 4.1.3. min_child_weight"
   ]
  },
  {
   "cell_type": "markdown",
   "id": "208fc65f",
   "metadata": {},
   "source": [
    "`min_child_weight = 1`  (default value)"
   ]
  },
  {
   "cell_type": "code",
   "execution_count": 62,
   "id": "8d931c17",
   "metadata": {},
   "outputs": [],
   "source": [
    "%%capture output\n",
    "\n",
    "xgb_params = {\n",
    "    'eta': 0.1,\n",
    "    'max_depth': 3,\n",
    "    'min_child_weight': 1,\n",
    "    'objective': 'binary:logistic',\n",
    "    'eval_metric': 'auc',\n",
    "    'nthread': 8,\n",
    "    'seed': 1,\n",
    "}\n",
    "\n",
    "model = xgb.train(xgb_params, dtrain,\n",
    "                  num_boost_round = 500, verbose_eval = 10,\n",
    "                  evals = watchlist)"
   ]
  },
  {
   "cell_type": "code",
   "execution_count": 63,
   "id": "01c5f4c6",
   "metadata": {},
   "outputs": [
    {
     "name": "stdout",
     "output_type": "stream",
     "text": [
      "Best choice: (0.8514, 100)\n"
     ]
    }
   ],
   "source": [
    "tree, _, aucs_val_mc1 = parse_xgb_output(output)\n",
    "\n",
    "print(\"Best choice: {}\".format(max(zip(aucs_val_mc1, tree))))"
   ]
  },
  {
   "cell_type": "markdown",
   "id": "e1ca7b3e",
   "metadata": {},
   "source": [
    "`min_child_weight = 10`"
   ]
  },
  {
   "cell_type": "code",
   "execution_count": 64,
   "id": "3778c767",
   "metadata": {},
   "outputs": [],
   "source": [
    "%%capture output\n",
    "\n",
    "xgb_params = {\n",
    "    'eta': 0.1,\n",
    "    'max_depth': 3,\n",
    "    'min_child_weight': 10,\n",
    "    'objective': 'binary:logistic',\n",
    "    'eval_metric': 'auc',\n",
    "    'nthread': 8,\n",
    "    'seed': 1,\n",
    "}\n",
    "\n",
    "model = xgb.train(xgb_params, dtrain,\n",
    "                  num_boost_round = 500, verbose_eval = 10,\n",
    "                  evals = watchlist)"
   ]
  },
  {
   "cell_type": "code",
   "execution_count": 65,
   "id": "4d8fc170",
   "metadata": {},
   "outputs": [
    {
     "name": "stdout",
     "output_type": "stream",
     "text": [
      "Best choice: (0.85239, 230)\n"
     ]
    }
   ],
   "source": [
    "tree, _, aucs_val_mc10 = parse_xgb_output(output)\n",
    "\n",
    "print(\"Best choice: {}\".format(max(zip(aucs_val_mc10, tree))))"
   ]
  },
  {
   "cell_type": "markdown",
   "id": "0f7697a2",
   "metadata": {},
   "source": [
    "`min_child_weight = 30`"
   ]
  },
  {
   "cell_type": "code",
   "execution_count": 66,
   "id": "5801af13",
   "metadata": {},
   "outputs": [],
   "source": [
    "%%capture output\n",
    "\n",
    "xgb_params = {\n",
    "    'eta': 0.1,\n",
    "    'max_depth': 3,\n",
    "    'min_child_weight': 30,\n",
    "    'objective': 'binary:logistic',\n",
    "    'eval_metric': 'auc',\n",
    "    'nthread': 8,\n",
    "    'seed': 1,\n",
    "}\n",
    "\n",
    "model = xgb.train(xgb_params, dtrain,\n",
    "                  num_boost_round = 500, verbose_eval = 10,\n",
    "                  evals = watchlist)"
   ]
  },
  {
   "cell_type": "code",
   "execution_count": 67,
   "id": "4c09ec7d",
   "metadata": {},
   "outputs": [
    {
     "name": "stdout",
     "output_type": "stream",
     "text": [
      "Best choice: (0.85135, 240)\n"
     ]
    }
   ],
   "source": [
    "tree, _, aucs_val_mc30 = parse_xgb_output(output)\n",
    "\n",
    "print(\"Best choice: {}\".format(max(zip(aucs_val_mc30, tree))))"
   ]
  },
  {
   "cell_type": "code",
   "execution_count": 68,
   "id": "93353d39",
   "metadata": {},
   "outputs": [
    {
     "data": {
      "image/png": "[encoded data removed]",
      "text/plain": [
       "<Figure size 504x360 with 1 Axes>"
      ]
     },
     "metadata": {
      "needs_background": "light"
     },
     "output_type": "display_data"
    }
   ],
   "source": [
    "plt.figure(figsize = (7, 5))\n",
    "\n",
    "plt.plot(tree, aucs_val_mc1, color = \"black\", linestyle = \"dashed\", label = \"min_child_weight = 1\")\n",
    "plt.plot(tree, aucs_val_mc10, color = \"black\", linestyle = \"solid\", label = \"min_child_weight = 10\")\n",
    "plt.plot(tree, aucs_val_mc30, color = \"grey\", linestyle = \"dashed\", label = \"min_child_weight = 30\")\n",
    "\n",
    "plt.xticks(range(0, 501, 100))\n",
    "plt.legend()\n",
    "\n",
    "plt.title(\"The effect of min_child_weight on model performance\")\n",
    "plt.xlabel(\"Number of trees\")\n",
    "plt.ylabel(\"AUC (validation)\")\n",
    "\n",
    "plt.show()"
   ]
  },
  {
   "cell_type": "markdown",
   "id": "47905251",
   "metadata": {},
   "source": [
    "The difference between them is not significant so let´s choose the default value:\n",
    "+ min_child_weight = 1."
   ]
  },
  {
   "cell_type": "markdown",
   "id": "e803dbd6",
   "metadata": {},
   "source": [
    "<a name=\"ap4_1_4\"></a>\n",
    "### 4.1.4. num_boost_round (number of trees)"
   ]
  },
  {
   "cell_type": "code",
   "execution_count": 69,
   "id": "ecd905b2",
   "metadata": {},
   "outputs": [],
   "source": [
    "%%capture output\n",
    "\n",
    "xgb_params = {\n",
    "    'eta': 0.1,\n",
    "    'max_depth': 3,\n",
    "    'min_child_weight': 1,\n",
    "    'objective': 'binary:logistic',\n",
    "    'eval_metric': 'auc',\n",
    "    'nthread': 8,\n",
    "    'seed': 1,\n",
    "}\n",
    "\n",
    "model = xgb.train(xgb_params, dtrain,\n",
    "                  num_boost_round = 500, verbose_eval = 10,\n",
    "                  evals = watchlist)"
   ]
  },
  {
   "cell_type": "code",
   "execution_count": 70,
   "id": "2438b9c5",
   "metadata": {},
   "outputs": [
    {
     "name": "stdout",
     "output_type": "stream",
     "text": [
      "Best choice: (0.8514, 100)\n"
     ]
    }
   ],
   "source": [
    "tree, _, aucs_val = parse_xgb_output(output)\n",
    "\n",
    "print(\"Best choice: {}\".format(max(zip(aucs_val, tree))))"
   ]
  },
  {
   "cell_type": "code",
   "execution_count": 71,
   "id": "c601e8f4",
   "metadata": {},
   "outputs": [
    {
     "data": {
      "image/png": "[encoded data removed]",
      "text/plain": [
       "<Figure size 504x360 with 1 Axes>"
      ]
     },
     "metadata": {
      "needs_background": "light"
     },
     "output_type": "display_data"
    }
   ],
   "source": [
    "plt.figure(figsize = (7, 5))\n",
    "\n",
    "plt.plot(tree, aucs_val, color = \"black\", linestyle = \"solid\")\n",
    "plt.xticks(range(0, 501, 100))\n",
    "\n",
    "\n",
    "plt.title(\"Selecting the number of trees\")\n",
    "plt.xlabel(\"Number of trees\")\n",
    "plt.ylabel(\"AUC (validation)\")\n",
    "           \n",
    "plt.show()"
   ]
  },
  {
   "cell_type": "markdown",
   "id": "b85093e9",
   "metadata": {},
   "source": [
    "The best choice is:\n",
    "   + num_boost_round = 100."
   ]
  },
  {
   "cell_type": "markdown",
   "id": "436cf9f0",
   "metadata": {},
   "source": [
    "<a name=\"ap4_2\"></a>\n",
    "## 4.2. Model selected"
   ]
  },
  {
   "cell_type": "code",
   "execution_count": 72,
   "id": "f9b2584e",
   "metadata": {},
   "outputs": [],
   "source": [
    "%%capture output\n",
    "\n",
    "xgb_params = {\n",
    "    'eta': 0.1,\n",
    "    'max_depth': 3,\n",
    "    'min_child_weight': 1,\n",
    "    'objective': 'binary:logistic',\n",
    "    'eval_metric': 'auc',\n",
    "    'nthread': 8,\n",
    "    'seed': 1,\n",
    "}\n",
    "\n",
    "model = xgb.train(xgb_params, dtrain,\n",
    "                  num_boost_round = 100, verbose_eval = 10,\n",
    "                  evals = watchlist)\n",
    "\n",
    "Y_pred_val_xgb = model.predict(dval)\n",
    "ROC_xgb = roc_auc_score(Y_val, Y_pred_val)"
   ]
  },
  {
   "cell_type": "code",
   "execution_count": 73,
   "id": "0f71e191",
   "metadata": {},
   "outputs": [
    {
     "name": "stdout",
     "output_type": "stream",
     "text": [
      "[0]\ttrain-auc:0.78349\tval-auc:0.74158\n",
      "[10]\ttrain-auc:0.84108\tval-auc:0.81341\n",
      "[20]\ttrain-auc:0.86177\tval-auc:0.82784\n",
      "[30]\ttrain-auc:0.87375\tval-auc:0.83696\n",
      "[40]\ttrain-auc:0.88344\tval-auc:0.84197\n",
      "[50]\ttrain-auc:0.89099\tval-auc:0.84614\n",
      "[60]\ttrain-auc:0.89745\tval-auc:0.84778\n",
      "[70]\ttrain-auc:0.90232\tval-auc:0.85009\n",
      "[80]\ttrain-auc:0.90697\tval-auc:0.85025\n",
      "[90]\ttrain-auc:0.91104\tval-auc:0.85042\n",
      "[99]\ttrain-auc:0.91422\tval-auc:0.85142\n",
      "\n",
      "ROC XGB 0.8416\n"
     ]
    }
   ],
   "source": [
    "print(output)\n",
    "print(\"ROC XGB {}\".format(ROC))"
   ]
  },
  {
   "cell_type": "code",
   "execution_count": 74,
   "id": "c71bc526",
   "metadata": {},
   "outputs": [
    {
     "data": {
      "image/png": "[encoded data removed]",
      "text/plain": [
       "<Figure size 360x360 with 1 Axes>"
      ]
     },
     "metadata": {
      "needs_background": "light"
     },
     "output_type": "display_data"
    }
   ],
   "source": [
    "FPR, TPR, _ = roc_curve(Y_val, Y_pred_val_xgb)\n",
    "\n",
    "plt.figure(figsize = (5, 5))\n",
    "\n",
    "plt.plot(FPR, TPR, color = \"black\")\n",
    "plt.plot([0, 1], [0, 1], color = \"black\", linewidth  = 0.7, linestyle = \"dashed\", alpha = 0.5)\n",
    "\n",
    "plt.xlabel(\"False Positive Rate\")\n",
    "plt.ylabel(\"True Positive Rate\")\n",
    "plt.title(\"ROC curve\")\n",
    "\n",
    "plt.show()"
   ]
  },
  {
   "cell_type": "markdown",
   "id": "669ed049",
   "metadata": {},
   "source": [
    "<a name=\"ap4_2_1\"></a>\n",
    "### 4.2.1 Feature importance"
   ]
  },
  {
   "cell_type": "code",
   "execution_count": 109,
   "id": "224e1c91",
   "metadata": {},
   "outputs": [
    {
     "data": {
      "text/plain": [
       "[('income', 107.0),\n",
       " ('amount', 104.0),\n",
       " ('price', 80.0),\n",
       " ('seniority', 70.0),\n",
       " ('assets', 61.0),\n",
       " ('records=no', 44.0),\n",
       " ('age', 40.0),\n",
       " ('expenses', 34.0),\n",
       " ('time', 28.0),\n",
       " ('debt', 27.0),\n",
       " ('home=parents', 18.0),\n",
       " ('job=partime', 14.0),\n",
       " ('home=owner', 14.0),\n",
       " ('marital=separated', 12.0),\n",
       " ('home=private', 12.0),\n",
       " ('job=fixed', 10.0),\n",
       " ('job=others', 5.0),\n",
       " ('home=rent', 3.0),\n",
       " ('job=freelance', 2.0),\n",
       " ('home=other', 2.0),\n",
       " ('marital=married', 1.0)]"
      ]
     },
     "execution_count": 109,
     "metadata": {},
     "output_type": "execute_result"
    }
   ],
   "source": [
    "scores = model.get_score(importance_type = \"weight\")\n",
    "scores = sorted(scores.items(), key = lambda x: x[1])\n",
    "list(reversed(scores))"
   ]
  },
  {
   "cell_type": "code",
   "execution_count": 110,
   "id": "1e698e62",
   "metadata": {},
   "outputs": [
    {
     "data": {
      "image/png": "[encoded data removed]",
      "text/plain": [
       "<Figure size 432x576 with 1 Axes>"
      ]
     },
     "metadata": {
      "needs_background": "light"
     },
     "output_type": "display_data"
    }
   ],
   "source": [
    "names = [n for (n, s) in scores]\n",
    "scores = [s for (n, s) in scores]\n",
    "\n",
    "plt.figure(figsize = (6, 8))\n",
    "\n",
    "plt.barh(np.arange(len(scores)), scores)\n",
    "plt.yticks(np.arange(len(names)), names)\n",
    "\n",
    "plt.show()"
   ]
  },
  {
   "cell_type": "markdown",
   "id": "57513453",
   "metadata": {},
   "source": [
    "<a name=\"ap5\"></a>\n",
    "# 5. Comparison between models"
   ]
  },
  {
   "cell_type": "code",
   "execution_count": 75,
   "id": "563de4a7",
   "metadata": {},
   "outputs": [
    {
     "name": "stdout",
     "output_type": "stream",
     "text": [
      "ROC scores / model:\n",
      " \n",
      " + Decision Trees: 0.7426742595079434\n",
      " + Random Forest: 0.841595510173056\n",
      " + XGBoost: 0.841595510173056\n"
     ]
    }
   ],
   "source": [
    "print(\"ROC scores / model:\\n \")\n",
    "\n",
    "print(\" + Decision Trees: {}\".format(ROC_dt))\n",
    "print(\" + Random Forest: {}\".format(ROC_rf))\n",
    "print(\" + XGBoost: {}\".format(ROC_xgb))"
   ]
  },
  {
   "cell_type": "code",
   "execution_count": 76,
   "id": "979422fa",
   "metadata": {},
   "outputs": [
    {
     "data": {
      "image/png": "[encoded data removed]",
      "text/plain": [
       "<Figure size 504x504 with 1 Axes>"
      ]
     },
     "metadata": {
      "needs_background": "light"
     },
     "output_type": "display_data"
    }
   ],
   "source": [
    "plt.figure(figsize = (7, 7))\n",
    "\n",
    "FPR, TPR, _ = roc_curve(Y_val, Y_pred_val_dt)\n",
    "plt.plot(FPR, TPR, color = \"red\", linestyle = \"dashed\", label = \"Decision Tree ROC\")\n",
    "\n",
    "FPR, TPR, _ = roc_curve(Y_val, Y_pred_val_rf)\n",
    "plt.plot(FPR, TPR, color = \"blue\", linestyle = \"dashed\", label = \"Random Forest ROC\")\n",
    "\n",
    "FPR, TPR, _ = roc_curve(Y_val, Y_pred_val_xgb)\n",
    "plt.plot(FPR, TPR, color = \"grey\", linestyle = \"solid\", label = \"XGBoost ROC\")\n",
    "\n",
    "plt.plot([0, 1], [0, 1], color = \"black\", linewidth = 0.7, linestyle = \"dashed\", alpha = 0.5)\n",
    "\n",
    "plt.xlabel(\"False Positive Rate\")\n",
    "plt.ylabel(\"True Positive Rate\")\n",
    "plt.title(\"ROC curve\")\n",
    "\n",
    "plt.legend(loc = \"best\")\n",
    "\n",
    "plt.show()"
   ]
  },
  {
   "cell_type": "markdown",
   "id": "e184d80c",
   "metadata": {},
   "source": [
    "After applying to our models both training and validation datasets, and tunning their hyperparamters, we can conclude that XGBoost model have a similar performance (checking out the ROC scores). It is slightly better than the Random Forest performance.\n",
    "\n",
    "Now, let's apply the test set to XGBoost model to conclude it is our best choice for our proyect:"
   ]
  },
  {
   "cell_type": "markdown",
   "id": "8c4d992b",
   "metadata": {},
   "source": [
    "<a name=\"ap6\"></a>\n",
    "# 6. Final test"
   ]
  },
  {
   "cell_type": "code",
   "execution_count": 84,
   "id": "5393b283",
   "metadata": {},
   "outputs": [
    {
     "name": "stdout",
     "output_type": "stream",
     "text": [
      "XGBoost Final ROC: 0.841595510173056\n"
     ]
    }
   ],
   "source": [
    "dtest = xgb.DMatrix(data = X_test, label = Y_test, feature_names = dv.feature_names_)\n",
    "\n",
    "Y_pred_test_xgb = model.predict(dtest)\n",
    "ROC_xgb_final = roc_auc_score(Y_val, Y_pred_val)\n",
    "\n",
    "print(\"XGBoost Final ROC: {}\".format(ROC_xgb_final))"
   ]
  },
  {
   "cell_type": "markdown",
   "id": "22dd2d51",
   "metadata": {},
   "source": [
    "We can conclude the model that fits better in our proyect is the `XGBoost`."
   ]
  }
 ],
 "metadata": {
  "kernelspec": {
   "display_name": "Python 3 (ipykernel)",
   "language": "python",
   "name": "python3"
  },
  "language_info": {
   "codemirror_mode": {
    "name": "ipython",
    "version": 3
   },
   "file_extension": ".py",
   "mimetype": "text/x-python",
   "name": "python",
   "nbconvert_exporter": "python",
   "pygments_lexer": "ipython3",
   "version": "3.9.12"
  }
 },
 "nbformat": 4,
 "nbformat_minor": 5
}
